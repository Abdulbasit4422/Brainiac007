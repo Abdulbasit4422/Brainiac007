{
  "metadata": {
    "kernelspec": {
      "display_name": "Python 3 (ipykernel)",
      "language": "python",
      "name": "python3"
    },
    "language_info": {
      "codemirror_mode": {
        "name": "ipython",
        "version": 3
      },
      "file_extension": ".py",
      "mimetype": "text/x-python",
      "name": "python",
      "nbconvert_exporter": "python",
      "pygments_lexer": "ipython3",
      "version": "3.9.12"
    },
    "colab": {
      "provenance": [],
      "include_colab_link": true
    },
    "kaggle": {
      "accelerator": "none",
      "dataSources": [],
      "dockerImageVersionId": 30886,
      "isInternetEnabled": false,
      "language": "python",
      "sourceType": "notebook",
      "isGpuEnabled": false
    }
  },
  "nbformat_minor": 0,
  "nbformat": 4,
  "cells": [
    {
      "cell_type": "markdown",
      "metadata": {
        "id": "view-in-github",
        "colab_type": "text"
      },
      "source": [
        "<a href=\"https://colab.research.google.com/github/Abdulbasit4422/Brainiac007/blob/main/week_1_introduction_to_python.ipynb\" target=\"_parent\"><img src=\"https://colab.research.google.com/assets/colab-badge.svg\" alt=\"Open In Colab\"/></a>"
      ]
    },
    {
      "cell_type": "markdown",
      "source": [
        "# Introduction to Python Programming\n",
        "## SPARK Program - Computing Basics Module\n",
        "\n",
        "### Course Summary\n",
        "This notebook teaches you the basics of Python programming through examples and scenarios from healthcare. The concepts you learn here will build a strong foundation for your journey into data analysis and computing."
      ],
      "metadata": {
        "id": "4RGROcCVLHxY"
      }
    },
    {
      "cell_type": "markdown",
      "source": [],
      "metadata": {
        "id": "6VDS3ACxLHxr"
      }
    },
    {
      "cell_type": "markdown",
      "source": [
        "**Module Duration:** 8-10 hours\n",
        "\n",
        "**Prerequisites:** None\n",
        "\n",
        "**Environment:** Google Colab/Kaggle/VS Code"
      ],
      "metadata": {
        "id": "AImJMGPMLHxt"
      }
    },
    {
      "cell_type": "markdown",
      "source": [
        "### Module Structure\n",
        "\n",
        "**1. Python Basics (2-3 hours)**\n",
        "- Getting started with Python\n",
        "  * Understanding variables\n",
        "  * Working with numbers\n",
        "  * Handling text\n",
        "  * Converting between different types of data\n",
        "  * Practice with healthcare examples\n",
        "\n",
        "**2. Data Structures (2-3 hours)**\n",
        "- Ways to organize data\n",
        "  * Lists to store multiple items\n",
        "  * Dictionaries to pair related information\n",
        "  * Tuples for unchangeable data\n",
        "  * List comprehension for efficient processing\n",
        "  * Examples using health records\n",
        "\n",
        "**3. Control Flow (2 hours)**\n",
        "- Making decisions in code\n",
        "  * If-else statements\n",
        "  * Loops for repetitive tasks\n",
        "  * Handling errors\n",
        "  * Real-world healthcare examples\n",
        "\n",
        "**4. Introduction to NumPy (2 hours)**\n",
        "- Working with numbers efficiently\n",
        "  * Creating and using arrays\n",
        "  * Selecting data from arrays\n",
        "  * Mathematical operations\n",
        "  * Practical examples with medical data"
      ],
      "metadata": {
        "id": "6kuUIwT9LHxy"
      }
    },
    {
      "cell_type": "markdown",
      "source": [
        "### Learning Objectives\n",
        "After completing this module, you will be able to:\n",
        "\n",
        "1. **Write Basic Python Code**\n",
        "   - Create and use variables\n",
        "   - Do calculations\n",
        "   - Work with text\n",
        "   - Convert data between different forms\n",
        "\n",
        "2. **Organize Data**\n",
        "   - Store information efficiently\n",
        "   - Work with groups of data\n",
        "   - Process information quickly\n",
        "   - Handle different types of data\n",
        "\n",
        "3. **Utilize Python's Control Flow**\n",
        "   - Write code that makes decisions\n",
        "   - Automate repeated tasks\n",
        "   - Fix common errors\n",
        "   - Write clear, organized code\n",
        "\n",
        "4. **Use NumPy**\n",
        "   - Work with arrays of numbers\n",
        "   - Do calculations efficiently\n",
        "   - Handle sets of data\n",
        "   - Prepare for more advanced topics\n"
      ],
      "metadata": {
        "id": "wS1pGntsLHx1"
      }
    },
    {
      "cell_type": "markdown",
      "source": [
        "### How to Use This Notebook\n",
        "- 📚 **Theory:** Explanations of concepts\n",
        "- 💻 **Examples:** Real-world demonstrations\n",
        "- ✍️ **Practice:** Hands-on exercises\n",
        "- ❓ **Checks:** Test your understanding\n",
        "- 💡 **Tips:** Helpful programming advice\n"
      ],
      "metadata": {
        "id": "vCwLndNrLHx4"
      }
    },
    {
      "cell_type": "markdown",
      "source": [
        "### Before You Start\n",
        "You need:\n",
        "- Basic computer skills 👩‍💻\n",
        "- A Python environment 💻\n",
        "- Eagerness to learn 📖📖📖\n",
        "- Maybe, a cup of coffee ☕\n",
        "\n",
        "### Getting Started\n",
        "We'll start with the basics and gradually build your skills using examples you can relate to. Each section includes explanations, examples, and exercises to help you practice what you've learned."
      ],
      "metadata": {
        "id": "pm6nOr1yLHx7"
      }
    },
    {
      "cell_type": "markdown",
      "source": [
        "## **🧐 What is Python?**  \n",
        "### **Python is like a Universal Remote for Computers!** 🎛️  \n",
        "- Python is a **high-level programming language** that lets you **talk to computers** using simple, readable commands, called **code**.  \n",
        "- It’s **flexible**, meaning you can use it in several diverse applications such as in **Artificial Intelligence (AI), data science, web development, automation, and more**.  \n",
        "- Python’s **simplicity** makes it the **#1 choice for beginners and professionals alike**.  "
      ],
      "metadata": {
        "id": "C97lX1P5bChr"
      }
    },
    {
      "cell_type": "markdown",
      "source": [
        "## **🚀 Why is Python So Popular?**  \n",
        "- **Easy to Learn:** Uses **natural language-like syntax** (few complex symbols as compared to other programming languages!).  \n",
        "- **Powerful Libraries:** Comes with **ready-made tools** for everything—from data science to medical imaging!  \n",
        "- **Great for AI & Machine Learning:** Python is the **backbone of AI**—the same AI that’s revolutionizing several fields of industry, including medicine!  \n",
        "\n",
        "### **Python in Action: Where is it Used?**  \n",
        "✅ **Web Development:** (Django, Flask) — powering websites like YouTube & Instagram.  \n",
        "✅ **AI & Machine Learning:** (TensorFlow, PyTorch) — self-driving cars, chatbots, and medical AI.  \n",
        "✅ **Automation:** (Selenium, OpenCV) — automating repetitive tasks like medical billing.  \n",
        "✅ **Data Science & Research:** (Pandas, NumPy, SciPy) — analyzing patient data and medical records.  \n",
        "✅ **Medical Imaging:** (PyDICOM, SimpleITK, OpenCV) — processing MRI and CT scans for diagnostics and research.\n",
        "\n",
        "💡 **Did You Know?**  \n",
        "NASA, Google, and even hospitals worldwide use **Python** for **medical research & imaging**  "
      ],
      "metadata": {
        "id": "-7v-tTfybPg_"
      }
    },
    {
      "cell_type": "markdown",
      "source": [
        "     ***"
      ],
      "metadata": {
        "id": "J6j8NmfcwqMz"
      }
    },
    {
      "cell_type": "markdown",
      "source": [
        "# **Python Variables and Data Types**\n",
        "\n",
        "## **📌 What You Will Learn Here**  \n",
        "💡 **By the end of this section, you'll be able to:**  \n",
        "✅ Understand what variables are and how they store data.  \n",
        "✅ Learn the best practices for naming variables.  \n",
        "✅ Work with different data types: Strings, Integers, Floats, and Booleans.  \n",
        "✅ Use medical scenarios to illustrate variable naming and data types.  \n",
        "✅ Understand type conversion and how to change one data type to another."
      ],
      "metadata": {
        "id": "I87mqKfQ3Ex-"
      }
    },
    {
      "cell_type": "markdown",
      "source": [
        "### **Imagine This…**  \n",
        "You’re a **radiologist** handling a multitude of patients every day, each with their own set of medical scans and histories.\n",
        "![radiologist](https://pharmagyaan.com/wp-content/uploads/2021/03/what-is-a-radiologist.jpg)\n",
        "You need a way to store and manage all the information efficiently—whether it’s the patient's name, scan results, or tumor size. Managing this data manually would be overwhelming, but with Python variables, data types and data structures, this not becomes easy but also efficient and flexible and intuitive to deal with.\n",
        "\n",
        "\n",
        "\n",
        "\n",
        "\n"
      ],
      "metadata": {
        "id": "Om3zr-sNWJxF"
      }
    },
    {
      "cell_type": "markdown",
      "source": [
        "## **1️⃣ Understanding Variables**  \n",
        "\n",
        "### 🔹 **What is a Variable?**  \n",
        "Imagine you are a **radiologist** working at a busy hospital. You need to keep track of a lot of important information about each patient, like their **name**, **age**, **blood type**, and **medical condition**. These pieces of information need to be **organized** and **retrievable** so that you can access them whenever needed.\n",
        "\n",
        "![patient details](https://static.vecteezy.com/system/resources/previews/035/639/121/non_2x/patient-cards-and-thermometer-pills-capsules-syringe-tablets-healthcare-hospital-and-medical-diagnostics-concept-illustration-in-flat-style-vector.jpg)\n",
        "\n",
        "Now, in Python, you can think of a **variable** as a **storage box** where you place these details. The **box** can be labeled with a **name**, and inside it, you can put the **data** (like a patient’s name, their age, etc.). This way, instead of remembering a lot of numbers or text, you simply refer to the label on the box.\n",
        "\n",
        "![variables as storage boxes](https://miro.medium.com/v2/resize:fit:1104/1*8OFYQ4aC-aMIyFhsgR4WHQ.gif)"
      ],
      "metadata": {
        "id": "iIh1PRYx4Gag"
      }
    },
    {
      "cell_type": "markdown",
      "source": [
        "---\n",
        "\n",
        "### 🔹 **Naming Variables**  \n",
        "Just like how you would give each patient’s file a **name**—so you know exactly what’s inside—you need to **name** your variables in Python. But there are **rules** for how to name variables. This ensures that the **names are clear**, **consistent**, and **easy to work with**.\n",
        "\n",
        "![variable assignment](https://www.aipython.in/wp-content/uploads/2020/02/assign_value_to_variable.png)"
      ],
      "metadata": {
        "id": "aFtrDt3Q9mHQ"
      }
    },
    {
      "cell_type": "markdown",
      "source": [
        "#### 🔑 **Key Rules for Naming Variables in Python**  \n",
        "Let’s go back to our **radiologist** scenario. You have the following patient details:\n",
        "- **Name**: Jane Meyer\n",
        "- **Age**: 45  \n",
        "- **Blood Type**: O+\n",
        "\n",
        "Now, you need to decide how to **name** these pieces of information in Python.\n",
        "\n",
        "Here’s how the naming works:  \n",
        "1. **Start with a letter or underscore**: Variables **cannot** start with a number.  \n",
        "    - **Bad:** `123_patient_age`  \n",
        "    - **Good:** `patient_age`\n",
        "2. **Use only letters, numbers, and underscores**: You can’t use special characters (like `!` or `@`) or spaces.  \n",
        "    - **Bad:** `patient-age!`  \n",
        "    - **Good:** `patient_age`\n",
        "3. **No spaces**: Instead of spaces, use **underscores** (`_`) to separate words.  \n",
        "    - **Bad:** `patient name`  \n",
        "    - **Good:** `patient_name`\n",
        "4. **Be descriptive and meaningful**: Choose names that tell you what the variable represents.  \n",
        "    - **Bad:** `x`, `data1`  \n",
        "    - **Good:** `patient_name`, `patient_age`\n",
        "5. **Use lowercase for variable names**: This is the **Python convention**.  \n",
        "    - **Bad:** `PatientName`, `Patient_Age`  \n",
        "    - **Good:** `patient_name`, `patient_age`\n",
        "6. **Avoid Python keywords**: You can’t use words that have special meaning in Python, like `class`, `def`, `for`, `while` or `if`.  \n",
        "    - **Bad:** `def`  \n",
        "    - **Good:** `patient_def`\n"
      ],
      "metadata": {
        "id": "YzwrMubd-ID6"
      }
    },
    {
      "cell_type": "markdown",
      "source": [
        "**Example 1: Correct Variable Naming"
      ],
      "metadata": {
        "id": "gY0aTzQI_hsu"
      }
    },
    {
      "cell_type": "code",
      "source": [
        "# This text here is called a comment. Its a writing preceded by a '#' symbol\n",
        "# in python. Although it is in the code cell instead of a text or markdown cell,\n",
        "# (like the texts written in the white background above), it is not seen as a code\n",
        "# by Python.\n",
        "\n",
        "\n",
        "# Correct variable naming\n",
        "patient_name = \"John Doe\"\n",
        "patient_age = 45\n",
        "blood_type = \"O+\"\n",
        "\n",
        "# Printing the patient details\n",
        "# The 'print' function is used to display the content of variables.\n",
        "print(\"Patient Name:\", patient_name)\n",
        "print(\"Patient Age:\", patient_age)\n",
        "print(\"Blood Type:\", blood_type)\n",
        "\n",
        "# Here, because the variable was named correctly, the code was able to run\n",
        "# without an error."
      ],
      "metadata": {
        "execution": {
          "iopub.status.busy": "2025-02-06T19:17:16.758426Z"
        },
        "id": "aiixuEgh-Q-e",
        "outputId": "0701d4d2-560f-4b95-b526-2a2135ec0522",
        "colab": {
          "base_uri": "https://localhost:8080/"
        }
      },
      "outputs": [
        {
          "output_type": "stream",
          "name": "stdout",
          "text": [
            "Patient Name: John Doe\n",
            "Patient Age: 45\n",
            "Blood Type: O+\n"
          ]
        }
      ],
      "execution_count": null
    },
    {
      "cell_type": "code",
      "source": [
        "\n",
        "# Correct variable naming\n",
        "patient_name = \"Peter\"\n",
        "patient_age = 40\n",
        "blood_type = \"O+\"\n",
        "\n",
        "# Printing the patient details\n",
        "# The 'print' function is used to display the content of variables.\n",
        "print(\"Patient Name:\", patient_name)\n",
        "print(\"Patient Age:\", patient_age)\n",
        "print(\"Blood Type:\", blood_type)\n"
      ],
      "metadata": {
        "colab": {
          "base_uri": "https://localhost:8080/"
        },
        "id": "Z-0ig-TFMb6I",
        "outputId": "95c85bb3-68d2-4e6d-ec52-d771d600fde1"
      },
      "execution_count": null,
      "outputs": [
        {
          "output_type": "stream",
          "name": "stdout",
          "text": [
            "Patient Name: Peter\n",
            "Patient Age: 40\n",
            "Blood Type: O+\n"
          ]
        }
      ]
    },
    {
      "cell_type": "markdown",
      "source": [
        "#### **Story Time: The Radiologist’s Naming Dilemma**  \n",
        "Let’s return to the **radiologist**. He needs to keep track of patient details in a system, and he needs to assign variable names for each patient's information.  \n",
        "\n",
        "Imagine if the radiologist didn’t follow the rules for naming variables and decided to use confusing names like:  \n",
        "- `Patient name = \"John Doe\"`  \n",
        "- `Age 45`  \n",
        "- `Is_this_a_patient=True`  \n",
        "\n",
        "What’s wrong here?  \n",
        "- The **first variable** breaks the rule by having a **space** in `Patient name`.  \n",
        "- The **second variable** uses a **number** to start the name, which is not allowed.\n",
        "- The **third variable** uses **capital letters** and a **strange phrasing** that makes it harder to understand.  \n",
        "\n",
        "This can lead to confusion and errors in the program."
      ],
      "metadata": {
        "id": "65DpXjviUasN"
      }
    },
    {
      "cell_type": "markdown",
      "source": [
        "**Example 2: Incorrect Variable Naming**"
      ],
      "metadata": {
        "id": "PRbf7pYd_pun"
      }
    },
    {
      "cell_type": "code",
      "source": [
        "# Below is an example of incorrect variable naming.\n",
        "# When you variable name fails to follow the rules listed earlier, it is a blunder\n",
        "# in Python and you will an encounter an error, which is Python's way of saying\n",
        "# you have made a mistake in your code.\n",
        "\n",
        "# Incorrect variable naming example 1\n",
        "123_patient_age = 45 # can you identify the rule this variable violates?"
      ],
      "metadata": {
        "id": "nMW_hgSX_pcj",
        "colab": {
          "base_uri": "https://localhost:8080/",
          "height": 106
        },
        "outputId": "a8ba3056-00bc-4005-ff10-4a19ff8a16fc"
      },
      "outputs": [
        {
          "output_type": "error",
          "ename": "SyntaxError",
          "evalue": "invalid decimal literal (<ipython-input-1-4792753d3570>, line 7)",
          "traceback": [
            "\u001b[0;36m  File \u001b[0;32m\"<ipython-input-1-4792753d3570>\"\u001b[0;36m, line \u001b[0;32m7\u001b[0m\n\u001b[0;31m    123_patient_age = 45 # can you identify the rule this variable violates?\u001b[0m\n\u001b[0m       ^\u001b[0m\n\u001b[0;31mSyntaxError\u001b[0m\u001b[0;31m:\u001b[0m invalid decimal literal\n"
          ]
        }
      ],
      "execution_count": null
    },
    {
      "cell_type": "markdown",
      "source": [
        "**A closer look at the error**\n",
        "\n",
        "![error explain.png](data:image/png;base64,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)"
      ],
      "metadata": {
        "id": "n5_GsgYWCgmR"
      }
    },
    {
      "cell_type": "code",
      "source": [
        "# these will also produce errors\n",
        "patient-name = \"John\"\n",
        "\n",
        "patient name = \"Jules\""
      ],
      "metadata": {
        "id": "Ci-F9Ie3UqxU",
        "colab": {
          "base_uri": "https://localhost:8080/",
          "height": 106
        },
        "outputId": "28dba772-0509-4877-e063-cbcfad17c847"
      },
      "outputs": [
        {
          "output_type": "error",
          "ename": "SyntaxError",
          "evalue": "cannot assign to expression here. Maybe you meant '==' instead of '='? (<ipython-input-2-77c08573a3ae>, line 2)",
          "traceback": [
            "\u001b[0;36m  File \u001b[0;32m\"<ipython-input-2-77c08573a3ae>\"\u001b[0;36m, line \u001b[0;32m2\u001b[0m\n\u001b[0;31m    patient-name = \"John\"\u001b[0m\n\u001b[0m    ^\u001b[0m\n\u001b[0;31mSyntaxError\u001b[0m\u001b[0;31m:\u001b[0m cannot assign to expression here. Maybe you meant '==' instead of '='?\n"
          ]
        }
      ],
      "execution_count": null
    },
    {
      "cell_type": "markdown",
      "source": [
        "### 🔹 **Let’s Correct These Variable Names**  \n",
        "Here’s how the radiologist should name his variables:  \n",
        "- `patient_name = \"John Doe\"`  \n",
        "- `patient_age = 45`  \n",
        "- `is_patient_admitted = True`\n",
        "\n",
        "By following the naming rules, the variables are clear, easy to understand, and the program is easier to maintain."
      ],
      "metadata": {
        "id": "MqQjSjOZVUJu"
      }
    },
    {
      "cell_type": "code",
      "source": [
        "# Write the correct variable names here\n",
        "patient_name = \"John Doe\"\n",
        "patient_age = 45\n",
        "is_patient_admitted = True"
      ],
      "metadata": {
        "id": "OqrraUBMWpop"
      },
      "outputs": [],
      "execution_count": null
    },
    {
      "cell_type": "markdown",
      "source": [
        "### 🔹 **Quiz Time: Spot the Good and Bad Variable Names!**  \n",
        "Let's go back to our **radiologist** story. Below are a few variable names. **Which ones are correct** according to the Python naming rules?\n",
        "\n",
        "1. `patient_name`  \n",
        "2. `45_age`  \n",
        "3. `patient_BloodType`  \n",
        "4. `admitted?`  \n",
        "5. `is_patient_admitted`  \n",
        "6. `patient-age`\n",
        "\n",
        "Hint:\n",
        "\n",
        "If you are still unsure which variable is not well named, try creating these variables in the code cell below to see which one raises an error."
      ],
      "metadata": {
        "id": "InfeFP8WVYbu"
      }
    },
    {
      "cell_type": "code",
      "source": [
        "# You can use the values \"Rosa\", 20, \"AB\", True, 45 to create the variables.\n",
        "\n",
        "# START HERE"
      ],
      "metadata": {
        "id": "5K7jenJHV2n_"
      },
      "outputs": [],
      "execution_count": null
    },
    {
      "cell_type": "markdown",
      "source": [
        "\n",
        "#### **Follow-up Question:**  \n",
        "You are now in the shoes of a radiologist! Your task is to decide how to name the following variables:  \n",
        "- A patient’s blood type  \n",
        "- Whether the patient is a smoker  \n",
        "- The patient’s medical diagnosis  \n",
        "- The patient’s heart rate\n",
        "\n",
        "Do it in the code cell below."
      ],
      "metadata": {
        "id": "0HBPYyA_WNB0"
      }
    },
    {
      "cell_type": "code",
      "source": [
        "# START HERE\n",
        "patient_blood_type = \"O+\"\n",
        "is_patient_a_smoker = True\n",
        "patient_medical_diagnosis = \"\"\" Heavy smoker ........... .. . .......\"\"\"\n",
        "patient_heart_rate = 100"
      ],
      "metadata": {
        "id": "lpUoSYdnWRC5"
      },
      "outputs": [],
      "execution_count": null
    },
    {
      "cell_type": "markdown",
      "source": [
        "# **🏥 2️⃣ Working with Different Data Types**  \n",
        "\n",
        "## **🔹 What Are Data Types?**  \n",
        "Now that we’ve covered variables, let’s dive into the **data** that we’re storing inside these variables.  \n",
        "\n",
        "Just like how a **radiologist** might deal with different types of patient data—such as **text** (patient names, scan reports, descriptions), **numbers** (scan measurements, patient ages), and **true/false statements** (whether a scan shows a tumor or not)—Python variables can store different types of **data**.  \n",
        "\n",
        "We need to understand these **data types** are and how they help us **accurately represent and process medical information** in a program.  "
      ],
      "metadata": {
        "id": "ITDHLmFqmezL"
      }
    },
    {
      "cell_type": "markdown",
      "source": [
        "## **📜 1️⃣ What Are Strings?**  \n",
        "\n",
        "A **string** is a **sequence of characters** used to store **text-based data** in Python. It is represented by the **sequence of characters** enclosed in `\" \"` or `' '` and the sequence of characters can include **letters (`\"Brain MRI\"`), numbers (`\"00124\"`), punctuation (`\",.:'!;\"`), symbols (`\"#$^$*\"`), white space and escape characters (`\"\\n\", \"\\t\"`)**."
      ],
      "metadata": {
        "id": "CCPR-ODo7hN9"
      }
    },
    {
      "cell_type": "markdown",
      "source": [
        "### 🏥 **Meet Dr. Ama: The Radiologist on a Mission**  \n",
        "Dr. Ama is a **seasoned radiologist** at **Hope Medical Center**. She works with **X-rays, MRIs, and CT scans**, making life-saving diagnoses daily. But there’s a problem—her hospital’s patient data system is **a mess**. Reports are written inconsistently, patient names are stored with extra spaces, and scan records are hard to search.  \n",
        "\n",
        "To **solve this**, Dr. Ama decides to **learn Python** to automate data cleaning and analysis. Her journey begins with **strings**—because **most medical data starts as text**.  \n",
        "\n",
        "Let’s **help Dr. Ama** master Python **strings** so she can organize patient records efficiently! 🚀"
      ],
      "metadata": {
        "id": "fd_l0rDwmwit"
      }
    },
    {
      "cell_type": "markdown",
      "source": [
        "**📌 Example:** Storing Patient Information  "
      ],
      "metadata": {
        "id": "5utmQDUD7iOD"
      }
    },
    {
      "cell_type": "code",
      "source": [
        "# Dr. Ama stores patient details as strings\n",
        "patient_name = \"Shane Tetteh\"\n",
        "scan_type = \"MRI Brain\"\n",
        "report_summary = \"No abnormal findings detected.\"\n",
        "\n",
        "print(f\"Patient Name: {patient_name}\")\n",
        "print(f\"Scan Type: {scan_type}\")\n",
        "print(f\"Report Summary: {report_summary}\")"
      ],
      "metadata": {
        "id": "W5tm5kg47oIw",
        "colab": {
          "base_uri": "https://localhost:8080/"
        },
        "outputId": "bd78c5e0-b262-45b7-e348-666dcdcec442"
      },
      "outputs": [
        {
          "output_type": "stream",
          "name": "stdout",
          "text": [
            "Patient Name: Shane Tetteh\n",
            "Scan Type: MRI Brain\n",
            "Report Summary: No abnormal findings detected.\n"
          ]
        }
      ],
      "execution_count": null
    },
    {
      "cell_type": "markdown",
      "source": [
        "✅ **In Radiology:**  \n",
        "- Patient names are **text data**  \n",
        "- Scan descriptions like `\"CT Chest\"` are **strings**  \n",
        "- Findings like `\"Possible lung infection detected.\"` are stored as **text**"
      ],
      "metadata": {
        "id": "ENFC7SkX7kkn"
      }
    },
    {
      "cell_type": "markdown",
      "source": [
        "### **🏥 Now It's Your Turn! Help Dr. Ama Store Patient Data Correctly**  \n",
        "\n",
        "🔬 **Case File: Dr. Ama’s Radiology Clinic**  \n",
        "\n",
        "A patient, **Annette Brown**, visited Dr. Ama’s clinic for a **CT Chest Scan**. 🫁💡  \n",
        "\n",
        "Her scan report summary states:  \n",
        "📜 **\"No abnormalities detected.\"**  \n",
        "\n",
        "Dr. Ama needs to **store this information** in properly named **string variables** so she can later use it in her report system.  "
      ],
      "metadata": {
        "id": "Ep9sfXCSnLSv"
      }
    },
    {
      "cell_type": "markdown",
      "source": [
        "### **👨‍⚕️ Your Challenge:**  \n",
        "**Write a Python script** to store:  \n",
        "✅ **The patient's name**  \n",
        "✅ **The type of scan**  \n",
        "✅ **The summary of the report**  \n",
        "\n",
        "💡 **Hints:**  \n",
        "- Use **meaningful variable names** 📌  \n",
        "- Store all values as **strings** 🔡  \n",
        "- Use `print()` to display the data clearly  \n",
        "\n",
        "📝 **Write your code in the cell below:**  "
      ],
      "metadata": {
        "id": "IT30_T-w88F5"
      }
    },
    {
      "cell_type": "code",
      "source": [
        "# START HERE\n",
        "patient_name = \" Annette Brown\"\n",
        "scan_type = \"CT Chest\"\n",
        "report_summary = \"No abnormalities detected.\"\n",
        "\n",
        "print(f\"Patient Name: {patient_name}\")\n",
        "print(f\"Scan Type: {scan_type}\")\n",
        "print(f\"Report Summary: {report_summary}\")"
      ],
      "metadata": {
        "id": "rPDo_cDm9F_N",
        "colab": {
          "base_uri": "https://localhost:8080/"
        },
        "outputId": "7aab346e-e946-4312-89d7-8e143fedd046"
      },
      "outputs": [
        {
          "output_type": "stream",
          "name": "stdout",
          "text": [
            "Patient Name:  Annette Brown\n",
            "Scan Type: CT Chest\n",
            "Report Summary: No abnormalities detected.\n"
          ]
        }
      ],
      "execution_count": null
    },
    {
      "cell_type": "markdown",
      "source": [
        "🚀 **Bonus Challenge:**  \n",
        "Modify your code to include **patient age** and **scan date** as strings. 🏆"
      ],
      "metadata": {
        "id": "8cPynGB59VN6"
      }
    },
    {
      "cell_type": "code",
      "source": [
        "# START HERE\n",
        "patient_name = \" Annette Brown\"\n",
        "patient_age = \"27\"\n",
        "scan_type = \"CT Chest\"\n",
        "report_summary = \"No abnormalities detected.\"\n",
        "scan_date = \"27th february, 2025.\"\n",
        "\n",
        "print(f\"Patient Name: {patient_name}\")\n",
        "print(f\"Patient Age: {patient_age}\")\n",
        "print(f\"Scan Type: {scan_type}\")\n",
        "print(f\"Report Summary: {report_summary}\")\n",
        "print(f\"Scan Date: {scan_date}\")"
      ],
      "metadata": {
        "id": "yjLH0jV69IrJ",
        "colab": {
          "base_uri": "https://localhost:8080/"
        },
        "outputId": "8866c44a-482a-461a-98a2-2dff2b6f84a8"
      },
      "outputs": [
        {
          "output_type": "stream",
          "name": "stdout",
          "text": [
            "Patient Name:  Annette Brown\n",
            "Patient Age: 27\n",
            "Scan Type: CT Chest\n",
            "Report Summary: No abnormalities detected.\n",
            "Scan Date: 27th february, 2025.\n"
          ]
        }
      ],
      "execution_count": null
    },
    {
      "cell_type": "markdown",
      "source": [
        "### **➕ 2️⃣ String Concatenation and Formatting: Combining Strings Together**  \n",
        "\n",
        "#### **🏥 Case File: Dr. Ama’s Busy Day in Radiology**  \n",
        "It's a **busy Monday morning** at **Dr. Ama’s Radiology Clinic**. ☀️🏥  \n",
        "\n",
        "She has just examined **Jane Smith**, a patient who came in after a **bad fall** while jogging. After reviewing the **X-ray**, Dr. Ama notes that Jane has a **fracture in her left tibia**. 🦴📸  \n",
        "\n",
        "She needs to **combine** Jane’s details into a **single medical report string** so that it can be printed and saved into the hospital's system."
      ],
      "metadata": {
        "id": "TbLUPBFR_n-l"
      }
    },
    {
      "cell_type": "markdown",
      "source": [
        "### **🔹 The Basics of Concatenation**  \n",
        "Concatenation is **just a fancy word** for **combining strings together**. 💡  \n",
        "\n",
        "We use the **`+` operator** to join multiple pieces of text into a single string.  \n"
      ],
      "metadata": {
        "id": "hwHbiCfL_pbV"
      }
    },
    {
      "cell_type": "code",
      "source": [
        "# 🏥 Dr. Ama's Medical Record System\n",
        "\n",
        "patient_name = \"Jane Smith\"  # 🩺 Patient's name\n",
        "diagnosis = \"Fracture detected in the left tibia.\"  # 🦴 Medical diagnosis\n",
        "\n",
        "# 📝 Creating a full report using concatenation\n",
        "full_report = \"Patient: \" + patient_name + \" | Diagnosis: \" + diagnosis\n",
        "\n",
        "# 📢 Displaying the report\n",
        "print(full_report)\n",
        "\n",
        "# Output: Patient: Jane Smith | Diagnosis: Fracture detected in the left tibia."
      ],
      "metadata": {
        "id": "ecCRB1VD_seH",
        "colab": {
          "base_uri": "https://localhost:8080/"
        },
        "outputId": "2e1ee935-4042-4493-8279-e076dcaa236b"
      },
      "outputs": [
        {
          "output_type": "stream",
          "name": "stdout",
          "text": [
            "Patient: Jane Smith | Diagnosis: Fracture detected in the left tibia.\n"
          ]
        }
      ],
      "execution_count": null
    },
    {
      "cell_type": "markdown",
      "source": [
        "### **🎯 Challenge #1: Fill in the Blanks 🧩**  \n",
        "🔍 Dr. Ama just examined a **new patient**, and you need to help complete their **medical report** using **concatenation**.  \n",
        "\n",
        "👉 **Complete the code below by filling in the blanks:**  "
      ],
      "metadata": {
        "id": "E0FmYIOs_vGQ"
      }
    },
    {
      "cell_type": "code",
      "source": [
        "patient = \"Michael Osei\"\n",
        "condition = \"Severe migraine due to stress.\"\n",
        "\n",
        "# Create the full report by concatenating the two strings\n",
        "full_report = \"Patient: \" + patient + \" | Condition: \" + condition\n",
        "\n",
        "print(full_report)"
      ],
      "metadata": {
        "id": "6Nqw3Rfl_zeB",
        "colab": {
          "base_uri": "https://localhost:8080/"
        },
        "outputId": "81a0153a-f87f-4295-e6c5-935276fbdf32"
      },
      "outputs": [
        {
          "output_type": "stream",
          "name": "stdout",
          "text": [
            "Patient: Michael Osei | Condition: Severe migraine due to stress.\n"
          ]
        }
      ],
      "execution_count": null
    },
    {
      "cell_type": "markdown",
      "source": [
        "✅ **Expected Output:**  \n",
        "`Patient: Michael Osei | Condition: Severe migraine due to stress.`  "
      ],
      "metadata": {
        "id": "TyJyhBWY_-zk"
      }
    },
    {
      "cell_type": "markdown",
      "source": [
        "### **🔹 Concatenation with Numbers (Type Conversion 🛑⚠️)**  \n",
        "🧐 **Problem:** What if Dr. Ama wants to include the **patient’s age** in the report?  \n",
        "\n",
        "🤔 Can we concatenate this directly? Let's try:  \n"
      ],
      "metadata": {
        "id": "ZvWQ4yPxAC9u"
      }
    },
    {
      "cell_type": "code",
      "source": [
        "patient = \"Sophia Mensah\"\n",
        "age = 45\n",
        "diagnosis = \"Pneumonia detected in chest X-ray.\"\n",
        "\n",
        "# ❌ This will cause an error!\n",
        "full_report = \"Patient: \" + patient + \" | Age: \" + age + \" | Diagnosis: \" + diagnosis\n",
        "print(full_report)"
      ],
      "metadata": {
        "id": "P7PDaNBrAEPt",
        "colab": {
          "base_uri": "https://localhost:8080/",
          "height": 193
        },
        "outputId": "19066c60-39c1-4162-dd51-f7a87a63b36b"
      },
      "outputs": [
        {
          "output_type": "error",
          "ename": "TypeError",
          "evalue": "can only concatenate str (not \"int\") to str",
          "traceback": [
            "\u001b[0;31m---------------------------------------------------------------------------\u001b[0m",
            "\u001b[0;31mTypeError\u001b[0m                                 Traceback (most recent call last)",
            "\u001b[0;32m<ipython-input-16-06ed188d47e9>\u001b[0m in \u001b[0;36m<cell line: 0>\u001b[0;34m()\u001b[0m\n\u001b[1;32m      4\u001b[0m \u001b[0;34m\u001b[0m\u001b[0m\n\u001b[1;32m      5\u001b[0m \u001b[0;31m# ❌ This will cause an error!\u001b[0m\u001b[0;34m\u001b[0m\u001b[0;34m\u001b[0m\u001b[0m\n\u001b[0;32m----> 6\u001b[0;31m \u001b[0mfull_report\u001b[0m \u001b[0;34m=\u001b[0m \u001b[0;34m\"Patient: \"\u001b[0m \u001b[0;34m+\u001b[0m \u001b[0mpatient\u001b[0m \u001b[0;34m+\u001b[0m \u001b[0;34m\" | Age: \"\u001b[0m \u001b[0;34m+\u001b[0m \u001b[0mage\u001b[0m \u001b[0;34m+\u001b[0m \u001b[0;34m\" | Diagnosis: \"\u001b[0m \u001b[0;34m+\u001b[0m \u001b[0mdiagnosis\u001b[0m\u001b[0;34m\u001b[0m\u001b[0;34m\u001b[0m\u001b[0m\n\u001b[0m\u001b[1;32m      7\u001b[0m \u001b[0mprint\u001b[0m\u001b[0;34m(\u001b[0m\u001b[0mfull_report\u001b[0m\u001b[0;34m)\u001b[0m\u001b[0;34m\u001b[0m\u001b[0;34m\u001b[0m\u001b[0m\n",
            "\u001b[0;31mTypeError\u001b[0m: can only concatenate str (not \"int\") to str"
          ]
        }
      ],
      "execution_count": null
    },
    {
      "cell_type": "markdown",
      "source": [
        "🚨 **Oops! This will throw an error!** Python does **not** allow direct concatenation of **strings and integers**."
      ],
      "metadata": {
        "id": "YsovHIJmAJl_"
      }
    },
    {
      "cell_type": "markdown",
      "source": [
        "### **🛠 Solution: Convert Numbers to Strings!**  \n",
        "To **fix this**, we must **convert the integer to a string** using `str()`."
      ],
      "metadata": {
        "id": "H_V_nGKeADwe"
      }
    },
    {
      "cell_type": "code",
      "source": [
        "# ✅ Correct way to concatenate strings with numbers\n",
        "full_report = \"Patient: \" + patient + \" | Age: \" + str(age) + \" | Diagnosis: \" + diagnosis\n",
        "\n",
        "print(full_report)\n",
        "\n",
        "# Output: Patient: Sophia Mensah | Age: 45 | Diagnosis: Pneumonia detected in chest X-ray."
      ],
      "metadata": {
        "id": "ZWBV0e0-APxc",
        "colab": {
          "base_uri": "https://localhost:8080/"
        },
        "outputId": "908d1560-110f-427b-e012-2eb2ec5af277"
      },
      "outputs": [
        {
          "output_type": "stream",
          "name": "stdout",
          "text": [
            "Patient: Sophia Mensah | Age: 45 | Diagnosis: Pneumonia detected in chest X-ray.\n"
          ]
        }
      ],
      "execution_count": null
    },
    {
      "cell_type": "markdown",
      "source": [
        "### **🎯 Challenge #2: Fix the Bug! 🔎**  \n",
        "Dr. Ama made a **mistake** in the code below. Can you **fix it** so it works correctly?  "
      ],
      "metadata": {
        "id": "tGo0eDRdAPSO"
      }
    },
    {
      "cell_type": "code",
      "source": [
        "patient = \"Kwame Boateng\"\n",
        "scan_type = \"MRI Brain Scan\"\n",
        "scan_number = str(23)\n",
        "\n",
        "# ❌ This will cause an error. Fix it!\n",
        "scan_report = \"Patient: \" + patient + \" | Scan Type: \" + scan_type + \" | Scan Number: \" + scan_number\n",
        "\n",
        "print(scan_report)"
      ],
      "metadata": {
        "id": "oYSTFVybAcWv",
        "colab": {
          "base_uri": "https://localhost:8080/"
        },
        "outputId": "43e8fb29-3f16-4a72-d4d0-390ca4ed9872"
      },
      "outputs": [
        {
          "output_type": "stream",
          "name": "stdout",
          "text": [
            "Patient: Kwame Boateng | Scan Type: MRI Brain Scan | Scan Number: 23\n"
          ]
        }
      ],
      "execution_count": null
    },
    {
      "cell_type": "markdown",
      "source": [
        "✅ **Hint:** Convert the number to a string before concatenating!  "
      ],
      "metadata": {
        "id": "ytejpmz9AikB"
      }
    },
    {
      "cell_type": "markdown",
      "source": [
        "### **🔹 Using `f-strings` for Easier Concatenation** 🎉  \n",
        "Python provides a **better and cleaner** way to concatenate strings using **f-strings** (formatted strings).  \n",
        "\n",
        "💡 Instead of using **`+`**, we can write the variables **inside curly brackets `{}`** inside an `f\"\"` string.  "
      ],
      "metadata": {
        "id": "4J6hSKWtAmGJ"
      }
    },
    {
      "cell_type": "code",
      "source": [
        "patient = \"Abena Johnson\"\n",
        "age = 30\n",
        "condition = \"Mild concussion due to an accident.\"\n",
        "\n",
        "# 🎯 Using f-strings for cleaner concatenation\n",
        "full_report = f\"Patient: {patient} | Age: {age} | Condition: {condition}\"\n",
        "\n",
        "print(full_report)\n",
        "\n",
        "# Output: Patient: Abena Johnson | Age: 30 | Condition: Mild concussion due to an accident."
      ],
      "metadata": {
        "id": "8AjJfDqoArLZ",
        "colab": {
          "base_uri": "https://localhost:8080/"
        },
        "outputId": "491f00cb-35eb-4f26-ef01-5e7fd0a25102"
      },
      "outputs": [
        {
          "output_type": "stream",
          "name": "stdout",
          "text": [
            "Patient: Abena Johnson | Age: 30 | Condition: Mild concussion due to an accident.\n"
          ]
        }
      ],
      "execution_count": null
    },
    {
      "cell_type": "markdown",
      "source": [
        "🛠 **Why f-strings are better?**  \n",
        "✅ **No need for `str()` conversion**  \n",
        "✅ **More readable and organized**  "
      ],
      "metadata": {
        "id": "Nvf7dpbtAvvn"
      }
    },
    {
      "cell_type": "markdown",
      "source": [
        "### **🎯 Challenge #3: Convert to f-strings! 🔄**  \n",
        "Rewrite this **concatenation code** using **f-strings** instead!"
      ],
      "metadata": {
        "id": "JgmBwnl7A1H5"
      }
    },
    {
      "cell_type": "code",
      "source": [
        "patient = \"Elijah Tetteh\"\n",
        "diagnosis = \"Fractured wrist from a sports injury.\"\n",
        "doctor = \"Dr. Ama\"\n",
        "\n",
        "# 📝 Using concatenation\n",
        "report = f\"Patient: {patient}  | Diagnosis:  {diagnosis} | Doctor:  {doctor}\"\n",
        "print(report)"
      ],
      "metadata": {
        "id": "F36y2xqXA2Zy",
        "colab": {
          "base_uri": "https://localhost:8080/"
        },
        "outputId": "ebac61f3-bb2a-4fef-bb9f-f98397542f49"
      },
      "outputs": [
        {
          "output_type": "stream",
          "name": "stdout",
          "text": [
            "Patient: Elijah Tetteh  | Diagnosis:  Fractured wrist from a sports injury. | Doctor:  Dr. Ama\n"
          ]
        }
      ],
      "execution_count": null
    },
    {
      "cell_type": "markdown",
      "source": [
        "👉 **Convert this to an f-string and test your code in the code cell below.**"
      ],
      "metadata": {
        "id": "gDreTLW3A8S5"
      }
    },
    {
      "cell_type": "code",
      "source": [
        "# START HERE"
      ],
      "metadata": {
        "id": "G3wlZMrJBCmo"
      },
      "outputs": [],
      "execution_count": null
    },
    {
      "cell_type": "markdown",
      "source": [
        "### **🔢 3️⃣ Extracting Information (Indexing & Slicing)**"
      ],
      "metadata": {
        "id": "jMS4HYIkCFmk"
      }
    },
    {
      "cell_type": "markdown",
      "source": [
        "### **🏥 Case File: Dr. Ama’s Patient Records**  \n",
        "\n",
        "It’s another **busy morning** at **Dr. Ama’s Radiology Clinic**. 📋🏥  \n",
        "\n",
        "Today, the **hospital’s computer system** has been updated to show **only patient initials** instead of full names on some reports.  \n",
        "\n",
        "🔎 **Why?**  \n",
        "- To **maintain patient privacy** 🔐  \n",
        "- To **make reports more compact** 📄  \n",
        "- To **label scans more efficiently** 🩻  \n",
        "\n",
        "Dr. Ama needs to extract **specific parts of the patient’s name** using **indexing and slicing**."
      ],
      "metadata": {
        "id": "mc7Gp7CPCKOC"
      }
    },
    {
      "cell_type": "markdown",
      "source": [
        "## **🔹 What is Indexing? (Picking Out Single Characters)**\n",
        "Indexing helps us extract **specific characters** from a string.\n",
        "\n",
        "![Python indexing](https://web.stanford.edu/class/archive/cs/cs106a/cs106a.1202/handouts/python-str-index.png)"
      ],
      "metadata": {
        "id": "OF03lARxCN6I"
      }
    },
    {
      "cell_type": "markdown",
      "source": [
        "📌 **In Python, indexing starts from `0`**, meaning:  \n",
        "- The **first character** of a string is at **index `0`**  \n",
        "- The **second character** is at **index `1`**, and so on.  "
      ],
      "metadata": {
        "id": "54xUGHpmGy4Y"
      }
    },
    {
      "cell_type": "code",
      "source": [
        "patient = \"Michael Johnson\"\n",
        "\n",
        "# 🔍 Extracting the first letter\n",
        "first_letter = patient[0]\n",
        "\n",
        "# 🔍 Extracting the first letter of the last name\n",
        "last_name_first_letter = patient[8]\n",
        "\n",
        "# 🏷️ Generating initials\n",
        "initials = first_letter + last_name_first_letter\n",
        "\n",
        "print(initials)  # Output: MJ"
      ],
      "metadata": {
        "id": "fOzdpRvyGt-4"
      },
      "outputs": [],
      "execution_count": null
    },
    {
      "cell_type": "markdown",
      "source": [
        "🛑 **Be careful!** If you try to access an index **that doesn’t exist**, Python will throw an **error**."
      ],
      "metadata": {
        "id": "3RkFxDGiG5qW"
      }
    },
    {
      "cell_type": "markdown",
      "source": [
        "## **🎯 Challenge #1: Extract the Initials!**\n",
        "Dr. Ama has two new patients. Can you extract their initials?  "
      ],
      "metadata": {
        "id": "5Ynkig5eG9ac"
      }
    },
    {
      "cell_type": "code",
      "source": [
        "patient1 = \"Sandra Boateng\"\n",
        "patient2 = \"Kwame Mensah\"\n",
        "\n",
        "# 🔍 Extract initials\n",
        "\n",
        "first_name = patient1[0]\n",
        "last_name = patient1[7]\n",
        "initials1 = first_name + last_name\n",
        "\n",
        "first_name_2 = patient2[0]\n",
        "last_name_2 = patient2[6]\n",
        "initials2 = first_name_2 + last_name_2\n",
        "\n",
        "\n",
        "print(initials1)  # Expected Output: SB\n",
        "print(initials2)  # Expected Output: KM"
      ],
      "metadata": {
        "id": "MY_YWPCjG-fB",
        "outputId": "01b09f0f-5fc5-42b1-b644-eddd76ae3260",
        "colab": {
          "base_uri": "https://localhost:8080/"
        }
      },
      "outputs": [
        {
          "output_type": "stream",
          "name": "stdout",
          "text": [
            "SB\n",
            "KM\n"
          ]
        }
      ],
      "execution_count": 1
    },
    {
      "cell_type": "markdown",
      "source": [
        "\n",
        "## **🔹 What is Slicing? (Extracting Substrings)**  \n",
        "Sometimes, we don’t need **just one character**—we need **a piece** of the text.  \n",
        "\n",
        "🔪 **Slicing allows us to extract a portion of a string** using the format:  "
      ],
      "metadata": {
        "id": "SUR9jMNwG2FV"
      }
    },
    {
      "cell_type": "markdown",
      "source": [
        "\n",
        "```python\n",
        "string[start:end]\n",
        "```\n",
        "- **`start`** → Where the slice begins (included).  \n",
        "- **`end`** → Where the slice stops (**not included**).  \n",
        "\n"
      ],
      "metadata": {
        "id": "cVd-XXGxHRni"
      }
    },
    {
      "cell_type": "markdown",
      "source": [
        "### **🔬 Example: Extracting the Scan Type**  \n",
        "Dr. Ama’s hospital system stores scan descriptions like this:  \n",
        "\n",
        "🩻 `\"MRI of the abdomen\"`  \n",
        "🔍 `\"CT scan of the chest\"`  \n",
        "\n",
        "She needs to **extract only the scan type** (`\"MRI\"`, `\"CT\"`) to organize patient records."
      ],
      "metadata": {
        "id": "Kfw-uYJAHYNt"
      }
    },
    {
      "cell_type": "code",
      "source": [
        "scan1 = \"MRI of the abdomen\"\n",
        "scan2 = \"CT scan of the chest\"\n",
        "\n",
        "# 🔍 Extract scan type\n",
        "scan_type1 = scan1[:3]  # \"MRI\"\n",
        "scan_type2 = scan2[:2]  # \"CT\"\n",
        "\n",
        "print(scan_type1)  # Output: MRI\n",
        "print(scan_type2)  # Output: CT"
      ],
      "metadata": {
        "id": "_ExBPV04HemE"
      },
      "outputs": [],
      "execution_count": null
    },
    {
      "cell_type": "markdown",
      "source": [
        "📌 **Slicing Rules to Remember:**  \n",
        "✅ If you **omit the start**, it **defaults to `0`** (beginning of string).  \n",
        "✅ If you **omit the end**, it **goes to the end** of the string.  "
      ],
      "metadata": {
        "id": "S3sl1R_NHhge"
      }
    },
    {
      "cell_type": "code",
      "source": [
        "scan1 = \"Ultrasound of the liver\"\n",
        "scan2 = \"X-ray of the left knee\"\n",
        "\n",
        "scan_type1 = scan1[:11]  # Expected Output: Ultrasound\n",
        "scan_type2 = scan2[:5]  # Expected Output: X-ray\n",
        "\n",
        "print(scan_type1)\n",
        "print(scan_type2)"
      ],
      "metadata": {
        "id": "JkANJhcYHmQM",
        "outputId": "ecb6e42e-a92b-4b29-e671-c9990fc32cdb",
        "colab": {
          "base_uri": "https://localhost:8080/"
        }
      },
      "outputs": [
        {
          "output_type": "stream",
          "name": "stdout",
          "text": [
            "Ultrasound \n",
            "X-ray\n"
          ]
        }
      ],
      "execution_count": 2
    },
    {
      "cell_type": "markdown",
      "source": [
        "## **🔹 Slicing with Step Size 🏃‍♂️**\n",
        "What if we want to extract **every other letter** or reverse a string?  \n",
        "\n",
        "\n",
        "![slicing](https://www.learnbyexample.org/wp-content/uploads/python/Python-String-Slicing-Illustration.png)\n",
        "\n",
        "The slicing syntax has a **third optional parameter**:\n",
        "\n",
        "string[start:end:step]\n",
        "\n",
        "\n",
        "- **`step`** → Controls how characters are selected.  \n",
        "  - `1` → Select every character (default).  \n",
        "  - `2` → Select every **second** character.  \n",
        "  - `-1` → Reverse the string!  \n",
        "\n",
        "\n"
      ],
      "metadata": {
        "id": "7xt2NFsqK8ln"
      }
    },
    {
      "cell_type": "markdown",
      "source": [
        "### **🔄 Example: Reversing a Name**\n",
        "Dr. Ama’s assistant wants to **reverse patient names** for an internal system."
      ],
      "metadata": {
        "id": "S_9uWAMqLqyw"
      }
    },
    {
      "cell_type": "code",
      "source": [
        "patient = \"Kwame Mensah\"\n",
        "\n",
        "reversed_name = patient[::-1]\n",
        "\n",
        "print(reversed_name)  # Output: h asneM emawK"
      ],
      "metadata": {
        "id": "1qObB-xVLsBD"
      },
      "outputs": [],
      "execution_count": null
    },
    {
      "cell_type": "markdown",
      "source": [
        "🔍 **Try it yourself!** Reverse **your own name** using slicing!"
      ],
      "metadata": {
        "id": "2aL6djOSLwGR"
      }
    },
    {
      "cell_type": "code",
      "source": [
        "# START HERE\n",
        "\n",
        "patient = \"Oyetunji Abdulbasit Oyebamiji\"\n",
        "\n",
        "reversed_name = patient[::-1]\n",
        "\n",
        "print(reversed_name)"
      ],
      "metadata": {
        "id": "pnPo-sf0LvvQ",
        "outputId": "e9494707-ffb4-464b-e541-3be17a235618",
        "colab": {
          "base_uri": "https://localhost:8080/"
        }
      },
      "outputs": [
        {
          "output_type": "stream",
          "name": "stdout",
          "text": [
            "ijimabeyO tisabludbA ijnuteyO\n"
          ]
        }
      ],
      "execution_count": 3
    },
    {
      "cell_type": "markdown",
      "source": [
        "## **🎯 Challenge #3: Extract Every Other Letter!**\n",
        "Dr. Ama’s system has a **glitch**—some patient names are **scrambled**. Extract **every second letter** to recover the correct name.  "
      ],
      "metadata": {
        "id": "fWwjlTFpLy4x"
      }
    },
    {
      "cell_type": "code",
      "source": [
        "glitched_name1 = \"Jmoahkn eDsoesr\"\n",
        "glitched_name2 = \"Aldnicrae Knrwe\"\n",
        "\n",
        "# 🔍 Extract the real name by slicing with step\n",
        "real_name1 = ___________\n",
        "real_name2 = ___________\n",
        "\n",
        "print(real_name1)  # Expected Output: \"John Doe\"\n",
        "print(real_name2)  # Expected Output: \"Alice Krew\""
      ],
      "metadata": {
        "id": "cpn415yqL2O6"
      },
      "outputs": [],
      "execution_count": null
    },
    {
      "cell_type": "markdown",
      "source": [
        "💡 **Hint:** Use `glitched_name1[::2]`."
      ],
      "metadata": {
        "id": "zd136dF-L_3m"
      }
    },
    {
      "cell_type": "code",
      "source": [
        "# START HERE"
      ],
      "metadata": {
        "id": "-M8hLHct_UA-"
      },
      "outputs": [],
      "execution_count": null
    },
    {
      "cell_type": "markdown",
      "source": [
        "## **🔡 3️⃣ String Methods for Data Cleaning**  \n",
        "\n",
        "### **Dr. Ama’s Second Task: Cleaning Messy Data**  \n",
        "\n",
        "At **Dr. Ama’s Radiology Clinic**, accurate patient records are critical. Unfortunately, data often arrives in a **messy form**—extra spaces, inconsistent capitalization, or even typos.  \n",
        "\n",
        "If left uncleaned, this could cause **errors in patient records, incorrect insurance claims, and misfiled reports**. Dr. Ama needs to **standardize** the data before storing it in the hospital database.  \n",
        "\n",
        "Let’s explore **Python string methods** that help fix these issues."
      ],
      "metadata": {
        "id": "sihhGSR4reLX"
      }
    },
    {
      "cell_type": "markdown",
      "source": [
        "### **🔹 Using `strip()` to Remove Extra Spaces**  \n",
        "\n",
        "The **`strip()`** method removes unwanted spaces (or other specified characters) from the **beginning and end** of a string."
      ],
      "metadata": {
        "id": "WY43UiCKreGa"
      }
    },
    {
      "cell_type": "markdown",
      "source": [
        "💡 **Problem:** Some patient names include **leading and trailing spaces**, which could cause **search errors** in the database."
      ],
      "metadata": {
        "id": "qHr89j71eoQm"
      }
    },
    {
      "cell_type": "code",
      "source": [
        "messy_name = \"   Dr. Michael Brown   \"\n",
        "clean_name = messy_name.strip()\n",
        "\n",
        "print(clean_name)\n",
        "# Output: Dr. Michael Brown"
      ],
      "metadata": {
        "id": "2AKgAUDZetHp"
      },
      "outputs": [],
      "execution_count": null
    },
    {
      "cell_type": "markdown",
      "source": [
        "✅ **Why This Is Useful?**  \n",
        "- Ensures **correct patient name formatting**  \n",
        "- Prevents **issues when searching for records**"
      ],
      "metadata": {
        "id": "B-Sfm347eoI2"
      }
    },
    {
      "cell_type": "markdown",
      "source": [
        "\n",
        "### **🔹 Using `title()` to Standardize Capitalization**  \n",
        "\n",
        "The **`title()`** method ensures that **each word starts with an uppercase letter** while the rest remains lowercase.  \n"
      ],
      "metadata": {
        "id": "3VhwVA7aey9P"
      }
    },
    {
      "cell_type": "markdown",
      "source": [
        "💡 **Problem:** Some patient names are entered in **random capitalization**, making them **look unprofessional** in reports.  "
      ],
      "metadata": {
        "id": "dwm2x5jpe1Pn"
      }
    },
    {
      "cell_type": "code",
      "source": [
        "raw_name = \"dr. emILY ross\"\n",
        "clean_name = raw_name.title()\n",
        "\n",
        "print(clean_name)\n",
        "# Output: Dr. Emily Ross"
      ],
      "metadata": {
        "id": "jjBqDI2Ceyo3"
      },
      "outputs": [],
      "execution_count": null
    },
    {
      "cell_type": "markdown",
      "source": [
        "✅ **Why This Is Useful?**  \n",
        "- Makes patient records **uniform** and **professional**  \n",
        "- Avoids **confusion from inconsistent formatting**"
      ],
      "metadata": {
        "id": "caXkrpw8e4WZ"
      }
    },
    {
      "cell_type": "markdown",
      "source": [
        "### **🔹 Using `replace()` to Fix Typos**  \n",
        "\n",
        "The **`replace(old, new)`** method swaps **incorrect characters or words** with the correct ones.  "
      ],
      "metadata": {
        "id": "hb18cGNje7de"
      }
    },
    {
      "cell_type": "markdown",
      "source": [
        "💡 **Problem:** Sometimes **wrong characters** appear in reports. Dr. Ama notices that an MRI scan type is **incorrectly entered** with underscores instead of spaces.  "
      ],
      "metadata": {
        "id": "bUecxsfXe_bc"
      }
    },
    {
      "cell_type": "code",
      "source": [
        "wrong_scan = \"MRI_Brain_Scan\"\n",
        "fixed_scan = wrong_scan.replace(\"_\", \" \")\n",
        "\n",
        "print(fixed_scan)\n",
        "# Output: MRI Brain Scan"
      ],
      "metadata": {
        "id": "8r2F7tdze-6l"
      },
      "outputs": [],
      "execution_count": null
    },
    {
      "cell_type": "markdown",
      "source": [
        "✅ **Why This Is Useful?**  \n",
        "- Fixes **common input errors** automatically  \n",
        "- Helps in **cleaning messy data fields**  \n"
      ],
      "metadata": {
        "id": "7B4DtE1SfF5-"
      }
    },
    {
      "cell_type": "markdown",
      "source": [
        "### **🔹 Using `lower()` and `upper()` for Consistency**  \n",
        "\n",
        "The **`lower()`** method converts text to **all lowercase**, while **`upper()`** makes everything **uppercase**.  "
      ],
      "metadata": {
        "id": "1Rw3WsMBfIdv"
      }
    },
    {
      "cell_type": "markdown",
      "source": [
        "💡 **Problem:** Insurance codes must always be **uppercase**, but some are **entered incorrectly**."
      ],
      "metadata": {
        "id": "2rWVsI-zfL36"
      }
    },
    {
      "cell_type": "code",
      "source": [
        "insurance_code = \"ghA-9342b\"\n",
        "standardized_code = insurance_code.upper()\n",
        "\n",
        "print(standardized_code)\n",
        "# Output: GHA-9342B"
      ],
      "metadata": {
        "id": "94xZJBIhfOZi"
      },
      "outputs": [],
      "execution_count": null
    },
    {
      "cell_type": "markdown",
      "source": [
        "✅ **Why This Is Useful?**  \n",
        "- Ensures **standardized codes** in records  \n",
        "- Helps in **data validation** for insurance and billing  "
      ],
      "metadata": {
        "id": "Uwt-v6ZqfRum"
      }
    },
    {
      "cell_type": "markdown",
      "source": [
        "## 🎯 **Your Turn: Can You Clean the Data?**  \n",
        "\n",
        "Dr. Ama’s assistant has entered **messy records**. Help her clean them!  \n",
        "Each level gets **progressively harder**. Are you up for the challenge? 😃  "
      ],
      "metadata": {
        "id": "XWpkzy1jfUsM"
      }
    },
    {
      "cell_type": "markdown",
      "source": [
        "### **🟢 Level 1 (Beginner): Fix Simple Formatting Errors**  \n",
        "📌 **Use `.strip()`, `.title()`, and `.replace()` to fix these issues.**  "
      ],
      "metadata": {
        "id": "FCiOdT1mfZTu"
      }
    },
    {
      "cell_type": "code",
      "source": [
        "# 1️⃣ Remove unnecessary spaces and capitalize the name properly.\n",
        "patient_name = \"    mary annE JOHNSON  \"\n",
        "\n",
        "# 2️⃣ Convert the scan type to a readable format (replace underscores with spaces).\n",
        "scan_type = \"CT_Abdomen_Scan\"\n",
        "\n",
        "# 3️⃣ Standardize the insurance ID (convert to uppercase).\n",
        "insurance_id = \"gha-542q\"\n",
        "\n",
        "# 4️⃣ The report summary has unwanted symbols. Remove them.\n",
        "report_summary = \"**Severe pleural effusion detected!!**\""
      ],
      "metadata": {
        "id": "3gXSxGPQf0oD"
      },
      "outputs": [],
      "execution_count": null
    },
    {
      "cell_type": "markdown",
      "source": [
        "### **🟠 Level 2 (Intermediate): Correct Medical Report Entries**  \n",
        "📌 **Use `.replace()`, `.lower()`, and `.strip()` to fix incorrect data entries.**"
      ],
      "metadata": {
        "id": "Ow3xl_DAf6I5"
      }
    },
    {
      "cell_type": "code",
      "source": [
        "# 5️⃣ The hospital records mistakenly recorded \"tumur\" instead of \"tumor.\" Fix it.\n",
        "medical_note = \"Patient diagnosed with brain tumur.\"\n",
        "\n",
        "# 6️⃣ Ensure all scan results are in lowercase for consistency.\n",
        "scan_results = \"NO FRACTURE; No Tumor; no Bleeding\"\n",
        "\n",
        "# 7️⃣ The report contains extra spaces and incorrect punctuation. Clean it up.\n",
        "report_text = \"  Finding : Possible LUNG infection   \""
      ],
      "metadata": {
        "id": "lK2a5R8rf7oV"
      },
      "outputs": [],
      "execution_count": null
    },
    {
      "cell_type": "markdown",
      "source": [
        "### **🔴 Level 3 (Advanced): Extract & Validate Data**  \n",
        "📌 **Use `.isdigit()`, `.split()`, and `.replace()` to extract and validate critical info.**  "
      ],
      "metadata": {
        "id": "-S-DSH-If-9e"
      }
    },
    {
      "cell_type": "code",
      "source": [
        "# 8️⃣ Ensure the patient ID contains only numbers (no letters or special characters).\n",
        "patient_id = \"1234X\"\n",
        "\n",
        "# 9️⃣ Break down this long medical report into a list of findings.\n",
        "long_report = \"Fracture: None; Tumor: Mild; Bleeding: Severe\"\n",
        "\n",
        "# 🔟 Convert incorrect patient IDs that contain spaces into a clean number.\n",
        "wrong_patient_id = \"  98 765  \""
      ],
      "metadata": {
        "id": "5uBLM-1sgDOP"
      },
      "outputs": [],
      "execution_count": null
    },
    {
      "cell_type": "markdown",
      "source": [
        "### **🟣 Level 4 (More Advanced): Extract Information Using Regular Expressions**  \n",
        "📌 **Use `re.search()` to extract structured data from messy records.**"
      ],
      "metadata": {
        "id": "vKwALIsCgHPb"
      }
    },
    {
      "cell_type": "code",
      "source": [
        "import re\n",
        "\n",
        "# 1️⃣ Extract the numerical ID from a raw text medical record.\n",
        "record = \"Patient ID: 89765 | Scan Type: MRI Brain\"\n",
        "\n",
        "# 2️⃣ Extract the scan type (e.g., \"MRI Brain\") from the same text."
      ],
      "metadata": {
        "id": "bZ4eSlBugKJ5"
      },
      "outputs": [],
      "execution_count": null
    },
    {
      "cell_type": "markdown",
      "source": [
        "📌 **Hint:** Use `re.search(r\"Patient ID: (\\d+)\", record)` to extract the ID.  \n"
      ],
      "metadata": {
        "id": "j8Nft5DmgNCF"
      }
    },
    {
      "cell_type": "markdown",
      "source": [
        "### **🔍 Regex: Dr. Ama’s Secret Weapon for Supercharged Search!**"
      ],
      "metadata": {
        "id": "8kHQ_3ySnfbK"
      }
    },
    {
      "cell_type": "markdown",
      "source": [
        "#### **For Those Who Want More of a Challenge:**\n",
        "\n",
        "If you're ready to **level up** and take your coding skills to the next level, **Regex** is calling your name! This is for all the brave explorers who want to tackle text search like a **pro**. Don't worry—it's going to be fun, and by the end, you'll be able to tackle even the messiest data with ease. So, buckle up and get ready for a Regex adventure with Dr. Ama!"
      ],
      "metadata": {
        "id": "IGHsKlm5njUN"
      }
    },
    {
      "cell_type": "markdown",
      "source": [
        "Imagine Dr. Ama is drowning in stacks of patient reports. She’s searching for specific details—**Patient IDs**, **Scan types**, and other important data—but the reports are a chaotic mess of text. It's like finding a needle in a haystack! That’s where **Regular Expressions (Regex)** swoops in like a superhero to help her. Regex is the ultimate search tool for **finding exactly what you need** in the middle of chaos. Let's explore how Regex works and why it's Dr. Ama's secret weapon."
      ],
      "metadata": {
        "id": "B87I6-IOnmAY"
      }
    },
    {
      "cell_type": "markdown",
      "source": [
        "#### **What is Regex?**\n",
        "\n",
        "Think of **Regex** as a magic code that lets you search for **patterns** inside a pile of text. It's not just any search—it's a **supercharged** one! With Regex, Dr. Ama can look for things like:\n",
        "\n",
        "- **Patient IDs** hidden in paragraphs of text.\n",
        "- **Scan types** like \"MRI\" or \"CT\" that are buried under piles of words.\n",
        "- **Dates**, **numbers**, or even **special characters**!\n",
        "\n",
        "It’s like having a robot assistant that can find **exactly** what you're looking for in any text—whether it's numbers, letters, or something more complex."
      ],
      "metadata": {
        "id": "-ocV1DFTnsF6"
      }
    },
    {
      "cell_type": "markdown",
      "source": [
        "#### **Regex in Action: How It Works**\n",
        "\n",
        "Dr. Ama needs to grab a **Patient ID** from this mess of a report:\n",
        "`\"Patient ID: 76345 | Scan: MRI\"`"
      ],
      "metadata": {
        "id": "PjxMUufzntAy"
      }
    },
    {
      "cell_type": "markdown",
      "source": [
        "\n",
        "Here's how she uses **Regex** to get it:"
      ],
      "metadata": {
        "id": "b6c0qOL7nviT"
      }
    },
    {
      "cell_type": "code",
      "source": [
        "import re\n",
        "report = \"Patient ID: 76345 | Scan: MRI\"\n",
        "match = re.search(r\"Patient ID: (\\d+)\", report)\n",
        "\n",
        "if match:\n",
        "    print(match.group(1))  # Output: 76345"
      ],
      "metadata": {
        "id": "9umExanrnxtW"
      },
      "outputs": [],
      "execution_count": null
    },
    {
      "cell_type": "markdown",
      "source": [
        "#### **Let’s Break It Down:**\n",
        "\n",
        "1. **`r\"Patient ID: (\\d+)\"`**: This is our **Regex pattern**.\n",
        "   - **`Patient ID:`**: Regex looks for the exact phrase **“Patient ID:”**.\n",
        "   - **`\\d+`**: **`\\d`** means \"digit,\" and **`+`** means “one or more.” So, `\\d+` matches any number of digits (the Patient ID).\n",
        "   - **`()`**: The parentheses **capture** the digits so that Dr. Ama can pull them out!\n",
        "\n",
        "When Dr. Ama runs this code, Regex finds **76345** and gives it to her!"
      ],
      "metadata": {
        "id": "XQxS2RGun0K5"
      }
    },
    {
      "cell_type": "markdown",
      "source": [
        "#### **Explaining the Magic:**\n",
        "\n",
        "- **`r\"Patient ID: (\\d+)|Scan: (\\w+)\"`**: This pattern looks for **either** the **Patient ID** (a number) **or** the **Scan type** (a word like MRI or CT).\n",
        "  - **`\\d+`** grabs numbers (like the **Patient ID**).\n",
        "  - **`\\w+`** grabs words (like the **Scan type**).\n",
        "- **`findall()`**: This function grabs **all matches** at once, so we can loop through and print both pieces of information.\n",
        "\n",
        "Now, Dr. Ama can easily pull out **both** the Patient ID and Scan type in one go:\n",
        "```\n",
        "Patient ID: 76345, Scan Type: MRI\n",
        "```"
      ],
      "metadata": {
        "id": "V4q01iCEoMxT"
      }
    },
    {
      "cell_type": "markdown",
      "source": [
        "### **Try It Yourself!**\n",
        "\n",
        "Now that you’ve seen a couple of examples, it’s time to try some of your own! Below are a few more examples that you can try:"
      ],
      "metadata": {
        "id": "fu_8B3maoOT1"
      }
    },
    {
      "cell_type": "markdown",
      "source": [
        "#### **1. Extracting Email Addresses**\n",
        "\n",
        "Imagine Dr. Ama is collecting contact information from patient reports. She needs to extract email addresses from the following text:\n",
        "\n",
        "`\"Please contact us at info@medicalclinic.com for inquiries.\"`\n",
        "\n",
        "Write a Regex pattern that can **find email addresses**. Here's a starting point:"
      ],
      "metadata": {
        "id": "3MlQUmWhoRD_"
      }
    },
    {
      "cell_type": "code",
      "source": [
        "import re\n",
        "text = \"Please contact us at info@medicalclinic.com for inquiries.\"\n",
        "match = re.search(r\"(\\w+@\\w+\\.\\w+)\", text)\n",
        "if match:\n",
        "    print(match.group(1))  # Output: info@medicalclinic.com"
      ],
      "metadata": {
        "id": "AnUXieJ_oVuZ"
      },
      "outputs": [],
      "execution_count": null
    },
    {
      "cell_type": "markdown",
      "source": [
        "#### **2. Extracting Dates (MM/DD/YYYY)**\n",
        "\n",
        "Dr. Ama needs to search through a list of appointments and extract the **dates** (in the format MM/DD/YYYY):\n",
        "\n",
        "`\"The patient's appointment was on 12/25/2024.\"`\n",
        "\n",
        "Write a Regex pattern to **extract the date**:"
      ],
      "metadata": {
        "id": "IDzgzWNZoZSJ"
      }
    },
    {
      "cell_type": "code",
      "source": [
        "import re\n",
        "text = \"The patient's appointment was on 12/25/2024.\"\n",
        "match = re.search(r\"(\\d{2}/\\d{2}/\\d{4})\", text)\n",
        "if match:\n",
        "    print(match.group(1))  # Output: 12/25/2024"
      ],
      "metadata": {
        "id": "ckHHX8fYoaE1"
      },
      "outputs": [],
      "execution_count": null
    },
    {
      "cell_type": "markdown",
      "source": [
        "#### **3. Extracting Phone Numbers**\n",
        "\n",
        "Suppose Dr. Ama needs to extract phone numbers from a report. Phone numbers can look like this: `+233-202850721`.\n",
        "\n",
        "Here’s a challenge: Write a Regex pattern to **extract phone numbers**:"
      ],
      "metadata": {
        "id": "74nZ3ziaocpd"
      }
    },
    {
      "cell_type": "code",
      "source": [
        "import re\n",
        "text = \"The patient's contact is +233-202850721.\"\n",
        "match = re.search(r\"(\\+233-\\d{9})\", text)\n",
        "if match:\n",
        "    print(match.group(1))  # Output: +233-202850721"
      ],
      "metadata": {
        "id": "SN7ao1-CocU6"
      },
      "outputs": [],
      "execution_count": null
    },
    {
      "cell_type": "markdown",
      "source": [
        "#### **4. Extracting Multiple Words**\n",
        "\n",
        "Dr. Ama also needs to extract all the **keywords** in a sentence, like “MRI” and “CT scan” from the following sentence:\n",
        "\n",
        "`\"The patient underwent an MRI and a CT scan for further diagnosis.\"`\n",
        "\n",
        "Can you write a Regex pattern to find all the words related to scans? Try it:"
      ],
      "metadata": {
        "id": "90WP9H0WoiUv"
      }
    },
    {
      "cell_type": "code",
      "source": [
        "import re\n",
        "text = \"The patient underwent an MRI and a CT scan for further diagnosis.\"\n",
        "matches = re.findall(r\"\\b(MRI|CT scan)\\b\", text)\n",
        "for match in matches:\n",
        "    print(match)  # Output: MRI, CT scan"
      ],
      "metadata": {
        "id": "wq4d3-0qoloh"
      },
      "outputs": [],
      "execution_count": null
    },
    {
      "cell_type": "markdown",
      "source": [
        "## **📜 2️⃣ What Are Integers?**\n",
        "\n",
        "An **integer** is a **whole number** that can be **positive**, **negative**, or **zero**. Integers are used to represent countable, whole values, such as **patient ID numbers**, **temperatures**, **heart rates**, and **scan counts**. In Python, integers don’t have any decimal places and are key for calculations involving whole values.\n"
      ],
      "metadata": {
        "id": "O6y0S4kSvtXg"
      }
    },
    {
      "cell_type": "markdown",
      "source": [
        "### 🏥 **Case File: Dr. Ama’s Patient Data**  \n",
        "Dr. Ama needs to work with **integer values** regularly, whether it's calculating the **number of scans** performed, **tracking the age** of a patient, or **analyzing temperature readings** in diagnostic equipment.\n",
        "\n",
        "Let’s dive into **basic integer operations** that will help Dr. Ama efficiently analyze data and make informed decisions!"
      ],
      "metadata": {
        "id": "MODc56ofv1i5"
      }
    },
    {
      "cell_type": "markdown",
      "source": [
        "**📌 Example:** Performing Simple Calculations  \n",
        "Dr. Ama tracks the **age of her patients** and needs to calculate the **difference in age** between two patients to assess the effectiveness of treatments."
      ],
      "metadata": {
        "id": "oIDt1Eudv5Wx"
      }
    },
    {
      "cell_type": "code",
      "source": [
        "# Basic integer operations\n",
        "patient_age_1 = 35\n",
        "patient_age_2 = 50\n",
        "\n",
        "# Subtracting to find the age difference\n",
        "age_difference = patient_age_2 - patient_age_1\n",
        "print(f\"The age difference between the two patients is {age_difference} years.\")"
      ],
      "metadata": {
        "id": "4suISI7gvs-6"
      },
      "outputs": [],
      "execution_count": null
    },
    {
      "cell_type": "markdown",
      "source": [
        "### **✅ In Radiology:**\n",
        "- Patient **ages** are integers  \n",
        "- **Scan counts** like the number of MRIs are integers  \n",
        "- **Temperature readings** from cryogenic freezers use negative integers"
      ],
      "metadata": {
        "id": "8vkU28Z0v_oH"
      }
    },
    {
      "cell_type": "markdown",
      "source": [
        "### **🏥 Now It's Your Turn! Help Dr. Ama Track Patient Data**"
      ],
      "metadata": {
        "id": "p6YKibd_wCmM"
      }
    },
    {
      "cell_type": "markdown",
      "source": [
        "🔬 **Case File: Dr. Ama’s Latest Patient Record**\n",
        "\n",
        "Dr. Ama needs to calculate the **age difference** between a 45-year-old patient and a 60-year-old patient. 🧑‍⚕️\n",
        "\n",
        "- **Calculate** their **age difference** and print the result.\n",
        "- **Store their ages** as integer variables and use basic arithmetic operations to calculate the difference."
      ],
      "metadata": {
        "id": "hvHUAM8cwK5d"
      }
    },
    {
      "cell_type": "markdown",
      "source": [
        "### **➕ 2️⃣ Integer Division vs. Float Division:**\n",
        "\n",
        "When Dr. Ama works with **time calculations** (like dividing the number of hours spent on patient scans), she may need to distinguish between **integer division** (which gives a whole number) and **float division** (which includes decimals)."
      ],
      "metadata": {
        "id": "QCuKNYAGwNxw"
      }
    },
    {
      "cell_type": "markdown",
      "source": [
        "**📌 Example:** Integer Division  \n",
        "Dr. Ama needs to divide a total of **50 medical scans** across **8 hours** of work. She needs to know the **whole number of scans** she can perform per hour."
      ],
      "metadata": {
        "id": "Ks7OLTEAwQ9D"
      }
    },
    {
      "cell_type": "code",
      "source": [
        "# Integer division example\n",
        "total_scans = 50\n",
        "work_hours = 8\n",
        "\n",
        "# Using integer division (//) to get whole number of scans per hour\n",
        "scans_per_hour = total_scans // work_hours\n",
        "print(f\"Dr. Ama can perform {scans_per_hour} scans per hour.\")"
      ],
      "metadata": {
        "id": "7OBbCoPXwKht"
      },
      "outputs": [],
      "execution_count": null
    },
    {
      "cell_type": "markdown",
      "source": [
        "**📌 Example:** Float Division  \n",
        "In another case, Dr. Ama needs to calculate the **exact number of hours** spent on each scan, which may involve fractional hours. Here, **float division** gives the more accurate result."
      ],
      "metadata": {
        "id": "gMC6xLiAwUUL"
      }
    },
    {
      "cell_type": "code",
      "source": [
        "# Float division example\n",
        "scans_per_hour_float = total_scans / work_hours\n",
        "print(f\"Dr. Ama spends {scans_per_hour_float:.2f} hours per scan.\")"
      ],
      "metadata": {
        "id": "kn8x1lj0waW6"
      },
      "outputs": [],
      "execution_count": null
    },
    {
      "cell_type": "markdown",
      "source": [
        "### **✅ In Radiology:**\n",
        "- **Integer division** is useful when calculating **whole numbers** like the number of scans performed each hour.\n",
        "- **Float division** helps when you need a more **precise result** (e.g., exact time per scan)."
      ],
      "metadata": {
        "id": "DrXMCe2WwXLP"
      }
    },
    {
      "cell_type": "markdown",
      "source": [
        "### **🏥 Your Challenge:**  \n",
        "🔬 **Case File: Dr. Ama’s Clinic Hours**\n",
        "\n",
        "Dr. Ama performed **48 scans** in a total of **7.5 hours**. She needs to calculate:\n",
        "- How many scans she can perform per hour (use integer division).\n",
        "- How much time, on average, is spent on each scan (use float division)."
      ],
      "metadata": {
        "id": "p18pWVAJwgDn"
      }
    },
    {
      "cell_type": "markdown",
      "source": [
        "### **➕ 3️⃣ Type Conversion: Converting Data Types**\n",
        "\n",
        "Sometimes, Dr. Ama might receive **data as a string** (e.g., `\"45\"`), but she needs to work with it as an **integer** (e.g., `45`) for calculations. The `int()` function helps convert values from **strings** or **floats** into integers."
      ],
      "metadata": {
        "id": "KS-6D2rEwj6E"
      }
    },
    {
      "cell_type": "markdown",
      "source": [
        "**📌 Example:** Converting from String to Integer  \n",
        "Dr. Ama receives a **patient's age** as a string and needs to perform calculations. She uses the `int()` function to convert it."
      ],
      "metadata": {
        "id": "-byX1uOmwnts"
      }
    },
    {
      "cell_type": "code",
      "source": [
        "# Type conversion example\n",
        "str_age = \"45\"\n",
        "patient_age = int(str_age)\n",
        "print(f\"The patient's age is {patient_age} years.\")"
      ],
      "metadata": {
        "id": "tdLIj3w4wsVt"
      },
      "outputs": [],
      "execution_count": null
    },
    {
      "cell_type": "markdown",
      "source": [
        "### **🏥 Your Challenge:**\n",
        "🔬 **Case File: Dr. Ama’s Medication Dosage**\n",
        "\n",
        "Dr. Ama receives the **medication dosage** as a string, e.g., `\"5.8\"`, but needs to work with it as an integer for accurate measurements. **Convert the dosage** and **print the rounded value** to make sure Dr. Ama administers the right amount."
      ],
      "metadata": {
        "id": "17Pg1aPcwv8F"
      }
    },
    {
      "cell_type": "code",
      "source": [
        "# START HERE"
      ],
      "metadata": {
        "id": "GB5GoLDyw14J"
      },
      "outputs": [],
      "execution_count": null
    },
    {
      "cell_type": "markdown",
      "source": [
        "## **📜 3️⃣ What Are Floats?**\n",
        "\n",
        "A **float** is a **data type** in Python used to represent **real numbers** with **decimal points**. Floats are useful when you need to work with numbers that are not whole, such as **measurements, currency**, or **temperatures**.\n",
        "\n",
        "In Dr. Ama's work, she often deals with **precise data**, like **medication dosages** or **blood pressure measurements**, which are often decimals."
      ],
      "metadata": {
        "id": "4wlqekqhy3Wt"
      }
    },
    {
      "cell_type": "markdown",
      "source": [
        "### 🏥 **Dr. Ama’s New Challenge with Floats**\n",
        "\n",
        "Dr. Ama has just started working with new patient data that includes **blood pressure readings** in decimal format (e.g., 120.5/80.3). In order to provide the best care, Dr. Ama needs to store and manipulate these values precisely.\n",
        "\n",
        "Let’s help Dr. Ama understand **floats** so she can properly handle these decimal values! 🚀"
      ],
      "metadata": {
        "id": "wT1wumVZy-wv"
      }
    },
    {
      "cell_type": "markdown",
      "source": [
        "### 📌 **Example:** Blood Pressure Reading\n"
      ],
      "metadata": {
        "id": "E8XuoZwky__9"
      }
    },
    {
      "cell_type": "code",
      "source": [
        "# Blood pressure readings as floats\n",
        "systolic_pressure = 120.5  # systolic pressure (mmHg)\n",
        "diastolic_pressure = 80.3  # diastolic pressure (mmHg)\n",
        "\n",
        "print(f\"Systolic Pressure: {systolic_pressure} mmHg\")\n",
        "print(f\"Diastolic Pressure: {diastolic_pressure} mmHg\")"
      ],
      "metadata": {
        "id": "2MIDEy-UzCgM"
      },
      "outputs": [],
      "execution_count": null
    },
    {
      "cell_type": "markdown",
      "source": [
        "In this case:\n",
        "- **120.5** and **80.3** are floats because they are **decimal values**.\n",
        "\n",
        "### **🏥 Now It's Your Turn! Help Dr. Ama Store Blood Pressure Readings**\n",
        "\n",
        "🔬 **Case File: Dr. Ama’s New Patient**\n",
        "\n",
        "Dr. Ama needs to store the following values for a new patient’s **blood pressure reading**:\n",
        "- **Systolic pressure**: 130.7\n",
        "- **Diastolic pressure**: 85.4"
      ],
      "metadata": {
        "id": "LK47ECL2zF9G"
      }
    },
    {
      "cell_type": "markdown",
      "source": [
        "### **👨‍⚕️ Your Challenge:**\n",
        "**Write a Python script** to store:\n",
        "✅ **Systolic pressure**  \n",
        "✅ **Diastolic pressure**  \n",
        "\n",
        "💡 **Hints:**  \n",
        "- Use **meaningful variable names** 📌  \n",
        "- Store all values as **floats** 🔢  \n",
        "- Use `print()` to display the data clearly  \n"
      ],
      "metadata": {
        "id": "rjRZgYrmzJOA"
      }
    },
    {
      "cell_type": "code",
      "source": [
        "# START HERE"
      ],
      "metadata": {
        "id": "r-tUrKetzMfP"
      },
      "outputs": [],
      "execution_count": null
    },
    {
      "cell_type": "markdown",
      "source": [
        "## **📜 2️⃣ Floating-Point Arithmetic**\n",
        "\n",
        "When you work with floats, you’ll often need to perform **mathematical operations** such as **addition, subtraction, multiplication**, or **division** to analyze the data."
      ],
      "metadata": {
        "id": "4S3ayxUtzO6U"
      }
    },
    {
      "cell_type": "markdown",
      "source": [
        "### 🏥 **Dr. Ama’s Calculations for Medication Dosage**\n",
        "\n",
        "Dr. Ama needs to calculate the right dosage of a medication. The recommended dose is based on the patient’s **weight**, and the formula requires floating-point arithmetic.\n",
        "\n",
        "Let's say the **dosage** is calculated using the formula:  \n",
        "`Dosage = weight * 0.1`, where `weight` is in **kg**."
      ],
      "metadata": {
        "id": "tEd_b8V8zWKu"
      }
    },
    {
      "cell_type": "markdown",
      "source": [
        "### 📌 **Example:** Calculating Dosage\n"
      ],
      "metadata": {
        "id": "DOOe7MTkzZBO"
      }
    },
    {
      "cell_type": "code",
      "source": [
        "# Weight of the patient (kg)\n",
        "patient_weight = 72.5  # in kilograms\n",
        "\n",
        "# Dosage calculation (float)\n",
        "dosage = patient_weight * 0.1  # 10% of patient's weight\n",
        "print(f\"Recommended Dosage: {dosage} mg\")"
      ],
      "metadata": {
        "id": "9kXOm_fRzdUG"
      },
      "outputs": [],
      "execution_count": null
    },
    {
      "cell_type": "markdown",
      "source": [
        "- **Result:** The dosage is **7.25 mg**.\n"
      ],
      "metadata": {
        "id": "azIhFkThzjMR"
      }
    },
    {
      "cell_type": "markdown",
      "source": [
        "### **🏥 Now It's Your Turn! Help Dr. Ama Calculate Medication Dosage**\n",
        "\n",
        "🔬 **Case File: Dr. Ama’s Patient Medication**\n",
        "\n",
        "Dr. Ama has a patient with a weight of **85.4 kg**. She needs to calculate the recommended medication dosage, which is **10%** of the patient's weight."
      ],
      "metadata": {
        "id": "7Vv1kOTtzmdr"
      }
    },
    {
      "cell_type": "markdown",
      "source": [
        "### **👨‍⚕️ Your Challenge:**\n",
        "**Write a Python script** to calculate:\n",
        "✅ **The dosage** (10% of weight)  \n",
        "\n",
        "💡 **Hints:**  \n",
        "- Multiply the patient’s weight by 0.1 to get the dosage.  \n",
        "- Display the result using `print()` 📌"
      ],
      "metadata": {
        "id": "cyWyzbi6zneL"
      }
    },
    {
      "cell_type": "code",
      "source": [
        "# START HERE"
      ],
      "metadata": {
        "id": "PXfc99L2zgB_"
      },
      "outputs": [],
      "execution_count": null
    },
    {
      "cell_type": "markdown",
      "source": [
        "## **📜 3️⃣ Rounding Floats**\n",
        "\n",
        "After performing calculations with floats, you may need to **round** them to a specific number of decimal places for **clarity** or **precision**. This is especially important in **medical contexts**, where the number of decimals can be important for correct dosage or measurements.\n"
      ],
      "metadata": {
        "id": "1PWHCCJ6zs2Z"
      }
    },
    {
      "cell_type": "markdown",
      "source": [
        "### 🏥 **Dr. Ama’s Rounded Results**\n",
        "\n",
        "When calculating **BMI** (Body Mass Index), Dr. Ama needs to round the result to **two decimal places** for readability. For example, if the BMI calculation results in `24.56789`, she would want to round it to `24.57`."
      ],
      "metadata": {
        "id": "5okIxSEUzvfm"
      }
    },
    {
      "cell_type": "markdown",
      "source": [
        "### 📌 **Example:** Rounding BMI"
      ],
      "metadata": {
        "id": "u7magCoDzyti"
      }
    },
    {
      "cell_type": "code",
      "source": [
        "# BMI calculation result (float)\n",
        "bmi_result = 24.56789\n",
        "\n",
        "# Rounding the result to two decimal places\n",
        "rounded_bmi = round(bmi_result, 2)\n",
        "\n",
        "print(f\"BMI (rounded): {rounded_bmi}\")"
      ],
      "metadata": {
        "id": "PtAUO9rHz1R1"
      },
      "outputs": [],
      "execution_count": null
    },
    {
      "cell_type": "markdown",
      "source": [
        "- **Result:** The rounded BMI is **24.57**.\n"
      ],
      "metadata": {
        "id": "9O6Oexq0z3_G"
      }
    },
    {
      "cell_type": "markdown",
      "source": [
        "\n",
        "### **🏥 Now It's Your Turn! Help Dr. Ama Round the BMI**\n",
        "\n",
        "🔬 **Case File: Dr. Ama’s Patient BMI**\n",
        "\n",
        "Dr. Ama calculated the **BMI** of a patient, and the result is **28.7869**. She needs to round this to two decimal places for the report."
      ],
      "metadata": {
        "id": "asX3AcwHz9QW"
      }
    },
    {
      "cell_type": "markdown",
      "source": [
        "### **👨‍⚕️ Your Challenge:**\n",
        "**Write a Python script** to round the BMI to two decimal places.\n",
        "\n",
        "💡 **Hints:**  \n",
        "- Use the `round()` function to round the result.  \n",
        "- Display the rounded value using `print()`.  "
      ],
      "metadata": {
        "id": "SukKWIg-0BEu"
      }
    },
    {
      "cell_type": "code",
      "source": [
        "# START HERE"
      ],
      "metadata": {
        "id": "LcVQJBsvz88g"
      },
      "outputs": [],
      "execution_count": null
    },
    {
      "cell_type": "markdown",
      "source": [
        "## **📜 4️⃣ Floating-Point Precision and Errors**\n",
        "\n",
        "Floats in Python can sometimes lead to **precision errors** because they are stored in **binary** format. This means that certain decimal numbers cannot be represented exactly, which might cause small **rounding errors**.\n"
      ],
      "metadata": {
        "id": "AZ9GqOaq0HNN"
      }
    },
    {
      "cell_type": "markdown",
      "source": [
        "### 🏥 **Dr. Ama’s Precision Issue**\n",
        "\n",
        "Dr. Ama encountered a situation where she was calculating **medication dosages** using decimal values. However, after summing a series of calculations, the result appeared to be slightly off due to floating-point precision."
      ],
      "metadata": {
        "id": "MJy80CvC0LkI"
      }
    },
    {
      "cell_type": "markdown",
      "source": [
        "\n",
        "For example, when calculating:\n"
      ],
      "metadata": {
        "id": "x4Tj6W0F0IFj"
      }
    },
    {
      "cell_type": "code",
      "source": [
        "total_dosage = 0.1 + 0.2 + 0.3\n",
        "print(total_dosage)  # Output: 0.6000000000000001 (instead of 0.6)"
      ],
      "metadata": {
        "id": "yC4jsXvZ0QpZ"
      },
      "outputs": [],
      "execution_count": null
    },
    {
      "cell_type": "markdown",
      "source": [
        "### 📌 **Example:** Floating-Point Precision Error"
      ],
      "metadata": {
        "id": "N0lHHNXC0S2v"
      }
    },
    {
      "cell_type": "code",
      "source": [
        "# Summing float values with precision error\n",
        "result = 0.1 + 0.2 + 0.3\n",
        "print(result)  # Output: 0.6000000000000001"
      ],
      "metadata": {
        "id": "6K4rOVSp0Vko"
      },
      "outputs": [],
      "execution_count": null
    },
    {
      "cell_type": "markdown",
      "source": [
        "This small error occurs due to the way Python handles floating-point numbers. **However**, you can **manage** these errors by using rounding or by **limiting decimal places**."
      ],
      "metadata": {
        "id": "MslZoEdE0ZQ3"
      }
    },
    {
      "cell_type": "markdown",
      "source": [
        "### **🏥 Now It's Your Turn! Understand Precision Issues**\n",
        "\n",
        "🔬 **Case File: Dr. Ama’s Medication Formula**\n",
        "\n",
        "Dr. Ama needs to calculate the total dosage for a patient who needs **0.1 mg, 0.2 mg, and 0.3 mg** doses. She has noticed a small discrepancy in her calculations."
      ],
      "metadata": {
        "id": "uW7hN2wH0dIp"
      }
    },
    {
      "cell_type": "markdown",
      "source": [
        "### **👨‍⚕️ Your Challenge:**\n",
        "**Write a Python script** to calculate the sum of **0.1 + 0.2 + 0.3** and print the result.  \n",
        "\n",
        "💡 **Hints:**  \n",
        "- Use `round()` to fix the precision issue.  \n",
        "- Compare the output with the expected result.  \n"
      ],
      "metadata": {
        "id": "zu4y-acw0ejB"
      }
    },
    {
      "cell_type": "code",
      "source": [
        "# START HERE"
      ],
      "metadata": {
        "id": "ZAXAi77Q0eA0"
      },
      "outputs": [],
      "execution_count": null
    },
    {
      "cell_type": "markdown",
      "source": [
        "### 📜 **4️⃣ Booleans (True/False)**\n",
        "\n",
        "**Booleans** represent **True** or **False** values. These are useful for making decisions, such as whether a **patient** is **admitted** or if a **treatment** was **successful**."
      ],
      "metadata": {
        "id": "czbzENC02s4c"
      }
    },
    {
      "cell_type": "markdown",
      "source": [
        "### 🏥 **Dr. Ama's Radiology Clinic: Boolean Challenges**\n",
        "\n",
        "Dr. Ama is working to make decisions quickly about her **patients**. She uses **Booleans** to check **True or False** conditions to determine whether a patient is **admitted**, if they need **urgent care**, or whether their **treatment** is successful. Booleans help Dr. Ama make quick and accurate decisions in her clinic.\n",
        "\n",
        "Let's explore how Dr. Ama uses **Booleans** to make decisions and streamline her medical data process!"
      ],
      "metadata": {
        "id": "iMvfyLWk2wJi"
      }
    },
    {
      "cell_type": "markdown",
      "source": [
        "### 🔹 **1. Creating Boolean Variables**\n",
        "\n",
        "To start, Dr. Ama needs to assign **True** or **False** values to various patient conditions. These can represent anything from whether a **patient is admitted** to whether a **treatment is successful**.\n"
      ],
      "metadata": {
        "id": "0Ns2wtZ72znz"
      }
    },
    {
      "cell_type": "markdown",
      "source": [
        "#### **Examples:**\n"
      ],
      "metadata": {
        "id": "0MY1Ld2523Aa"
      }
    },
    {
      "cell_type": "markdown",
      "source": [
        "1. Dr. Ama assigns **True** if a patient is admitted, and **False** if the patient has been discharged."
      ],
      "metadata": {
        "id": "91jwbk7U3AqD"
      }
    },
    {
      "cell_type": "code",
      "source": [
        "patient_admitted = True  # Patient is admitted"
      ],
      "metadata": {
        "id": "2iYTtSmz3EKS"
      },
      "outputs": [],
      "execution_count": null
    },
    {
      "cell_type": "markdown",
      "source": [
        "2. For a treatment, Dr. Ama can use **True** to indicate success, and **False** to indicate failure.\n"
      ],
      "metadata": {
        "id": "KLmYO3zy3IA3"
      }
    },
    {
      "cell_type": "code",
      "source": [
        "treatment_successful = False  # Treatment did not work"
      ],
      "metadata": {
        "id": "0r7wgdry3Krc"
      },
      "outputs": [],
      "execution_count": null
    },
    {
      "cell_type": "markdown",
      "source": [
        "### 🏥 **Test Your Understanding:**\n"
      ],
      "metadata": {
        "id": "s_D_TY6C3NEq"
      }
    },
    {
      "cell_type": "markdown",
      "source": [
        "Dr. Ama needs to create variables to track a patient's **admission** and **treatment status**. Create two Boolean variables:\n",
        "1. **is_admitted**: Set it to **True**.\n",
        "2. **treatment_successful**: Set it to **False**."
      ],
      "metadata": {
        "id": "bO2Ld4qt3RHJ"
      }
    },
    {
      "cell_type": "markdown",
      "source": [
        "### 🏥 **Challenge 1:**\n",
        "Create a Boolean variable to check if the patient has been admitted. Set the variable `is_admitted` to **True** and print the value."
      ],
      "metadata": {
        "id": "9qRSBrmA3T-1"
      }
    },
    {
      "cell_type": "code",
      "source": [
        "# START HERE"
      ],
      "metadata": {
        "id": "r7Cy90QX3YtE"
      },
      "outputs": [],
      "execution_count": null
    },
    {
      "cell_type": "markdown",
      "source": [
        "### 🏥 **Challenge 2:**\n",
        "Check whether the **treatment** for a patient is successful. Set `treatment_successful` to **True** or **False** and print it out."
      ],
      "metadata": {
        "id": "zYfiWYxQ3b0c"
      }
    },
    {
      "cell_type": "code",
      "source": [
        "# START HERE"
      ],
      "metadata": {
        "id": "nHUatSts3bFV"
      },
      "outputs": [],
      "execution_count": null
    },
    {
      "cell_type": "markdown",
      "source": [
        "### 🔹 **2. Boolean Data Type**\n",
        "\n",
        "A **Boolean** is a special data type that can only have two values: **True** or **False**. Dr. Ama needs to ensure her system is using **Booleans** correctly to avoid errors when checking patient conditions."
      ],
      "metadata": {
        "id": "v0JcNHk43e3o"
      }
    },
    {
      "cell_type": "markdown",
      "source": [
        "#### **Examples:**"
      ],
      "metadata": {
        "id": "IgAgiSqj3jk5"
      }
    },
    {
      "cell_type": "markdown",
      "source": [
        "1. Checking the **type** of a Boolean value is simple. For instance:"
      ],
      "metadata": {
        "id": "HNl_g5FQ3kiC"
      }
    },
    {
      "cell_type": "code",
      "source": [
        "print(type(True))  # <class 'bool'>\n",
        "print(type(False))  # <class 'bool'>"
      ],
      "metadata": {
        "id": "u4Ml4-f73nco"
      },
      "outputs": [],
      "execution_count": null
    },
    {
      "cell_type": "markdown",
      "source": [
        "Dr. Ama can be sure that `True` and `False` are **Boolean** values."
      ],
      "metadata": {
        "id": "eC56E-k23reQ"
      }
    },
    {
      "cell_type": "markdown",
      "source": [
        "2. Booleans aren't the same as other data types like **integers** or **strings**. This distinction is important for Dr. Ama when comparing values or making logical decisions.\n"
      ],
      "metadata": {
        "id": "VShbmu8E3s50"
      }
    },
    {
      "cell_type": "code",
      "source": [
        "# Checking the type of the string \"True\" and \"False\"\n",
        "string_true = \"True\"\n",
        "string_false = \"False\"\n",
        "\n",
        "print(type(string_true))  # Output: <class 'str'>\n",
        "print(type(string_false)) # Output: <class 'str'>\n",
        "\n",
        "# Demonstrating the relationship between Booleans and integers\n",
        "boolean_true = True\n",
        "boolean_false = False\n",
        "\n",
        "# Boolean True is equivalent to 1\n",
        "print(boolean_true == 1)  # Output: True\n",
        "\n",
        "# Boolean False is equivalent to 0\n",
        "print(boolean_false == 0)  # Output: True"
      ],
      "metadata": {
        "id": "N5vZK5uS4OyM"
      },
      "outputs": [],
      "execution_count": null
    },
    {
      "cell_type": "markdown",
      "source": [
        "\n",
        "**Booleans** are expressed as `True` or `False`, with the first letter capitalized, while **integers** are represented as whole numbers (e.g., `5`, `100`), and **strings** are enclosed in quotes (e.g., `\"patient record\"`). The distinction lies in how they are written and used—Booleans are primarily for representing logical conditions, while integers and strings are used for **numerical** and **textual** data, respectively.\n"
      ],
      "metadata": {
        "id": "iukncZcI4PR7"
      }
    },
    {
      "cell_type": "markdown",
      "source": [
        "### 🏥 **Test Your Understanding:**\n",
        "\n",
        "Dr. Ama is making sure her patient status checks are accurate. She checks the **data type** of the Boolean values to confirm that her checks will work."
      ],
      "metadata": {
        "id": "RRi7LlWr4oxJ"
      }
    },
    {
      "cell_type": "markdown",
      "source": [
        "### 🏥 **Challenge 1:**\n",
        "Use the `type()` function to check the **data type** of the **True** Boolean and print it."
      ],
      "metadata": {
        "id": "HALDrlp74p2-"
      }
    },
    {
      "cell_type": "code",
      "source": [
        "# START HERE"
      ],
      "metadata": {
        "id": "he-MLLK84tZf"
      },
      "outputs": [],
      "execution_count": null
    },
    {
      "cell_type": "markdown",
      "source": [
        "### 🏥 **Challenge 2:**\n",
        "Check the **type** of a **False** Boolean and print it."
      ],
      "metadata": {
        "id": "hQKW9Sv94vJ-"
      }
    },
    {
      "cell_type": "code",
      "source": [
        "# START HERE"
      ],
      "metadata": {
        "id": "5AGUaAbD4xUp"
      },
      "outputs": [],
      "execution_count": null
    },
    {
      "cell_type": "markdown",
      "source": [
        "### 🔹 **3. Comparison Operators with Booleans**\n",
        "\n",
        "Dr. Ama often needs to compare patient data, such as **age**, to determine if a patient qualifies for a treatment. Comparison operators (`<`, `>`, `==`, `<=`, `>=`, `!=`) return **True** or **False** based on the condition."
      ],
      "metadata": {
        "id": "mBK9bsby4zag"
      }
    },
    {
      "cell_type": "markdown",
      "source": [
        "#### **Examples:**"
      ],
      "metadata": {
        "id": "Iyo-YpHM42eg"
      }
    },
    {
      "cell_type": "markdown",
      "source": [
        "1. Dr. Ama checks if a patient is an **adult** by comparing their **age**:"
      ],
      "metadata": {
        "id": "wCYDhtNk45iI"
      }
    },
    {
      "cell_type": "code",
      "source": [
        "patient_age = 30\n",
        "is_adult = patient_age >= 18  # True if patient is an adult"
      ],
      "metadata": {
        "id": "THR52Apv474f"
      },
      "outputs": [],
      "execution_count": null
    },
    {
      "cell_type": "markdown",
      "source": [
        "2. Dr. Ama also checks if the **treatment** was **successful** based on **symptoms**:"
      ],
      "metadata": {
        "id": "lF552VdH4-V3"
      }
    },
    {
      "cell_type": "code",
      "source": [
        "has_symptoms = True\n",
        "is_treatment_successful = has_symptoms == True  # True if symptoms were present"
      ],
      "metadata": {
        "id": "1K-CGQYZ5A3F"
      },
      "outputs": [],
      "execution_count": null
    },
    {
      "cell_type": "markdown",
      "source": [
        "### 🏥 **Test Your Understanding:**\n",
        "\n",
        "Dr. Ama is analyzing if a patient qualifies for a **specific treatment** based on their age. If the patient is 18 years or older, they qualify."
      ],
      "metadata": {
        "id": "AgkFeR8Y5Gpn"
      }
    },
    {
      "cell_type": "markdown",
      "source": [
        "**Challenge 1:**\n",
        "Write a condition to check if the **age** of a patient is **greater than or equal to 18**."
      ],
      "metadata": {
        "id": "uTPFAVpg5Hxn"
      }
    },
    {
      "cell_type": "code",
      "source": [
        "# START HERE"
      ],
      "metadata": {
        "id": "oBPwp1kV5JxB"
      },
      "outputs": [],
      "execution_count": null
    },
    {
      "cell_type": "markdown",
      "source": [
        "### 🏥 **Challenge 2:**\n",
        "Dr. Ama wants to check if a patient has been **admitted** and whether they have any **symptoms**. Write a Boolean expression to check if the patient has **symptoms** and is an **adult**.\n"
      ],
      "metadata": {
        "id": "EdnY388K5MF6"
      }
    },
    {
      "cell_type": "code",
      "source": [
        "# START HERE"
      ],
      "metadata": {
        "id": "C0VDbNSu5Ot5"
      },
      "outputs": [],
      "execution_count": null
    },
    {
      "cell_type": "markdown",
      "source": [
        "### 🔹 **4. Using Boolean Expressions**\n",
        "\n",
        "A **Boolean expression** involves combining one or more conditions to create a final **True** or **False** result. This allows Dr. Ama to assess **multiple factors** before making decisions."
      ],
      "metadata": {
        "id": "HhwxjxWh5QZB"
      }
    },
    {
      "cell_type": "markdown",
      "source": [
        "#### **Examples:**\n"
      ],
      "metadata": {
        "id": "zrRWH7e-5TPt"
      }
    },
    {
      "cell_type": "markdown",
      "source": [
        "1. Dr. Ama combines two conditions: **admission** and **treatment success**:"
      ],
      "metadata": {
        "id": "u32KAI8V5WBN"
      }
    },
    {
      "cell_type": "code",
      "source": [
        "is_healthy = True\n",
        "treatment_successful = False\n",
        "eligible_for_treatment = is_healthy and treatment_successful  # False"
      ],
      "metadata": {
        "id": "jP_NHaVK5YT6"
      },
      "outputs": [],
      "execution_count": null
    },
    {
      "cell_type": "markdown",
      "source": [
        "2. Dr. Ama needs to check if a patient has both **fever** and **headache** before determining whether they need an urgent care treatment:"
      ],
      "metadata": {
        "id": "YxKFaacM5cXs"
      }
    },
    {
      "cell_type": "code",
      "source": [
        "has_fever = True\n",
        "has_headache = False\n",
        "needs_urgent_care = has_fever and has_headache  # False"
      ],
      "metadata": {
        "id": "xytk3DWL5e4F"
      },
      "outputs": [],
      "execution_count": null
    },
    {
      "cell_type": "markdown",
      "source": [
        "### 🏥 **Test Your Understanding:**\n",
        "\n",
        "Dr. Ama needs to determine if a patient qualifies for **urgent treatment**. The patient qualifies if they have a **fever** and **headache**."
      ],
      "metadata": {
        "id": "aFtDshHl5iis"
      }
    },
    {
      "cell_type": "markdown",
      "source": [
        "### 🏥 **Challenge 1:**\n",
        "Combine the two conditions **fever** and **headache** using **and**. Set both variables to **True** or **False**, and check if the patient qualifies for urgent care."
      ],
      "metadata": {
        "id": "b8ajU90O5jto"
      }
    },
    {
      "cell_type": "code",
      "source": [
        "# START HERE"
      ],
      "metadata": {
        "id": "Dbz4-XNv5jQV"
      },
      "outputs": [],
      "execution_count": null
    },
    {
      "cell_type": "markdown",
      "source": [
        "### 🏥 **Challenge 2:**\n",
        "Dr. Ama checks if the patient is **healthy** and has a **successful treatment**. If both conditions are **True**, the patient qualifies for further treatment. Write a Boolean expression to check this."
      ],
      "metadata": {
        "id": "gGgrAWu95vAj"
      }
    },
    {
      "cell_type": "code",
      "source": [
        "# START HERE"
      ],
      "metadata": {
        "id": "OrzqIrK25xiL"
      },
      "outputs": [],
      "execution_count": null
    },
    {
      "cell_type": "markdown",
      "source": [
        "### 🔹 **5. Negating Booleans with `not`**\n",
        "\n",
        "The **`not`** operator is used to **invert** a Boolean value: it turns **True** to **False** and **False** to **True**. Dr. Ama uses this when she needs to check for the **opposite** condition."
      ],
      "metadata": {
        "id": "zKvfRosn5zLv"
      }
    },
    {
      "cell_type": "markdown",
      "source": [
        "#### **Examples:**"
      ],
      "metadata": {
        "id": "zQeSpN7T52NQ"
      }
    },
    {
      "cell_type": "markdown",
      "source": [
        "1. Dr. Ama checks if a treatment **failed**:"
      ],
      "metadata": {
        "id": "obgDYXCp54_z"
      }
    },
    {
      "cell_type": "code",
      "source": [
        "treatment_successful = False\n",
        "treatment_failed = not treatment_successful  # True"
      ],
      "metadata": {
        "id": "O_FY1KQz57s1"
      },
      "outputs": [],
      "execution_count": null
    },
    {
      "cell_type": "markdown",
      "source": [
        "2. Dr. Ama uses **`not`** to check if the patient **does not** have **headache**:"
      ],
      "metadata": {
        "id": "7IfB8_b36Agr"
      }
    },
    {
      "cell_type": "code",
      "source": [
        "has_headache = False\n",
        "does_not_have_headache = not has_headache  # True"
      ],
      "metadata": {
        "id": "qmjJGaXK6AJQ"
      },
      "outputs": [],
      "execution_count": null
    },
    {
      "cell_type": "markdown",
      "source": [
        "### 🏥 **Test Your Understanding:**\n",
        "\n",
        "Dr. Ama needs to track whether her patient’s treatment **failed**. If `treatment_successful = False`, she needs to flip it to **True** using `not`."
      ],
      "metadata": {
        "id": "usWQJMEl6FaK"
      }
    },
    {
      "cell_type": "markdown",
      "source": [
        "### 🏥 **Challenge 1:**\n",
        "Negate the **treatment_successful** variable using `not` and print the result."
      ],
      "metadata": {
        "id": "X2p45x1T6L6x"
      }
    },
    {
      "cell_type": "code",
      "source": [
        "# START HERE"
      ],
      "metadata": {
        "id": "cMa1DWKP6NFX"
      },
      "outputs": [],
      "execution_count": null
    },
    {
      "cell_type": "markdown",
      "source": [
        "### 🏥 **Challenge 2:**\n",
        "Dr. Ama needs to determine if a patient **does not have a headache**. Use the **not** operator to check if the `has_headache` variable is **False**."
      ],
      "metadata": {
        "id": "l8CM44OV6PKz"
      }
    },
    {
      "cell_type": "code",
      "source": [
        "# START HERE"
      ],
      "metadata": {
        "id": "ohV9eKQ06SO9"
      },
      "outputs": [],
      "execution_count": null
    },
    {
      "cell_type": "markdown",
      "source": [
        "### 🔹 **6. Combining Booleans with `and`**\n",
        "\n",
        "The **`and`** operator combines two Boolean expressions. The result is **True** only if **both** expressions are **True**. Dr. Ama uses this when **both conditions** need to be met."
      ],
      "metadata": {
        "id": "_omsLV4e6UMh"
      }
    },
    {
      "cell_type": "markdown",
      "source": [
        "#### **Examples:**"
      ],
      "metadata": {
        "id": "UsAfhjol6a0A"
      }
    },
    {
      "cell_type": "markdown",
      "source": [
        "1. Dr. Ama checks if a patient has **fever** and **cough**:"
      ],
      "metadata": {
        "id": "wobgMlXO6dSo"
      }
    },
    {
      "cell_type": "code",
      "source": [
        "has_fever = True\n",
        "has_cough = False\n",
        "needs_urgent_care = has_fever and has_cough  # False"
      ],
      "metadata": {
        "id": "Hfp-bhHP6fbP"
      },
      "outputs": [],
      "execution_count": null
    },
    {
      "cell_type": "markdown",
      "source": [
        "2. Dr. Ama checks if a patient is **admitted** and **eligible** for treatment:"
      ],
      "metadata": {
        "id": "RZueMYOu6iHm"
      }
    },
    {
      "cell_type": "code",
      "source": [
        "is_admitted = True\n",
        "is_eligible = False\n",
        "needs_urgent_treatment = is_admitted and is_eligible  # False"
      ],
      "metadata": {
        "id": "wDgzRhP86oGc"
      },
      "outputs": [],
      "execution_count": null
    },
    {
      "cell_type": "markdown",
      "source": [
        "### 🏥 **Test Your Understanding:**\n",
        "\n",
        "Dr. Ama needs to decide if a patient needs **urgent treatment** based on having both **fever** and **cough**.\n",
        "\n"
      ],
      "metadata": {
        "id": "kAeGnPFt6pnN"
      }
    },
    {
      "cell_type": "markdown",
      "source": [
        "### 🏥 **Challenge 1:**\n",
        "Write a Boolean expression using the **and** operator to check if both conditions are **True**."
      ],
      "metadata": {
        "id": "QRu65W7V6wNX"
      }
    },
    {
      "cell_type": "code",
      "source": [
        "# START HERE"
      ],
      "metadata": {
        "id": "NVzXI9gx6xJO"
      },
      "outputs": [],
      "execution_count": null
    },
    {
      "cell_type": "markdown",
      "source": [
        "### 🏥 **Challenge 2:**\n",
        "Dr. Ama needs to check if the patient is both **admitted** and **eligible** for further treatment. Combine these two conditions using **and**."
      ],
      "metadata": {
        "id": "PwoJSwzQ6tMn"
      }
    },
    {
      "cell_type": "code",
      "source": [
        "# START HERE"
      ],
      "metadata": {
        "id": "uMOJMjrV659I"
      },
      "outputs": [],
      "execution_count": null
    },
    {
      "cell_type": "markdown",
      "source": [
        "### 🔹 **7. Combining Booleans with `or`**\n",
        "\n",
        "The **`or`** operator combines two Boolean expressions. The result is **True** if **either** condition is **True**. Dr. Ama uses this when **only one condition** needs to be met."
      ],
      "metadata": {
        "id": "_6KSIcwN67sU"
      }
    },
    {
      "cell_type": "markdown",
      "source": [
        "#### **Examples:**"
      ],
      "metadata": {
        "id": "ry3X652n7L5Z"
      }
    },
    {
      "cell_type": "markdown",
      "source": [
        "1. Dr. Ama checks if a patient has either a **fever** or a **headache**:"
      ],
      "metadata": {
        "id": "P9lRHD667QmU"
      }
    },
    {
      "cell_type": "code",
      "source": [
        "has_fever = True\n",
        "has_headache = False\n",
        "needs_urgent_care = has_fever or has_headache\n",
        "\n",
        " # True"
      ],
      "metadata": {
        "id": "ju1P34NQ7RYt"
      },
      "outputs": [],
      "execution_count": null
    },
    {
      "cell_type": "markdown",
      "source": [
        "2. Dr. Ama checks if a patient is **admitted** or **needs urgent treatment**:\n"
      ],
      "metadata": {
        "id": "O3w8szn97Vd9"
      }
    },
    {
      "cell_type": "code",
      "source": [
        "is_admitted = False\n",
        "needs_urgent_treatment = True\n",
        "is_urgent = is_admitted or needs_urgent_treatment  # True"
      ],
      "metadata": {
        "id": "OAp7tk1X67X6"
      },
      "outputs": [],
      "execution_count": null
    },
    {
      "cell_type": "markdown",
      "source": [
        "### 🏥 **Test Your Understanding:**\n",
        "\n",
        "Dr. Ama needs to check if a patient has either a **fever** or a **headache** for **urgent care**.\n",
        "\n"
      ],
      "metadata": {
        "id": "i47vb5hn7bo_"
      }
    },
    {
      "cell_type": "markdown",
      "source": [
        "### 🏥 **Challenge 1:**\n",
        "Combine the two conditions using **or** and print the result."
      ],
      "metadata": {
        "id": "wY2JDbyf7fNp"
      }
    },
    {
      "cell_type": "code",
      "source": [
        "# START HERE"
      ],
      "metadata": {
        "id": "_E4GJYlw7j1y"
      },
      "outputs": [],
      "execution_count": null
    },
    {
      "cell_type": "markdown",
      "source": [
        "### 🏥 **Challenge 2:**\n",
        "Dr. Ama needs to check if a patient is either **admitted** or **needs urgent treatment**. Write the Boolean expression and check the result."
      ],
      "metadata": {
        "id": "ZqdgOwyk7i9V"
      }
    },
    {
      "cell_type": "code",
      "source": [
        "# START HERE"
      ],
      "metadata": {
        "id": "8GVlaXRG7pwn"
      },
      "outputs": [],
      "execution_count": null
    },
    {
      "cell_type": "markdown",
      "source": [
        "### 🔹 ***5️⃣ Type Conversion: Changing Data Types in Python**  \n",
        "\n",
        "In Dr. Ama’s clinic, the medical records come in all shapes and sizes—**ages**, **medication dosages**, and even **scan results** may be received in **different formats**. For instance, Dr. Ama could get a **patient's age** stored as a **string** (e.g., `\"45\"`) in the hospital system, but she needs it as an **integer** (45) for calculations like determining the correct medication dosage. Similarly, she might need to convert a **string representing a patient's heart rate** (e.g., `\"72\"`) into an **integer** for analysis.\n",
        "\n",
        "![type conversion](https://www.scaler.com/topics/images/what-is-type-casting-in-python_thumbnail.webp)\n",
        "\n",
        "This is where **type conversion** comes into play: it’s the process of changing a variable from one data type to another, allowing Dr. Ama to use the data correctly in her calculations and logic.\n",
        "\n",
        "In Python, we can use **type conversion functions** like `int()`, `float()`, and `str()` to convert between different data types."
      ],
      "metadata": {
        "id": "WPl9dcFy_bX_"
      }
    },
    {
      "cell_type": "markdown",
      "source": [
        "### 📌 **1️⃣ What is Type Conversion?**  \n",
        "Type conversion refers to the process of changing a variable's data type, allowing it to be used in different contexts (e.g., changing a string to an integer to perform math).  \n",
        "\n",
        "For example, Dr. Ama might receive a **patient’s age** as a **string** from the hospital database, but to calculate the correct medication dosage, she needs to convert it into an **integer**."
      ],
      "metadata": {
        "id": "Js5F0lb2_yMM"
      }
    },
    {
      "cell_type": "markdown",
      "source": [
        "### 📌 **2️⃣ Implicit vs. Explicit Conversion**  \n",
        "- **Implicit Conversion**: This occurs automatically when a Python operation converts one data type to another (e.g., adding an integer and a float together). Python will automatically convert the integer to a float before performing the operation.\n",
        "- **Explicit Conversion**: This happens when you manually convert one data type to another using conversion functions like `int()`, `float()`, or `str()`. For example, if Dr. Ama receives a **patient's age as a string** `\"55\"`, she would need to convert it manually to an integer for further calculation using `int(\"55\")`."
      ],
      "metadata": {
        "id": "mQjv_28g_1x0"
      }
    },
    {
      "cell_type": "markdown",
      "source": [
        "### 📌 **3️⃣ Converting Between Numbers and Strings**  \n",
        "Dr. Ama might receive **numerical data** (like **patient age** or **temperature**) as a **string** (e.g., `\"45\"`). To use it for calculations, she needs to convert it into a **number**.\n",
        "\n",
        "- **Converting a string to a number**: Useful when receiving numerical data as a string (e.g., age or temperature).\n",
        "- **Converting a number to a string**: Often necessary when concatenating strings or displaying data in reports.\n",
        "\n",
        "![num to str conversion](https://www.boardinfinity.com/blog/content/images/2023/05/int-to-string-in-Python.png)"
      ],
      "metadata": {
        "id": "Ji7Mx9OO__mV"
      }
    },
    {
      "cell_type": "markdown",
      "source": [
        "#### Example:"
      ],
      "metadata": {
        "id": "ftxr-P-FAE4o"
      }
    },
    {
      "cell_type": "code",
      "source": [
        "# Converting a string to an integer\n",
        "patient_age_str = \"55\"  # Age as a string\n",
        "patient_age_int = int(patient_age_str)  # Convert to integer\n",
        "print(patient_age_int)  # Now we can use it for calculations"
      ],
      "metadata": {
        "id": "YhZK1uuEAHUU"
      },
      "outputs": [],
      "execution_count": null
    },
    {
      "cell_type": "markdown",
      "source": [
        "Similarly, Dr. Ama might need to convert **numbers** back into **strings** for displaying or reporting."
      ],
      "metadata": {
        "id": "021zliJHAIU1"
      }
    },
    {
      "cell_type": "code",
      "source": [
        "# Converting an integer to a string\n",
        "patient_temperature = 37\n",
        "temperature_str = str(patient_temperature)  # Convert to string for display\n",
        "print(\"Patient's temperature is: \" + temperature_str + \"°C\")\n"
      ],
      "metadata": {
        "id": "RR73_YMeALIA"
      },
      "outputs": [],
      "execution_count": null
    },
    {
      "cell_type": "markdown",
      "source": [
        "### 📌 **4️⃣ Converting from Integers to Floats**  \n",
        "In some situations, Dr. Ama needs to perform calculations that require **decimal precision**, such as determining a **patient's BMI**. In this case, Dr. Ama would need to convert an integer (e.g., `180`) into a **float** (e.g., `180.0`)."
      ],
      "metadata": {
        "id": "jDz8rimaAOU5"
      }
    },
    {
      "cell_type": "code",
      "source": [
        "patient_weight = 180  # Integer\n",
        "weight_float = float(patient_weight)  # Convert to float\n",
        "print(type(weight_float))  # Output: <class 'float'>"
      ],
      "metadata": {
        "id": "edd2ImmkAR9t"
      },
      "outputs": [],
      "execution_count": null
    },
    {
      "cell_type": "markdown",
      "source": [
        "### 📌 **5️⃣ Converting from Floats to Integers**  \n",
        "Sometimes, Dr. Ama might want to **simplify the data** by **removing the decimal part** of a floating-point number (e.g., for billing calculations or rounding down). In such cases, converting from a **float to an integer** might be needed.\n"
      ],
      "metadata": {
        "id": "hUq0fypyAU_N"
      }
    },
    {
      "cell_type": "code",
      "source": [
        "patient_temperature = 37.6  # Float\n",
        "temperature_int = int(patient_temperature)  # Convert to integer (removes decimal part)\n",
        "print(temperature_int)  # Output: 37"
      ],
      "metadata": {
        "id": "DqejEPZXAaNA"
      },
      "outputs": [],
      "execution_count": null
    },
    {
      "cell_type": "markdown",
      "source": [
        "### 📌 **6️⃣ Converting Between Booleans and Other Data Types**  \n",
        "Booleans (`True` and `False`) can be converted to other types, and vice versa:\n",
        "\n",
        "- **Converting booleans to integers**: `True` becomes `1`, and `False` becomes `0`.\n",
        "- **Converting other data types to booleans**: A value like `0` or an empty string `\"\"` becomes `False`; other values are treated as `True`."
      ],
      "metadata": {
        "id": "_uKDpbAuAbOI"
      }
    },
    {
      "cell_type": "code",
      "source": [
        "is_patient_admitted = True\n",
        "admission_status = int(is_patient_admitted)  # True becomes 1\n",
        "print(admission_status)  # Output: 1\n",
        "\n",
        "is_healthy = 0  # 0 is False\n",
        "is_patient_healthy = bool(is_healthy)  # Converts 0 to False\n",
        "print(is_patient_healthy)  # Output: False"
      ],
      "metadata": {
        "id": "V6VYfP_eAlzq"
      },
      "outputs": [],
      "execution_count": null
    },
    {
      "cell_type": "markdown",
      "source": [
        "### 📌 **7️⃣ Handling Invalid Conversion**  \n",
        "Sometimes Dr. Ama might encounter errors if the data cannot be converted properly, such as trying to convert a non-numeric string into an integer. Handling such cases is important to prevent the program from crashing."
      ],
      "metadata": {
        "id": "yAO-vtwoAfy1"
      }
    },
    {
      "cell_type": "markdown",
      "source": [
        "Here’s an example:"
      ],
      "metadata": {
        "id": "odgye_HbAp_U"
      }
    },
    {
      "cell_type": "code",
      "source": [
        "patient_age_str = \"forty-five\"  # Invalid conversion\n",
        "try:\n",
        "    patient_age = int(patient_age_str)  # Attempt to convert\n",
        "except ValueError:\n",
        "    print(\"Error: Invalid value for age conversion.\")"
      ],
      "metadata": {
        "id": "Af9oRo8HAsg6"
      },
      "outputs": [],
      "execution_count": null
    },
    {
      "cell_type": "markdown",
      "source": [
        "This helps Dr. Ama ensure that the program doesn’t crash when it encounters unexpected input.\n"
      ],
      "metadata": {
        "id": "Gn1qc8odAx2Y"
      }
    },
    {
      "cell_type": "markdown",
      "source": [
        "### 📌 **🏥 Your Challenge: Help Dr. Ama with Data Conversion!**  \n",
        "🔬 **Case File:**  \n",
        "Dr. Ama needs to process the following data:\n",
        "1. **Patient Age**: `\"65\"` (string format)\n",
        "2. **Blood Pressure**: `120.5` (float format)\n",
        "3. **Admitted Status**: `\"True\"` (string format)\n",
        "\n",
        "### **👨‍⚕️ Your Tasks:**  \n",
        "1. Convert the patient's **age** to an integer.\n",
        "2. Convert the **blood pressure** to an integer.\n",
        "3. Convert the **admitted status** string to a boolean."
      ],
      "metadata": {
        "id": "gQykgmkMA2K2"
      }
    },
    {
      "cell_type": "code",
      "source": [
        "# START HERE"
      ],
      "metadata": {
        "id": "PLmBOyuvA3UA"
      },
      "outputs": [],
      "execution_count": null
    },
    {
      "cell_type": "markdown",
      "source": [
        "\n",
        "### **Test Your Knowledge:**  \n",
        "\n",
        "1. Dr. Ama receives a patient's **weight** stored as a string: `\"72.5\"`. How would she convert this value into a **float** to calculate BMI (Body Mass Index)?\n",
        "2. The **patient's blood type** is received as a string `\"O+\"`. How would Dr. Ama convert this string to a **boolean** for checking if the patient has a rare blood type (e.g., `\"True\"` for rare and `\"False\"` for non-rare)?\n",
        "3. Dr. Ama has a **medical cost** stored as a float: `102.75`. How would she convert this into an **integer** to simplify billing calculations, rounding down to the nearest whole number?\n",
        "4. The **patient's heart rate** is recorded as a string `\"75\"`. How would Dr. Ama convert it to an **integer** for further medical analysis?\n",
        "5. If Dr. Ama receives a **patient's record status** as `\"False\"` (a string), how would she convert it to a **boolean** to check if the record is active or archived?\n",
        "6. Dr. Ama receives **patient temperature data** as a string `\"37.2\"`. How can she convert it into a **float** for accurate medical analysis?\n",
        "7. After checking a patient's **blood oxygen levels**, Dr. Ama wants to combine the **oxygen level** (a float) with the **patient's treatment plan** (a string, e.g., `\"Breathing Support\"`). How would she convert the float to a string to display both values together in a medical report?\n"
      ],
      "metadata": {
        "id": "RUfuARybA5c0"
      }
    },
    {
      "cell_type": "code",
      "source": [
        "# START HERE"
      ],
      "metadata": {
        "id": "DbifFvGYBBXR"
      },
      "outputs": [],
      "execution_count": null
    },
    {
      "cell_type": "markdown",
      "source": [
        "# **🛠️ 3️⃣ Working with Data Structures in Python**  \n",
        "\n",
        "## **🔹 What Are Data Structures?**  \n",
        "In the real world, we constantly **organize and manage information**—whether it's keeping track of **patient records** in a hospital, arranging **books** in a library, or maintaining an **inventory** in a store. Similarly, in Python, we use **data structures** to store, access, and manipulate data efficiently.  \n",
        "\n",
        "Think about a **hospital’s patient management system**:  \n",
        "- A **list** can be used to store the names of patients waiting for their turn.  \n",
        "- A **dictionary** helps maintain detailed information about each patient, such as name, age, and diagnosis.  \n",
        "- A **tuple** is useful for storing fixed medical values like a patient's **blood pressure readings**, which should remain unchanged.  \n",
        "\n",
        "Using the right data structure ensures that information is **retrievable, modifiable, and efficient**—just like how a well-organized medical system speeds up hospital operations. Let’s explore how Python provides these essential tools to handle data seamlessly. 🚀"
      ],
      "metadata": {
        "id": "7FHfvEWDBIEl"
      }
    },
    {
      "cell_type": "markdown",
      "source": [
        "## **📋 1️⃣ What Are Lists?**  \n",
        "\n",
        "A **list** is an **ordered collection** of items used to store multiple values in Python. It is represented by **square brackets `[ ]`**, with items separated by **commas**. In a medical setting, lists help organize important data, such as:  \n",
        "\n",
        "- **Patient Names** (`[\"Alice Smith\", \"James Brown\", \"Maria Gomez\"]`) – A hospital’s waiting list.  \n",
        "- **Vital Signs** (`[98.6, 120, 80]`) – A patient’s recorded temperature, systolic blood pressure, and diastolic blood pressure.  \n",
        "- **Lab Test Results** (`[True, False, True]`) – Whether a patient tested positive or negative for different conditions.  \n",
        "- **Medication Schedule** (`[\"8:00 AM\", \"2:00 PM\", \"8:00 PM\"]`) – The times a patient needs to take their prescribed medicine.  \n",
        "\n",
        "Lists are **flexible and dynamic**, allowing us to **add, remove, and modify** data as needed. This makes them ideal for handling **patient records, scheduling surgeries, tracking lab results, and managing hospital inventory**."
      ],
      "metadata": {
        "id": "UdXtEQF6vb1t"
      }
    },
    {
      "cell_type": "markdown",
      "source": [
        "### 🏥 **Meet Nurse Kwame: The ER Coordinator**  \n",
        "\n",
        "Nurse Kwame is an **emergency room (ER) coordinator** at **Unity General Hospital**. His job is to keep track of **incoming patients**, ensuring that doctors see the most critical cases first. But there’s a problem—the **ER’s patient tracking system is outdated**. The current method involves scribbling names on paper, making it difficult to update, reorder, or find patient details quickly.  \n",
        "\n",
        "To **streamline operations**, Nurse Kwame decides to **learn Python** and use **lists** to manage patient queues. With lists, he can easily:  \n",
        "✅ **Add new patients as they arrive**  \n",
        "✅ **Rearrange the queue based on urgency**  \n",
        "✅ **Keep track of discharged patients**  \n",
        "\n",
        "![patients queue](https://img.freepik.com/free-vector/patients-characters-waiting-doctor-appointment-hospital-hallway-with-reception-desk-sick-people-sitting-clinic-corridor-health-care-medicine-service-concept-line-art-vector-illustration_107791-11190.jpg)\n",
        "\n",
        "Let’s **help Nurse Kwame** master Python **lists** so he can manage the ER more efficiently! 🚑"
      ],
      "metadata": {
        "id": "SxsNLOs6vbxH"
      }
    },
    {
      "cell_type": "markdown",
      "source": [
        "### **🏥 Helping Nurse Kwame: Managing ER Patient Lists**  \n",
        "\n",
        "Nurse Kwame is **overwhelmed**. The **ER waiting area** at Unity General Hospital is packed, and he needs a better way to **keep track of patients**. Right now, everything is written on a whiteboard, which gets erased and rewritten all day. **Messy and inefficient!**  \n",
        "\n",
        "He’s heard about Python and how **lists** can help organize things. So, let’s help him learn **how to create lists** and use them to manage his **ER patient queue** like a pro! 🚑  "
      ],
      "metadata": {
        "id": "GTRBQBHqLID2"
      }
    },
    {
      "cell_type": "markdown",
      "source": [
        "## **📋 Creating a List: The ER Patient Queue**  \n",
        "\n",
        "A **list** in Python is like a **digital clipboard** where Nurse Kwame can store and manage multiple patient names in **one variable**. Instead of writing everything down manually, he can create a Python list to keep track of patients:"
      ],
      "metadata": {
        "id": "5PnV1PZSLID2"
      }
    },
    {
      "cell_type": "code",
      "source": [
        "patients = [\"Alice\", \"Bob\", \"Charlie\"]"
      ],
      "metadata": {
        "id": "qKYH2jtRLID3"
      },
      "outputs": [],
      "execution_count": null
    },
    {
      "cell_type": "markdown",
      "source": [
        "✅ This list stores **three patients** who are currently in the ER.  \n",
        "✅ The names are enclosed in **square brackets `[ ]`** and separated by **commas**.  \n",
        "\n",
        "Now, whenever a **new patient arrives**, Nurse Kwame can simply **add them to the list** instead of rewriting the whole whiteboard!"
      ],
      "metadata": {
        "id": "H00DjycPLID3"
      }
    },
    {
      "cell_type": "markdown",
      "source": [
        "## **💡 Intuition: Why Use Lists?**  \n",
        "\n",
        "Imagine Kwame had to **call out** patient names one by one. If they were written separately, like this:  "
      ],
      "metadata": {
        "id": "bAdsn2yRLID3"
      }
    },
    {
      "cell_type": "code",
      "source": [
        "patient1 = \"Alice\"\n",
        "patient2 = \"Bob\"\n",
        "patient3 = \"Charlie\""
      ],
      "metadata": {
        "id": "ewL5mXSKLID4"
      },
      "outputs": [],
      "execution_count": null
    },
    {
      "cell_type": "markdown",
      "source": [
        "That would be **exhausting** to manage! 😩  \n",
        "\n",
        "Instead, using a **single list variable** (`patients`), he can **store all names together** and access them easily. Much better!  "
      ],
      "metadata": {
        "id": "zCjqoP0QLID4"
      }
    },
    {
      "cell_type": "markdown",
      "source": [
        "## **📌 Lists Can Store More Than Just Names**  \n",
        "\n",
        "Nurse Kwame realizes that he needs **more details** than just names. What if he wants to store **a patient's age or condition**? Python lists can handle that too!"
      ],
      "metadata": {
        "id": "aYmfAEHrLID4"
      }
    },
    {
      "cell_type": "code",
      "source": [
        "patients = [\n",
        "    [\"Alice\", 32, \"Head Injury\"],\n",
        "    [\"Bob\", 45, \"Chest Pain\"],\n",
        "    [\"Charlie\", 29, \"Broken Arm\"]\n",
        "]"
      ],
      "metadata": {
        "id": "uC_E-Xv7LID5"
      },
      "outputs": [],
      "execution_count": null
    },
    {
      "cell_type": "markdown",
      "source": [
        "✅ Now, each patient entry is **a list inside a list** (nested lists).  \n",
        "✅ Each **inner list** contains:  \n",
        "   - **Name**\n",
        "   - **Age**\n",
        "   - **Medical condition**  \n",
        "\n",
        "Nurse Kwame can now see **who is in the ER and why** at a glance!  "
      ],
      "metadata": {
        "id": "RA6ZQwiaLID6"
      }
    },
    {
      "cell_type": "markdown",
      "source": [
        "## **📝 Try It Yourself: Quick Exercise!**  \n",
        "\n",
        "👉 **Scenario:** The ER gets two new patients:  \n",
        "- **David**, 40, has **Fever**  \n",
        "- **Emma**, 27, has **Migraine**  \n",
        "\n",
        "🔹 Create a new **list** with these patients.  \n",
        "🔹 Print the **entire list** to see the updated queue."
      ],
      "metadata": {
        "id": "Can3U78WLID7"
      }
    },
    {
      "cell_type": "code",
      "source": [
        "# START HERE"
      ],
      "metadata": {
        "id": "kY3Wh8JPLID8"
      },
      "outputs": [],
      "execution_count": null
    },
    {
      "cell_type": "markdown",
      "source": [
        "*Give it a try before checking the answer!* 🤔  "
      ],
      "metadata": {
        "id": "REyEahf2LID9"
      }
    },
    {
      "cell_type": "markdown",
      "source": [
        "<details>\n",
        "  <summary>💡 Click for Answer</summary>\n",
        "\n",
        "```python\n",
        "patients = [\n",
        "    [\"Alice\", 32, \"Head Injury\"],\n",
        "    [\"Bob\", 45, \"Chest Pain\"],\n",
        "    [\"Charlie\", 29, \"Broken Arm\"],\n",
        "    [\"David\", 40, \"Fever\"],\n",
        "    [\"Emma\", 27, \"Migraine\"]\n",
        "]\n",
        "print(patients)\n",
        "```\n",
        "</details>"
      ],
      "metadata": {
        "id": "wF0mvN7GLID-"
      }
    },
    {
      "cell_type": "markdown",
      "source": [
        "## **🤔 Quick Quiz: True or False?**  \n",
        "1️⃣ Lists must only contain **text data** (like patient names).  \n",
        "2️⃣ Lists are always **fixed in size** once created.  \n",
        "3️⃣ You can store **different data types** (numbers, text, etc.) in the same list.  "
      ],
      "metadata": {
        "id": "mXOmekhPLID-"
      }
    },
    {
      "cell_type": "markdown",
      "source": [
        "<details>\n",
        "  <summary>💡 Click for Answers</summary>\n",
        "\n",
        "1️⃣ **False** – Lists can contain any data type, including numbers and even other lists!  \n",
        "2️⃣ **False** – Lists are **dynamic** and can grow or shrink as needed.  \n",
        "3️⃣ **True** – You can mix strings, numbers, and even other lists inside a single list.  \n",
        "</details>  "
      ],
      "metadata": {
        "id": "8kJx7e0PLIEC"
      }
    },
    {
      "cell_type": "markdown",
      "source": [
        "## **🚀 What’s Next?**  \n",
        "Nurse Kwame has **successfully created a patient list**—great start! But now he’s wondering:  \n",
        "- **How do I access specific patient details?**  \n",
        "- **How can I update patient information?**  \n",
        "\n",
        "Let’s **dive into accessing elements next** to help him out! Stay tuned! 🚑"
      ],
      "metadata": {
        "id": "o6SHpe6-vbtA"
      }
    },
    {
      "cell_type": "markdown",
      "source": [
        "### **🏥 Nurse Kwame’s Next Challenge: Finding Patient Information!**  \n",
        "\n",
        "Nurse Kwame is now feeling **super confident** after creating his ER patient list! 🎉 But he has a new problem…  \n",
        "\n",
        "💡 **Dr. Mensah rushes in and asks:**  \n",
        "*\"Kwame, I need the name of the second patient on the list—quick!\"*  \n",
        "\n",
        "Uh-oh. 😰 How does he **retrieve** specific patient information from his list without reading everything manually?  \n",
        "\n",
        "Don’t worry! Python’s **list indexing** is here to save the day! Let’s help Nurse Kwame **quickly access patient data** with ease! 🚑  "
      ],
      "metadata": {
        "id": "UiS5Sa5Uvbo-"
      }
    },
    {
      "cell_type": "markdown",
      "source": [
        "## **📌 Accessing List Elements: The Power of Indexing**  \n",
        "\n",
        "Each item in a Python list has a **position number** (called an **index**) that allows us to **retrieve it easily**.  "
      ],
      "metadata": {
        "id": "2VmsXXX7LIEE"
      }
    },
    {
      "cell_type": "markdown",
      "source": [
        "Imagine Nurse Kwame’s ER list:  "
      ],
      "metadata": {
        "id": "5M3umrAPLIEE"
      }
    },
    {
      "cell_type": "code",
      "source": [
        "patients = [\"Alice\", \"Bob\", \"Charlie\", \"David\", \"Emma\"]"
      ],
      "metadata": {
        "id": "I4US6z7YLIEF"
      },
      "outputs": [],
      "execution_count": null
    },
    {
      "cell_type": "markdown",
      "source": [
        "Each name has an **index** starting from **0**:\n",
        "\n",
        "| Index  | Patient  |\n",
        "|--------|---------|\n",
        "| **0**  | Alice   |\n",
        "| **1**  | Bob     |\n",
        "| **2**  | Charlie |\n",
        "| **3**  | David   |\n",
        "| **4**  | Emma    |"
      ],
      "metadata": {
        "id": "6Is6WMQPLIEF"
      }
    },
    {
      "cell_type": "markdown",
      "source": [
        "### **🎯 Retrieving a Specific Patient**  \n",
        "\n",
        "Dr. Mensah needs **Bob’s name** (2nd patient). Since lists start at **index 0**, Bob is at index **1**.  "
      ],
      "metadata": {
        "id": "n-Q0yS4ILIEF"
      }
    },
    {
      "cell_type": "code",
      "source": [
        "print(patients[1])\n",
        "# Output: Bob"
      ],
      "metadata": {
        "id": "GvrrfbzxLIEG"
      },
      "outputs": [],
      "execution_count": null
    },
    {
      "cell_type": "markdown",
      "source": [
        "✅ **Easy!** Nurse Kwame doesn’t have to search manually—Python does it in an instant!"
      ],
      "metadata": {
        "id": "cGHy6q-jLIEG"
      }
    },
    {
      "cell_type": "markdown",
      "source": [
        "## **📌 Using Negative Indexing: Counting Backwards!**  \n",
        "\n",
        "A few minutes later, another doctor asks:  \n",
        "*\"Kwame, who was the last patient added?\"*  \n",
        "\n",
        "Instead of counting manually, he can use **negative indexing**!"
      ],
      "metadata": {
        "id": "KeyE1wUrLIEG"
      }
    },
    {
      "cell_type": "code",
      "source": [
        "print(patients[-1])\n",
        "# Output: Emma"
      ],
      "metadata": {
        "id": "MUkhmjzLLIEH"
      },
      "outputs": [],
      "execution_count": null
    },
    {
      "cell_type": "markdown",
      "source": [
        "✅ **`-1` refers to the last item** in the list, `-2` is the second-to-last, and so on.  \n",
        "✅ A super **fast way** to access recent patients!  ✅ **`-1` refers to the last item** in the list, `-2` is the second-to-last, and so on.  \n",
        "✅ A super **fast way** to access recent patients!  "
      ],
      "metadata": {
        "id": "Wl64IAe2LIEH"
      }
    },
    {
      "cell_type": "markdown",
      "source": [
        "## **🏥 Accessing More Details: List of Lists!**  \n",
        "\n",
        "Now, Nurse Kwame’s patient list includes **ages and conditions**:"
      ],
      "metadata": {
        "id": "bxW6prCKLIEI"
      }
    },
    {
      "cell_type": "code",
      "source": [
        "patients = [\n",
        "    [\"Alice\", 32, \"Head Injury\"],\n",
        "    [\"Bob\", 45, \"Chest Pain\"],\n",
        "    [\"Charlie\", 29, \"Broken Arm\"],\n",
        "    [\"David\", 40, \"Fever\"],\n",
        "    [\"Emma\", 27, \"Migraine\"]\n",
        "]"
      ],
      "metadata": {
        "id": "K66S8QTyLIEI"
      },
      "outputs": [],
      "execution_count": null
    },
    {
      "cell_type": "markdown",
      "source": [
        "💡 **How can he get Charlie’s medical condition?**  \n",
        "\n",
        "### **🩺 Accessing Nested List Elements**  \n",
        "Each **patient’s details** are in a **sub-list**. We need **two indexes**:  \n",
        "1️⃣ First index = Find **Charlie** → `patients[2]`  \n",
        "2️⃣ Second index = Get **condition** → `patients[2][2]`  \n"
      ],
      "metadata": {
        "id": "-3fjqKeRLIEI"
      }
    },
    {
      "cell_type": "code",
      "source": [
        "print(patients[2][2])\n",
        "# Output: Broken Arm"
      ],
      "metadata": {
        "id": "Jixl0EvyLIEJ"
      },
      "outputs": [],
      "execution_count": null
    },
    {
      "cell_type": "markdown",
      "source": [
        "## **📝 Try It Yourself: Quick Exercise!**  \n",
        "\n",
        "👉 **Scenario:**  \n",
        "A new patient, **James (50 years old, High Fever)**, just arrived!  \n",
        "\n",
        "🔹 **Add James** to the list.  \n",
        "🔹 **Print the name** of the **third patient**.  \n",
        "🔹 **Retrieve and print** the **age of the last patient**.  \n"
      ],
      "metadata": {
        "id": "g69zqiImLIEJ"
      }
    },
    {
      "cell_type": "code",
      "source": [
        "# START HERE"
      ],
      "metadata": {
        "id": "UZkiheG5LIEJ"
      },
      "outputs": [],
      "execution_count": null
    },
    {
      "cell_type": "markdown",
      "source": [
        "*Try it before checking the answer!* 🤔  "
      ],
      "metadata": {
        "id": "q_wdUQadLIEK"
      }
    },
    {
      "cell_type": "markdown",
      "source": [
        "\n",
        "<details>\n",
        "  <summary>💡 Click for Answer</summary>\n",
        "\n",
        "```python\n",
        "patients.append([\"James\", 50, \"High Fever\"])  # Adding new patient\n",
        "\n",
        "print(patients[2][0])  # Third patient’s name\n",
        "# Output: Charlie\n",
        "\n",
        "print(patients[-1][1])  # Age of last patient\n",
        "# Output: 50\n",
        "```\n",
        "</details>"
      ],
      "metadata": {
        "id": "63KYRDBsLIEK"
      }
    },
    {
      "cell_type": "markdown",
      "source": [
        "## **🤔 Quick Quiz: Fill in the Blanks!**  \n",
        "**1️⃣ What index would you use to get the first patient in a list?**  \n",
        "👉 `patients[____]`  \n",
        "\n",
        "**2️⃣ What index retrieves the last patient?**  \n",
        "👉 `patients[____]`  \n",
        "\n",
        "**3️⃣ If `patients[3]` is `[\"David\", 40, \"Fever\"]`, what does `patients[3][1]` return?**  \n",
        "👉 `_________`"
      ],
      "metadata": {
        "id": "SNsnEVrELIEK"
      }
    },
    {
      "cell_type": "code",
      "source": [
        "# START HERE"
      ],
      "metadata": {
        "id": "ycOg85XwLIEL"
      },
      "outputs": [],
      "execution_count": null
    },
    {
      "cell_type": "markdown",
      "source": [
        "<details>\n",
        "  <summary>💡 Click for Answers</summary>\n",
        "\n",
        "1️⃣ `patients[0]`  \n",
        "2️⃣ `patients[-1]`  \n",
        "3️⃣ `40`  \n",
        "</details>"
      ],
      "metadata": {
        "id": "imJXf1RHLIEL"
      }
    },
    {
      "cell_type": "markdown",
      "source": [
        "## **🚀 What’s Next?**  \n",
        "Nurse Kwame **can now find patient details** in seconds! But what if:  \n",
        "- A patient leaves and needs to be **removed**?  \n",
        "- Someone is added in the wrong order?  \n",
        "- Nurse Kwame wants to see all names **at once**?  \n",
        "\n",
        "Let’s **dive into modifying lists next** to keep the ER running smoothly! 🚑"
      ],
      "metadata": {
        "id": "1Oe59cOSLIEL"
      }
    },
    {
      "cell_type": "markdown",
      "source": [
        "### **🏥 Emergency Update: A Patient Needs to Be Removed!**  \n",
        "\n",
        "Nurse Kwame is having a **smooth shift**, thanks to his Python-powered patient tracking system! But just as he takes a sip of coffee… ☕  \n",
        "\n",
        "💡 **Dr. Mensah rushes in again!**  \n",
        "*\"Kwame, we discharged Charlie! Please remove him from the patient list.\"*  \n",
        "\n",
        "Uh-oh. 😰 How does he **remove** a patient from his list **quickly**?  \n",
        "\n",
        "No worries! Python has **powerful list modification tools** to help **add, remove, and update patients on the fly!** 🚀  "
      ],
      "metadata": {
        "id": "6DiewAfELIEL"
      }
    },
    {
      "cell_type": "markdown",
      "source": [
        "## **📌 Removing Patients from the List**  \n",
        "\n",
        "### **🩺 1️⃣ The `remove()` Method: Remove by Name**  \n",
        "\n",
        "Dr. Mensah asks Nurse Kwame to **remove Charlie from the patient list**.  \n",
        "Kwame can use `.remove()` if he **knows Charlie’s name** but **not his position**.  "
      ],
      "metadata": {
        "id": "ogalTA2nLIEM"
      }
    },
    {
      "cell_type": "markdown",
      "source": [
        "✅ **`remove(\"Charlie\")`** finds and deletes **Charlie** from the list.  \n",
        "✅ **Caution!** If the name **doesn’t exist**, Python will throw an **error!** 🚨  "
      ],
      "metadata": {
        "id": "Z1RspgjKLIEN"
      }
    },
    {
      "cell_type": "markdown",
      "source": [
        "### **🩺 2️⃣ The `pop()` Method: Remove by Position**  \n",
        "\n",
        "Later, Dr. Mensah asks:  \n",
        "*\"Kwame, remove the first patient on the list!\"*  \n",
        "\n",
        "Instead of searching for the name, Kwame can use `.pop(index)`.  "
      ],
      "metadata": {
        "id": "T5uK40ZMLIEN"
      }
    },
    {
      "cell_type": "code",
      "source": [
        "patients = [\"Alice\", \"Bob\", \"David\", \"Emma\"]\n",
        "discharged_patient = patients.pop(0)\n",
        "\n",
        "print(patients)\n",
        "# Output: ['Bob', 'David', 'Emma']\n",
        "\n",
        "print(discharged_patient)\n",
        "# Output: Alice"
      ],
      "metadata": {
        "id": "9cd8vZleLIEN"
      },
      "outputs": [],
      "execution_count": null
    },
    {
      "cell_type": "markdown",
      "source": [
        "✅ **`pop(0)`** removes **the first patient** (`\"Alice\"`).  \n",
        "✅ **Returns the removed patient**, in case Kwame needs to **record** the discharge!"
      ],
      "metadata": {
        "id": "XHWst_2HLIEO"
      }
    },
    {
      "cell_type": "markdown",
      "source": [
        "### **🩺 3️⃣ Using `del`: The Powerful Delete Statement!**  \n",
        "\n",
        "Now, Nurse Kwame gets a tricky case:  \n",
        "*\"Remove the last patient on the list!\"*  \n",
        "\n",
        "Instead of counting, he can use `del patients[-1]`"
      ],
      "metadata": {
        "id": "IuDz45vFLIEO"
      }
    },
    {
      "cell_type": "code",
      "source": [
        "patients = [\"Bob\", \"David\", \"Emma\"]\n",
        "del patients[-1]\n",
        "\n",
        "print(patients)\n",
        "# Output: ['Bob', 'David']"
      ],
      "metadata": {
        "id": "0t31LO4FLIEO"
      },
      "outputs": [],
      "execution_count": null
    },
    {
      "cell_type": "markdown",
      "source": [
        "✅ **`del` deletes an item instantly** without returning it.  \n",
        "✅ Can also delete **entire lists**:  "
      ],
      "metadata": {
        "id": "xW5Z4fMXLIER"
      }
    },
    {
      "cell_type": "code",
      "source": [
        "del patients  # Removes the whole list!"
      ],
      "metadata": {
        "id": "87DswcXrLIER"
      },
      "outputs": [],
      "execution_count": null
    },
    {
      "cell_type": "markdown",
      "source": [
        "🚨 **Warning!** `del patients` deletes the **whole** list—no undo!"
      ],
      "metadata": {
        "id": "pBBHQKqhLIES"
      }
    },
    {
      "cell_type": "markdown",
      "source": [
        "## **🏥 Emergency! A Mistake Was Made! Undoing Removals**  \n",
        "\n",
        "Oops! Nurse Kwame **accidentally removed the wrong patient!** 😱  \n",
        "\n",
        "No worries! **He can use `.append()` to add them back:**"
      ],
      "metadata": {
        "id": "LZ7NuoSfLIES"
      }
    },
    {
      "cell_type": "code",
      "source": [
        "patients.append(\"Emma\")  # Re-adding Emma\n",
        "print(patients)\n",
        "# Output: ['Bob', 'David', 'Emma']"
      ],
      "metadata": {
        "id": "qLTOU5WvLIES"
      },
      "outputs": [],
      "execution_count": null
    },
    {
      "cell_type": "markdown",
      "source": [
        "✅ This **restores** the patient record **easily**!  \n"
      ],
      "metadata": {
        "id": "HUwr8NqjLIET"
      }
    },
    {
      "cell_type": "markdown",
      "source": [
        "## **📝 Try It Yourself: Quick Exercise!**  \n",
        "\n",
        "👉 **Scenario:**  \n",
        "Dr. Mensah gives **three instructions** to Nurse Kwame:  \n",
        "1️⃣ **Remove \"David\" from the patient list.**  \n",
        "2️⃣ **Remove the second patient using `.pop()`.**  \n",
        "3️⃣ **Re-add \"David\" to the list.**  "
      ],
      "metadata": {
        "id": "eu6wxk7dLIET"
      }
    },
    {
      "cell_type": "markdown",
      "source": [
        "🩺 **Try it before checking the answer!** 🤔  "
      ],
      "metadata": {
        "id": "wKL7rqfhLIEY"
      }
    },
    {
      "cell_type": "code",
      "source": [
        "# START HERE"
      ],
      "metadata": {
        "id": "yhzRf-j7LIEZ"
      },
      "outputs": [],
      "execution_count": null
    },
    {
      "cell_type": "markdown",
      "source": [
        "<details>\n",
        "  <summary>💡 Click for Answer</summary>\n",
        "\n",
        "```python\n",
        "patients.remove(\"David\")  # Remove by name\n",
        "patients.pop(1)  # Remove second patient\n",
        "patients.append(\"David\")  # Re-add David\n",
        "\n",
        "print(patients)\n",
        "```\n",
        "</details>"
      ],
      "metadata": {
        "id": "U0H5IJerLIEZ"
      }
    },
    {
      "cell_type": "markdown",
      "source": [
        "## **🤔 Quick Quiz: Fill in the Blanks!**  \n",
        "\n",
        "**1️⃣ Which method removes a patient by their name?**  \n",
        "👉 `patients._______(\"Bob\")`  \n",
        "\n",
        "**2️⃣ Which method removes a patient by position?**  \n",
        "👉 `patients._______(2)`  \n",
        "\n",
        "**3️⃣ What happens if you do `del patients`?**  \n",
        "👉 `__________________________`  \n",
        "\n"
      ],
      "metadata": {
        "id": "UqphyO_KLIEa"
      }
    },
    {
      "cell_type": "code",
      "source": [
        "# START HERE"
      ],
      "metadata": {
        "id": "Vu_aLSCPLIEa"
      },
      "outputs": [],
      "execution_count": null
    },
    {
      "cell_type": "markdown",
      "source": [
        "<details>\n",
        "  <summary>💡 Click for Answers</summary>\n",
        "\n",
        "1️⃣ `remove`  \n",
        "2️⃣ `pop`  \n",
        "3️⃣ Deletes the **entire list** (can't be undone)  \n",
        "</details>"
      ],
      "metadata": {
        "id": "mzU-nvMfLIEa"
      }
    },
    {
      "cell_type": "markdown",
      "source": [
        "\n",
        "## **🚀 What’s Next?**  \n",
        "Nurse Kwame is now a **list modification pro!** But what if:  \n",
        "- He needs to **add** new patients **in specific positions**?  \n",
        "- He needs to **combine multiple lists** of patients?  \n",
        "- He wants to **update patient details**?  \n",
        "\n",
        "Let’s **dive into adding patients and updating lists next!** 🏥🚑"
      ],
      "metadata": {
        "id": "v-2DWax7vbgY"
      }
    },
    {
      "cell_type": "markdown",
      "source": [
        "### **🏥 Urgent Admission: New Patients Are Arriving!**  \n",
        "\n",
        "Just when Nurse Kwame thinks he has everything under control, 🚨 **Dr. Mensah rushes in again!**  \n",
        "\n",
        "*\"Kwame, we have three new patients arriving: Fatima, George, and Helen. Add them to the system—fast!\"*  \n",
        "\n",
        "Kwame **grabs his laptop** and starts adding names to his Python-powered patient tracking system. But hold on… 😬  \n",
        "\n",
        "❌ If he just **reassigns** the list, he **loses the old records!**  \n",
        "❌ If he adds patients one by one, it’s **too slow**!  \n",
        "\n",
        "👉 **We need a better way to add new patients!** Let’s explore **how to efficiently add items to a list in Python!** 🚀  "
      ],
      "metadata": {
        "id": "UYs98NCwLIEb"
      }
    },
    {
      "cell_type": "markdown",
      "source": [
        "## **🩺 1️⃣ The `append()` Method: Add to the End**  \n",
        "\n",
        "Kwame needs to **add a single new patient** at the end of the list.  \n",
        "The best way? **Use `.append()`**!"
      ],
      "metadata": {
        "id": "eE7kwDjmLIEb"
      }
    },
    {
      "cell_type": "code",
      "source": [
        "patients = [\"Alice\", \"Bob\", \"David\", \"Emma\"]\n",
        "patients.append(\"Fatima\")\n",
        "\n",
        "print(patients)\n",
        "# Output: ['Alice', 'Bob', 'David', 'Emma', 'Fatima']"
      ],
      "metadata": {
        "id": "OcMME4VILIEc"
      },
      "outputs": [],
      "execution_count": null
    },
    {
      "cell_type": "markdown",
      "source": [
        "✅ **Adds Fatima to the end of the list**  \n",
        "✅ **Fast and simple**  \n",
        "🚨 **But… what if multiple patients arrive?**"
      ],
      "metadata": {
        "id": "yv8fy9IjLIEc"
      }
    },
    {
      "cell_type": "markdown",
      "source": [
        "## **🩺 2️⃣ The `extend()` Method: Add Multiple Patients**  \n",
        "\n",
        "Dr. Mensah yells again:  \n",
        "*\"Kwame, two more patients just arrived: George and Helen!\"*  \n",
        "\n",
        "Kwame could call `.append()` twice, but that’s inefficient. Instead, he uses `.extend()` to **add multiple names at once!**  "
      ],
      "metadata": {
        "id": "4PMAvmuDLIEc"
      }
    },
    {
      "cell_type": "code",
      "source": [
        "patients.extend([\"George\", \"Helen\"])\n",
        "\n",
        "print(patients)\n",
        "# Output: ['Alice', 'Bob', 'David', 'Emma', 'Fatima', 'George', 'Helen']"
      ],
      "metadata": {
        "id": "C2zcEECILIEd"
      },
      "outputs": [],
      "execution_count": null
    },
    {
      "cell_type": "markdown",
      "source": [
        "✅ **Adds multiple patients at once**  \n",
        "✅ **Faster than multiple `.append()` calls**  \n",
        "\n",
        "🚨 **Be careful!** If you do `patients.append([\"George\", \"Helen\"])`, it **won't work as expected**:"
      ],
      "metadata": {
        "id": "SXq91rfALIEd"
      }
    },
    {
      "cell_type": "code",
      "source": [
        "patients.append([\"George\", \"Helen\"])  # Wrong way!\n",
        "print(patients)\n",
        "# Output: ['Alice', 'Bob', 'David', 'Emma', 'Fatima', ['George', 'Helen']]"
      ],
      "metadata": {
        "id": "9u49d9UkLIEd"
      },
      "outputs": [],
      "execution_count": null
    },
    {
      "cell_type": "markdown",
      "source": [
        "Oops! 😵 Instead of adding two names, it added a **list inside a list** (a nested list).  "
      ],
      "metadata": {
        "id": "Vh4bGuldLIEd"
      }
    },
    {
      "cell_type": "markdown",
      "source": [
        "## **🩺 3️⃣ The `insert()` Method: Add at a Specific Position**  \n",
        "\n",
        "A VIP patient **needs to be first on the list**!  \n",
        "\n",
        "Kwame can’t use `.append()`, because that **only adds to the end**. Instead, he uses `.insert(index, value)`:"
      ],
      "metadata": {
        "id": "A5XY04E-LIEe"
      }
    },
    {
      "cell_type": "code",
      "source": [
        "patients.insert(0, \"VIP Patient\")  # Add VIP at index 0\n",
        "print(patients)\n",
        "# Output: ['VIP Patient', 'Alice', 'Bob', 'David', 'Emma', 'Fatima', 'George', 'Helen']"
      ],
      "metadata": {
        "id": "kQpIzcpLLIEe"
      },
      "outputs": [],
      "execution_count": null
    },
    {
      "cell_type": "markdown",
      "source": [
        "✅ **Places \"VIP Patient\" at the start of the list**  \n",
        "✅ **Can insert anywhere!**"
      ],
      "metadata": {
        "id": "VkXChvVgLIEf"
      }
    },
    {
      "cell_type": "markdown",
      "source": [
        "## **🏥 Emergency Situation: Adding & Removing Patients Efficiently**  \n",
        "\n",
        "Dr. Mensah gives Kwame a **new challenge**:  \n",
        "\n",
        "1️⃣ **Add \"Samuel\" to the patient list**  \n",
        "2️⃣ **Insert \"Dr. Kwame’s Mom\" at the second position**  \n",
        "3️⃣ **Extend the list with three new patients: \"Ishmael\", \"Jack\", \"Karen\"**  \n",
        "\n",
        "💡 **Try it first before checking the answer!** 🤔  "
      ],
      "metadata": {
        "id": "PbFkeL-vLIEf"
      }
    },
    {
      "cell_type": "code",
      "source": [
        "# START HERE"
      ],
      "metadata": {
        "id": "tjPZGxxqLIEg"
      },
      "outputs": [],
      "execution_count": null
    },
    {
      "cell_type": "markdown",
      "source": [
        "<details>\n",
        "  <summary>💡 Click for Answer</summary>\n",
        "\n",
        "```python\n",
        "patients.append(\"Samuel\")  # Add Samuel at the end\n",
        "patients.insert(1, \"Dr. Kwame’s Mom\")  # Insert at index 1\n",
        "patients.extend([\"Ishmael\", \"Jack\", \"Karen\"])  # Add multiple patients\n",
        "\n",
        "print(patients)\n",
        "```\n",
        "</details>"
      ],
      "metadata": {
        "id": "2Z9j9Tj4LIEg"
      }
    },
    {
      "cell_type": "markdown",
      "source": [
        "## **🤔 Quick Quiz: Match the Methods!**  \n",
        "\n",
        "Match the method to the correct task:  \n",
        "\n",
        "| Task | Method (`append()`, `insert()`, `extend()`) |\n",
        "|------|--------------------------------------|\n",
        "| Add \"Lucy\" at the end | `_________` |\n",
        "| Insert \"Emergency Case\" at position 2 | `_________` |\n",
        "| Add three new patients at once | `_________` |\n"
      ],
      "metadata": {
        "id": "5NlpI_M0LIEg"
      }
    },
    {
      "cell_type": "markdown",
      "source": [
        "<details>\n",
        "  <summary>💡 Click for Answers</summary>\n",
        "\n",
        "✅ `append()`  \n",
        "✅ `insert(2, \"Emergency Case\")`  \n",
        "✅ `extend([\"Patient1\", \"Patient2\", \"Patient3\"])`  \n",
        "</details>  "
      ],
      "metadata": {
        "id": "SF4QTcrmLIEg"
      }
    },
    {
      "cell_type": "markdown",
      "source": [
        "## **🚀 What’s Next?**  \n",
        "Nurse Kwame is **getting better at list management!** But now, he wants to:  \n",
        "- **Sort patient lists alphabetically** 🏥  \n",
        "- **Find specific patients in the list** 🔍  \n",
        "- **Count how many patients are waiting**  \n",
        "\n",
        "Let’s help Kwame **sort, search, and count items in lists!** 🚑🔥"
      ],
      "metadata": {
        "id": "0SCiHmI0vbWs"
      }
    },
    {
      "cell_type": "markdown",
      "source": [
        "### **🏥 Dr. Kwame Faces a New Dilemma: Removing Patients from the List**  \n",
        "\n",
        "Dr. Kwame is getting into the rhythm of managing patients, but today there’s a twist! A few patients need to **leave** the list—either because they’ve been discharged, transferred to another department, or the system just got a little **too crowded**!  \n",
        "\n",
        "Dr. Kwame **panics**:  \n",
        "*\"Kwame, we need to **remove** some patients from the system. But I can’t just delete everything!\"*  \n",
        "\n",
        "Kwame **grabs his laptop** and starts thinking of ways to **remove** patients in an efficient way. Let’s **explore how to remove items from lists in Python!** 🚀"
      ],
      "metadata": {
        "id": "9WRBO1K7LIEh"
      }
    },
    {
      "cell_type": "markdown",
      "source": [
        "## **🩺 1️⃣ The `remove()` Method: Remove by Value**  \n",
        "\n",
        "Dr. Kwame has a patient named **Helen** who’s been discharged and needs to be **removed**.  \n",
        "Here’s how he does it:  "
      ],
      "metadata": {
        "id": "1V4SCSFULIEh"
      }
    },
    {
      "cell_type": "code",
      "source": [
        "patients = [\"Alice\", \"Bob\", \"David\", \"Emma\", \"Fatima\", \"George\", \"Helen\"]\n",
        "patients.remove(\"Helen\")  # Remove Helen by name\n",
        "\n",
        "print(patients)\n",
        "# Output: ['Alice', 'Bob', 'David', 'Emma', 'Fatima', 'George']"
      ],
      "metadata": {
        "id": "tbxpXR9jLIEi"
      },
      "outputs": [],
      "execution_count": null
    },
    {
      "cell_type": "markdown",
      "source": [
        "✅ **Removes the first instance of \"Helen\"** from the list  \n",
        "✅ **Efficient and straightforward**  \n",
        "\n",
        "🚨 **But what if the patient isn't found?**  \n",
        "If Helen is already **removed**, trying to remove her again will throw an error:"
      ],
      "metadata": {
        "id": "7w3O2M6XLIEi"
      }
    },
    {
      "cell_type": "code",
      "source": [
        "patients.remove(\"Helen\")  # Error if \"Helen\" is not found\n"
      ],
      "metadata": {
        "id": "VOVZw4NhLIEj"
      },
      "outputs": [],
      "execution_count": null
    },
    {
      "cell_type": "markdown",
      "source": [
        "## **🩺 2️⃣ The `pop()` Method: Remove by Index**  \n",
        "\n",
        "Dr. Kwame has a **tough decision**—he needs to discharge the **third patient in line**. But instead of searching for the name, he can **remove by index** using `.pop()`.  \n",
        "\n",
        "Here’s how Kwame discharges **David**, who’s at index `2`:  "
      ],
      "metadata": {
        "id": "ocM8LVvnLIEj"
      }
    },
    {
      "cell_type": "code",
      "source": [
        "patients.pop(2)  # Remove the patient at index 2\n",
        "\n",
        "print(patients)\n",
        "# Output: ['Alice', 'Bob', 'Emma', 'Fatima', 'George', 'Helen']"
      ],
      "metadata": {
        "id": "xXP7HhMbLIEk"
      },
      "outputs": [],
      "execution_count": null
    },
    {
      "cell_type": "markdown",
      "source": [
        "✅ **Removes the patient at the specified index**  \n",
        "✅ **Returns the removed patient**, so Kwame can **keep track** of who left:"
      ],
      "metadata": {
        "id": "fyA3gLHqLIEk"
      }
    },
    {
      "cell_type": "code",
      "source": [
        "discharged_patient = patients.pop(2)\n",
        "print(discharged_patient)  # Output: \"David\""
      ],
      "metadata": {
        "id": "iVziTgADLIEl"
      },
      "outputs": [],
      "execution_count": null
    },
    {
      "cell_type": "markdown",
      "source": [
        "🚨 **What if no index is given?**  \n",
        "If Kwame forgets to mention an index, `.pop()` **removes** the **last patient**:  "
      ],
      "metadata": {
        "id": "SW-D3J0lLIEl"
      }
    },
    {
      "cell_type": "code",
      "source": [
        "patients.pop()  # Removes the last patient"
      ],
      "metadata": {
        "id": "l8DnazveLIEm"
      },
      "outputs": [],
      "execution_count": null
    },
    {
      "cell_type": "markdown",
      "source": [
        "## **🩺 3️⃣ The `clear()` Method: Remove All Patients**  \n",
        "\n",
        "**Emergency Alert!**  \n",
        "Dr. Kwame has to **clear out the entire list**—perhaps the hospital is undergoing an update, and all patient records need to be deleted for a fresh start.  \n",
        "\n",
        "Here’s how he can **remove everything** from the list:\n"
      ],
      "metadata": {
        "id": "7jjGryGaLIEm"
      }
    },
    {
      "cell_type": "code",
      "source": [
        "patients.clear()  # Removes all patients from the list\n",
        "\n",
        "print(patients)\n",
        "# Output: []"
      ],
      "metadata": {
        "id": "2tEp28DkLIEn"
      },
      "outputs": [],
      "execution_count": null
    },
    {
      "cell_type": "markdown",
      "source": [
        "✅ **Clears the list completely**  \n",
        "✅ **Use with caution!** This action **cannot be undone.**\n"
      ],
      "metadata": {
        "id": "I8O07NLoLIEo"
      }
    },
    {
      "cell_type": "markdown",
      "source": [
        "## **🏥 Emergency Situation: Remove and Discharge Patients Quickly**  \n",
        "\n",
        "Dr. Kwame has three tasks to complete in a rush:  \n",
        "1️⃣ **Discharge \"Alice\"**  \n",
        "2️⃣ **Remove \"Emma\" (by index 3)**  \n",
        "3️⃣ **Clear the entire list at the end of the day**  "
      ],
      "metadata": {
        "id": "geA4iv9FLIEo"
      }
    },
    {
      "cell_type": "code",
      "source": [
        "# START HERE"
      ],
      "metadata": {
        "id": "6P393fzxLIEo"
      },
      "outputs": [],
      "execution_count": null
    },
    {
      "cell_type": "markdown",
      "source": [
        "💡 **Try it first before checking the answer!** 🤔\n"
      ],
      "metadata": {
        "id": "q-zrtd1zLIEz"
      }
    },
    {
      "cell_type": "markdown",
      "source": [
        "\n",
        "<details>\n",
        "  <summary>💡 Click for Answer</summary>\n",
        "\n",
        "```python\n",
        "patients.remove(\"Alice\")  # Discharge Alice\n",
        "patients.pop(3)  # Remove the patient at index 3 (Emma)\n",
        "patients.clear()  # Clear the entire list\n",
        "\n",
        "print(patients)\n",
        "```\n",
        "</details>"
      ],
      "metadata": {
        "id": "P_WHv3FMLIE0"
      }
    },
    {
      "cell_type": "markdown",
      "source": [
        "## **🤔 Quick Quiz: Can You Remove the Right Patient?**  \n",
        "\n",
        "Dr. Kwame needs to remove the following patients from the list:  \n",
        "\n",
        "1️⃣ **\"Bob\"** — by name  \n",
        "2️⃣ **The patient at index 1**  \n",
        "3️⃣ **All remaining patients**  \n",
        "\n",
        "Which methods will Kwame use for each task?  \n",
        "\n",
        "| Task | Method (`remove()`, `pop()`, `clear()`) |\n",
        "|------|----------------------------------------|\n",
        "| Remove \"Bob\" | `_________` |\n",
        "| Remove the patient at index 1 | `_________` |\n",
        "| Remove all patients | `_________` |\n"
      ],
      "metadata": {
        "id": "pdijflsuLIE0"
      }
    },
    {
      "cell_type": "code",
      "source": [
        "# START HERE"
      ],
      "metadata": {
        "id": "6ODycqlaLIE0"
      },
      "outputs": [],
      "execution_count": null
    },
    {
      "cell_type": "markdown",
      "source": [
        "<details>\n",
        "  <summary>💡 Click for Answers</summary>\n",
        "\n",
        "✅ `remove(\"Bob\")`  \n",
        "✅ `pop(1)`  \n",
        "✅ `clear()`  \n",
        "</details>  "
      ],
      "metadata": {
        "id": "Y_YLDzzwLIE1"
      }
    },
    {
      "cell_type": "markdown",
      "source": [],
      "metadata": {
        "id": "4Tc3_B_BLIE1"
      }
    },
    {
      "cell_type": "markdown",
      "source": [
        "## **📋 4️⃣ What Are Dictionaries?**  \n",
        "\n",
        "A **dictionary** in Python is a **collection of key-value pairs** that lets you store data in a way that’s easy to search, retrieve, and manage. It is represented by **curly braces `{ }`**, with **key-value pairs** separated by a colon (`:`) and individual pairs separated by commas. In a medical setting, dictionaries help organize complex data, such as:\n",
        "\n",
        "- **Patient Information** (`{\"name\": \"John Doe\", \"age\": 45, \"condition\": \"Pneumonia\"}`) – A dictionary to store a patient's name, age, and medical condition.\n",
        "- **Medications** (`{\"Aspirin\": 100, \"Penicillin\": 250}`) – A dictionary to store medications with corresponding dosages.\n",
        "- **Lab Results** (`{\"Blood Sugar\": 110, \"Cholesterol\": 180, \"Blood Pressure\": \"130/85\"}`) – A dictionary to store lab test results linked to specific parameters.\n",
        "- **Appointments** (`{\"2025-02-03\": \"MRI Scan\", \"2025-02-05\": \"Follow-up Consultation\"}`) – A dictionary to manage scheduled appointments for a patient.\n",
        "\n",
        "Dictionaries are **powerful and efficient** for managing data when each item has a unique identifier (the **key**). They are widely used in hospitals and clinics for storing and retrieving **patient records**, **medical histories**, and **prescription information**.\n",
        "\n",
        "### 🏥 **Meet Dr. Kwame: The Hospital's Head Physician**  \n",
        "\n",
        "Dr. Kwame is the **head physician** at **Healing Hands Hospital**. He’s responsible for overseeing patient care, making life-saving decisions, and ensuring everything runs smoothly. But there’s a problem—his current system for tracking patient information is **slow and error-prone**. Patient records are scattered across various paper files, making it difficult to access important information quickly when making urgent decisions.\n",
        "\n",
        "To **improve his workflow**, Dr. Kwame decides to **learn Python** and start using **dictionaries** to manage patient data more efficiently. With dictionaries, he can:  \n",
        "✅ **Quickly access specific patient information**  \n",
        "✅ **Link patient names to medical conditions, medications, and appointments**  \n",
        "✅ **Update records as treatment plans change**  \n",
        "\n",
        "![doctor-patient-interaction](https://img.freepik.com/free-vector/doctor-talking-patient-hospital_1150-34724.jpg)\n",
        "\n",
        "Let’s **help Dr. Kwame** master Python **dictionaries** so he can make better, faster decisions for his patients! 🩺\n"
      ],
      "metadata": {
        "id": "zrJlzOEvLIE1"
      }
    },
    {
      "cell_type": "markdown",
      "source": [
        "### **🏥 Helping Dr. Kwame: Managing Patient Information with Dictionaries**  \n",
        "\n",
        "Dr. Kwame is **frustrated**. The hospital’s old system requires him to flip through endless files to find even the most basic patient info. When dealing with emergencies, **time is critical**. The **old way** just isn’t cutting it anymore.\n",
        "\n",
        "He’s heard that **dictionaries** in Python can store **patient details** in a structured way, making it **easy to retrieve** information quickly. So, let’s **help Dr. Kwame** get started with Python dictionaries to manage his patient records more efficiently!\n"
      ],
      "metadata": {
        "id": "Jm3bcQYqLIE2"
      }
    },
    {
      "cell_type": "markdown",
      "source": [
        "### **📋 1️⃣ Creating and Accessing Dictionaries**\n",
        "\n",
        "A **dictionary** in Python allows you to store data in the form of **key-value pairs**, where the **key** is unique, and each **value** is associated with it. Think of it like a medical file on a patient—each file has a unique identifier (the key, such as the patient's name), and within the file, there are various pieces of information (values), like age, medical history, and prescribed medications."
      ],
      "metadata": {
        "id": "o8b535YiLIE3"
      }
    },
    {
      "cell_type": "markdown",
      "source": [
        "### **🏥 Let's Help Dr. Kwame: Managing Patient Records**\n",
        "\n",
        "Dr. Kwame needs a way to quickly access patient information. Instead of flipping through paper files, he wants to create a Python dictionary to **store** and **access** patient data efficiently."
      ],
      "metadata": {
        "id": "K5lKafNmLIE3"
      }
    },
    {
      "cell_type": "markdown",
      "source": [
        "#### **📋 Creating a Dictionary: Storing Patient Information**  \n",
        "\n",
        "Let’s start by creating a dictionary to store **patient records**. Each patient's data will be stored with a unique **key** (such as their name), and the **value** will contain their medical information (like age, blood type, and diagnosis)."
      ],
      "metadata": {
        "id": "O5w3El0dLIE3"
      }
    },
    {
      "cell_type": "markdown",
      "source": [
        "Here’s how Dr. Kwame can store information for a patient named **John Doe**:"
      ],
      "metadata": {
        "id": "3jlLeL46LIE3"
      }
    },
    {
      "cell_type": "code",
      "source": [
        "# Create a dictionary for patient John Doe\n",
        "patient_info = {\n",
        "    \"name\": \"John Doe\",\n",
        "    \"age\": 45,\n",
        "    \"blood_type\": \"O+\",\n",
        "    \"diagnosis\": \"Pneumonia\"\n",
        "}\n",
        "\n",
        "# Print the dictionary\n",
        "print(patient_info)"
      ],
      "metadata": {
        "id": "V05MKwRcLIE4"
      },
      "outputs": [],
      "execution_count": null
    },
    {
      "cell_type": "markdown",
      "source": [
        "In the above code:\n",
        "- **\"name\"**, **\"age\"**, **\"blood_type\"**, and **\"diagnosis\"** are the **keys**.\n",
        "- The values associated with these keys are **\"John Doe\"**, **45**, **\"O+\"**, and **\"Pneumonia\"**.\n",
        "\n",
        "Dr. Kwame can now store multiple patients' records in similar dictionaries."
      ],
      "metadata": {
        "id": "rBNVsQLLLIE4"
      }
    },
    {
      "cell_type": "markdown",
      "source": [
        "#### **🔑 Accessing Values: Looking Up Patient Data**\n",
        "\n",
        "Now that Dr. Kwame has created a dictionary for his patients, he needs to access specific information. To access a value, Dr. Kwame can use the **key** inside square brackets (`[ ]`):"
      ],
      "metadata": {
        "id": "kzlgF558LIE5"
      }
    },
    {
      "cell_type": "code",
      "source": [
        "# Accessing John Doe's age\n",
        "print(patient_info[\"age\"])"
      ],
      "metadata": {
        "id": "ABr9TOfULIE6"
      },
      "outputs": [],
      "execution_count": null
    },
    {
      "cell_type": "markdown",
      "source": [
        "In this case, we access the value **45**, which is stored under the key **\"age\"**.\n",
        "\n",
        "Dr. Kwame can easily retrieve other pieces of information by using the relevant keys, like `patient_info[\"blood_type\"]` or `patient_info[\"diagnosis\"]`.\n"
      ],
      "metadata": {
        "id": "Oha0xbRBLIE6"
      }
    },
    {
      "cell_type": "markdown",
      "source": [
        "#### **👨‍⚕️ Helping Dr. Kwame: Storing Multiple Patients' Records**\n",
        "\n",
        "Dr. Kwame needs to manage **multiple patients** at once. He can store all of them in a dictionary where each **key** is the patient’s **name** or **ID**, and the **value** is another dictionary that contains the patient's medical details.\n",
        "\n",
        "Here’s how Dr. Kwame can create and access multiple patient records:"
      ],
      "metadata": {
        "id": "STSQgKRiLIE7"
      }
    },
    {
      "cell_type": "code",
      "source": [
        "# Multiple patient records stored in a dictionary\n",
        "hospital_records = {\n",
        "    \"John Doe\": {\n",
        "        \"age\": 45,\n",
        "        \"blood_type\": \"O+\",\n",
        "        \"diagnosis\": \"Pneumonia\"\n",
        "    },\n",
        "    \"Alice Smith\": {\n",
        "        \"age\": 34,\n",
        "        \"blood_type\": \"A-\",\n",
        "        \"diagnosis\": \"Flu\"\n",
        "    }\n",
        "}\n",
        "\n",
        "# Accessing Alice Smith's diagnosis\n",
        "print(hospital_records[\"Alice Smith\"][\"diagnosis\"])"
      ],
      "metadata": {
        "id": "yHS6qTsyLIE7"
      },
      "outputs": [],
      "execution_count": null
    },
    {
      "cell_type": "markdown",
      "source": [
        "In the above example:\n",
        "- We created a dictionary called `hospital_records` with patient names as keys.\n",
        "- Each patient's record is itself a dictionary containing personal details like age, blood type, and diagnosis.\n",
        "- To access Alice Smith’s diagnosis, we used two keys: first `\"Alice Smith\"`, and then `\"diagnosis\"`."
      ],
      "metadata": {
        "id": "oIQ03piELIE7"
      }
    },
    {
      "cell_type": "markdown",
      "source": [
        "### **🎓 Quiz Time:**\n",
        "\n",
        "#### 1️⃣ **Multiple Choice Question**\n",
        "What is the correct way to access the **age** of a patient stored in the following dictionary?"
      ],
      "metadata": {
        "id": "aZk9w9CYLIE8"
      }
    },
    {
      "cell_type": "code",
      "source": [
        "patient_info = {\n",
        "    \"name\": \"John Doe\",\n",
        "    \"age\": 45,\n",
        "    \"blood_type\": \"O+\",\n",
        "    \"diagnosis\": \"Pneumonia\"\n",
        "}"
      ],
      "metadata": {
        "id": "OSVT85rULIE9"
      },
      "outputs": [],
      "execution_count": null
    },
    {
      "cell_type": "markdown",
      "source": [
        "- a) `patient_info[age]`\n",
        "- b) `patient_info[\"age\"]`\n",
        "- c) `patient_info(\"age\")`\n",
        "- d) `patient_info{age}`"
      ],
      "metadata": {
        "id": "atjvOwvTLIE9"
      }
    },
    {
      "cell_type": "markdown",
      "source": [
        "#### 2️⃣ **True or False**\n",
        "You can store multiple dictionaries inside a dictionary, using patient names as keys, and their medical records as values."
      ],
      "metadata": {
        "id": "Yw0gMr7XLIE9"
      }
    },
    {
      "cell_type": "markdown",
      "source": [
        "# YOUR ANSWER HERE"
      ],
      "metadata": {
        "id": "P8KWYSjtLIE-"
      }
    },
    {
      "cell_type": "markdown",
      "source": [
        "#### 3️⃣ **Fill in the Blank**\n",
        "Given the code below, fill in the blank with the correct key to access John Doe's age."
      ],
      "metadata": {
        "id": "el23Fpj7LIE-"
      }
    },
    {
      "cell_type": "code",
      "source": [
        "hospital_records = {\n",
        "    \"John Doe\": {\"age\": 45, \"blood_type\": \"O+\", \"diagnosis\": \"Pneumonia\"},\n",
        "    \"Alice Smith\": {\"age\": 34, \"blood_type\": \"A-\", \"diagnosis\": \"Flu\"}\n",
        "}\n",
        "\n",
        "# Access the age of John Doe\n",
        "print(hospital_records[\"_____\"][\"age\"])"
      ],
      "metadata": {
        "id": "CngzKG_DLIE_"
      },
      "outputs": [],
      "execution_count": null
    },
    {
      "cell_type": "markdown",
      "source": [
        "### **📋 2️⃣ Adding and Modifying Items in a Dictionary**\n",
        "\n",
        "Now that Dr. Kwame has his patient records set up in a dictionary, he needs to **add new information** or **update existing data** as his patients’ conditions change. This is where the flexibility of dictionaries comes into play—allowing Dr. Kwame to quickly **modify** or **add new key-value pairs** whenever necessary."
      ],
      "metadata": {
        "id": "rSsrExzWLIE_"
      }
    },
    {
      "cell_type": "markdown",
      "source": [
        "### **🏥 Dr. Kwame’s Challenge: Updating Patient Records**\n",
        "\n",
        "Dr. Kwame has just received a new test result for **John Doe**. The result shows that John now has **High Blood Pressure** in addition to **Pneumonia**. Dr. Kwame needs to **update** John’s diagnosis in his dictionary. Let’s help him update the record!"
      ],
      "metadata": {
        "id": "DrSIvunALIFA"
      }
    },
    {
      "cell_type": "markdown",
      "source": [
        "#### **➕ Adding a New Key-Value Pair**\n",
        "\n",
        "If Dr. Kwame needs to add a **new piece of information** about a patient, he can simply assign a new value to a new key. For example, let’s say he wants to add a **\"phone number\"** field to John Doe’s record:"
      ],
      "metadata": {
        "id": "FrtAtVraLIFA"
      }
    },
    {
      "cell_type": "code",
      "source": [
        "# Add phone number to John Doe's record\n",
        "patient_info[\"phone_number\"] = \"123-456-7890\"\n",
        "\n",
        "# Print updated record\n",
        "print(patient_info)"
      ],
      "metadata": {
        "id": "00Gbje_pLIFA"
      },
      "outputs": [],
      "execution_count": null
    },
    {
      "cell_type": "markdown",
      "source": [
        "In this case:\n",
        "- Dr. Kwame added a new **\"phone_number\"** key with the corresponding value **\"123-456-7890\"**."
      ],
      "metadata": {
        "id": "bAWIAw0wLIFA"
      }
    },
    {
      "cell_type": "markdown",
      "source": [
        "#### **✏️ Modifying an Existing Key-Value Pair**\n",
        "\n",
        "Sometimes, Dr. Kwame needs to **update** an existing piece of information. For example, John Doe's diagnosis is now updated to include **\"High Blood Pressure\"** in addition to **Pneumonia**. Dr. Kwame can simply overwrite the value for the **\"diagnosis\"** key:"
      ],
      "metadata": {
        "id": "__lQkG12LIFB"
      }
    },
    {
      "cell_type": "code",
      "source": [
        "# Update diagnosis for John Doe\n",
        "patient_info[\"diagnosis\"] = \"Pneumonia, High Blood Pressure\"\n",
        "\n",
        "# Print updated record\n",
        "print(patient_info)"
      ],
      "metadata": {
        "id": "JdnxGicCLIFB"
      },
      "outputs": [],
      "execution_count": null
    },
    {
      "cell_type": "markdown",
      "source": [
        "In this case:\n",
        "- The value of the **\"diagnosis\"** key was updated to reflect the new condition."
      ],
      "metadata": {
        "id": "YPLahRqfLIFB"
      }
    },
    {
      "cell_type": "markdown",
      "source": [
        "#### **👨‍⚕️ Helping Dr. Kwame: Adding and Updating Multiple Patients**\n",
        "\n",
        "Dr. Kwame also needs to **update multiple patient records** at once. Let’s say **Alice Smith** just got a **new diagnosis**—her diagnosis is now **\"COVID-19\"**. Dr. Kwame can easily modify Alice’s record and add a **\"hospitalization\"** status:"
      ],
      "metadata": {
        "id": "YLYCx7exLIFC"
      }
    },
    {
      "cell_type": "code",
      "source": [
        "# Updating Alice Smith's diagnosis and adding hospitalization status\n",
        "hospital_records[\"Alice Smith\"][\"diagnosis\"] = \"COVID-19\"\n",
        "hospital_records[\"Alice Smith\"][\"hospitalized\"] = True\n",
        "\n",
        "# Print updated records\n",
        "print(hospital_records)"
      ],
      "metadata": {
        "id": "LU_ytIzYLIFC"
      },
      "outputs": [],
      "execution_count": null
    },
    {
      "cell_type": "markdown",
      "source": [
        "In this case:\n",
        "- Dr. Kwame updated Alice Smith's diagnosis and added a new field for her **hospitalization** status."
      ],
      "metadata": {
        "id": "R4oV0c4aLIFC"
      }
    },
    {
      "cell_type": "markdown",
      "source": [
        "### **🎓 Quiz Time:**"
      ],
      "metadata": {
        "id": "Qns8ELFHLIFD"
      }
    },
    {
      "cell_type": "markdown",
      "source": [
        "#### 1️⃣ **Multiple Choice Question**\n",
        "How do you add a new field called **\"allergy\"** with the value **\"Peanuts\"** to a patient’s record in the `patient_info` dictionary?\n",
        "\n",
        "- a) `patient_info.add(\"allergy\", \"Peanuts\")`\n",
        "- b) `patient_info[\"allergy\"] = \"Peanuts\"`\n",
        "- c) `patient_info.append(\"allergy\", \"Peanuts\")`\n",
        "- d) `patient_info[\"allergy\"].append(\"Peanuts\")`"
      ],
      "metadata": {
        "id": "gNIiR8FALIFD"
      }
    },
    {
      "cell_type": "markdown",
      "source": [
        "# ANSWER HERE"
      ],
      "metadata": {
        "id": "TRWKyFFSLIFD"
      }
    },
    {
      "cell_type": "markdown",
      "source": [
        "#### 2️⃣ **True or False**\n",
        "To modify an existing key in a dictionary, you can directly assign a new value to that key."
      ],
      "metadata": {
        "id": "8UUypupjLIFE"
      }
    },
    {
      "cell_type": "markdown",
      "source": [
        "# ANSWER HERE"
      ],
      "metadata": {
        "id": "f7DOjRdkLIFE"
      }
    },
    {
      "cell_type": "markdown",
      "source": [
        "#### 3️⃣ **Fill in the Blank**\n",
        "Fill in the blank to update **John Doe's** age to **46** in the following dictionary:"
      ],
      "metadata": {
        "id": "hUIhe3u3LIFE"
      }
    },
    {
      "cell_type": "code",
      "source": [
        "patient_info = {\"name\": \"John Doe\", \"age\": 45, \"blood_type\": \"O+\", \"diagnosis\": \"Pneumonia\"}\n",
        "\n",
        "# Update John's age\n",
        "patient_info[\"_____\"] = 46"
      ],
      "metadata": {
        "id": "rjbiC8ffLIFE"
      },
      "outputs": [],
      "execution_count": null
    },
    {
      "cell_type": "code",
      "source": [
        "### **📋 3️⃣ Removing Items from a Dictionary**\n",
        "\n",
        "Now that Dr. Kwame has learned how to **add** and **modify** information in patient records, he will also need to know how to **remove** data when it’s no longer relevant. For example, if a patient no longer needs a certain treatment or if a phone number is outdated, Dr. Kwame can **delete** that information to keep the records **clean and up-to-date**."
      ],
      "metadata": {
        "id": "d0WNa5SPLIFF"
      },
      "outputs": [],
      "execution_count": null
    },
    {
      "cell_type": "markdown",
      "source": [
        "### **🏥 Dr. Kwame’s Challenge: Cleaning Up Patient Records**\n",
        "\n",
        "Dr. Kwame’s hospital has recently implemented a **new phone system**. The old phone numbers are no longer in use, and some patient records have outdated contact info. To avoid confusion, Dr. Kwame needs to **remove** the old phone numbers from his records.\n",
        "\n",
        "Let’s help Dr. Kwame learn how to **delete unnecessary fields** and **clean up** his data using Python dictionaries!"
      ],
      "metadata": {
        "id": "kJzcuB8kLIFF"
      }
    },
    {
      "cell_type": "markdown",
      "source": [
        "#### **❌ Removing a Key-Value Pair**\n",
        "\n",
        "To remove a **key-value pair** from a dictionary, Dr. Kwame can use the `del` keyword. This will completely delete the entry from the dictionary. For example, let's delete the phone number from John Doe's record:"
      ],
      "metadata": {
        "id": "jvi6GfwmLIFF"
      }
    },
    {
      "cell_type": "code",
      "source": [
        "# Remove the phone number from John Doe's record\n",
        "del patient_info[\"phone_number\"]\n",
        "\n",
        "# Print updated record\n",
        "print(patient_info)"
      ],
      "metadata": {
        "id": "Azbs5fGWLIFG"
      },
      "outputs": [],
      "execution_count": null
    },
    {
      "cell_type": "markdown",
      "source": [
        "In this case:\n",
        "- The **\"phone_number\"** key and its value have been completely removed from John’s record."
      ],
      "metadata": {
        "id": "STZAjKQ1LIFH"
      }
    },
    {
      "cell_type": "markdown",
      "source": [
        "#### **🔄 Removing an Item with the `.pop()` Method**\n",
        "\n",
        "If Dr. Kwame wants to **remove an item** and also **retrieve its value**, he can use the `.pop()` method. This method removes the item and returns the value, which can be useful if Dr. Kwame wants to process that data before removing it.\n",
        "\n",
        "Let’s remove the **\"blood_type\"** field from John Doe’s record, but also store the value:"
      ],
      "metadata": {
        "id": "C58T4QkzLIFH"
      }
    },
    {
      "cell_type": "code",
      "source": [
        "# Remove and store the value of \"blood_type\"\n",
        "removed_blood_type = patient_info.pop(\"blood_type\")\n",
        "\n",
        "# Print updated record and removed value\n",
        "print(patient_info)\n",
        "print(\"Removed Blood Type:\", removed_blood_type)"
      ],
      "metadata": {
        "id": "XnHHyfDNLIFI"
      },
      "outputs": [],
      "execution_count": null
    },
    {
      "cell_type": "markdown",
      "source": [
        "In this case:\n",
        "- The **\"blood_type\"** key was removed from John’s record, and its value **\"O+\"** was stored in the `removed_blood_type` variable."
      ],
      "metadata": {
        "id": "odl76Z-vLIFI"
      }
    },
    {
      "cell_type": "markdown",
      "source": [
        "#### **🏥 Cleaning Up Multiple Records**\n",
        "\n",
        "Sometimes, Dr. Kwame will need to clean up several records. For example, let’s say the hospital has decided to **remove the \"phone_number\"** field from **all patient records**. He can use a loop to go through each patient’s dictionary and remove the field."
      ],
      "metadata": {
        "id": "dG36za9jLIFI"
      }
    },
    {
      "cell_type": "code",
      "source": [
        "# Example of cleaning up phone numbers from multiple records\n",
        "for patient in hospital_records:\n",
        "    if \"phone_number\" in hospital_records[patient]:\n",
        "        del hospital_records[patient][\"phone_number\"]\n",
        "\n",
        "# Print updated records\n",
        "print(hospital_records)"
      ],
      "metadata": {
        "id": "OCfThpQbLIFJ"
      },
      "outputs": [],
      "execution_count": null
    },
    {
      "cell_type": "markdown",
      "source": [
        "\n",
        "In this case:\n",
        "- The **\"phone_number\"** field was removed from all patient records that had it."
      ],
      "metadata": {
        "id": "hJxoO9YJLIFJ"
      }
    },
    {
      "cell_type": "markdown",
      "source": [
        "### **🎓 Quiz Time:**\n"
      ],
      "metadata": {
        "id": "4zHPTTnYLIFJ"
      }
    },
    {
      "cell_type": "markdown",
      "source": [
        "\n",
        "#### 1️⃣ **Multiple Choice Question**\n",
        "Which of the following will **remove** the **\"diagnosis\"** field from **John Doe's** record?\n",
        "\n",
        "- a) `del patient_info[\"diagnosis\"]`\n",
        "- b) `patient_info.remove(\"diagnosis\")`\n",
        "- c) `patient_info[\"diagnosis\"].delete()`\n",
        "- d) `patient_info[\"diagnosis\"].clear()`"
      ],
      "metadata": {
        "id": "S9rAbNWXLIFJ"
      }
    },
    {
      "cell_type": "markdown",
      "source": [
        "#### 2️⃣ **True or False**\n",
        "Using the `.pop()` method will remove an item and **return** its value."
      ],
      "metadata": {
        "id": "DjZ2J4_JLIFK"
      }
    },
    {
      "cell_type": "markdown",
      "source": [
        "#### 3️⃣ **Fill in the Blank**\n",
        "Fill in the blank to remove **John Doe's age**:"
      ],
      "metadata": {
        "id": "7UEr7kZeLIFK"
      }
    },
    {
      "cell_type": "code",
      "source": [
        "patient_info = {\"name\": \"John Doe\", \"age\": 45, \"blood_type\": \"O+\", \"diagnosis\": \"Pneumonia\"}\n",
        "\n",
        "# Remove John's age"
      ],
      "metadata": {
        "id": "y0PYbLebLIFK"
      },
      "outputs": [],
      "execution_count": null
    },
    {
      "cell_type": "markdown",
      "source": [
        "# **📦 Tuples *  "
      ],
      "metadata": {
        "id": "7PfSiBT4LIFL"
      }
    },
    {
      "cell_type": "markdown",
      "source": [
        "## **🔍 Imagine This: Doctor’s Records in a Hospital**  \n",
        "\n",
        "Dr. Kwame runs a **busy hospital**. He keeps **patient records**, **emergency levels**, and **medicine details** on his computer.  \n",
        "\n",
        "- **Some information should NEVER change** (e.g., a patient's birthdate).  \n",
        "- **Other data needs to be updated regularly** (e.g., a patient’s latest test results).  \n",
        "\n",
        "This is where **tuples, lists, and dictionaries** come in.  "
      ],
      "metadata": {
        "id": "OyGPfBWbLIFL"
      }
    },
    {
      "cell_type": "markdown",
      "source": [
        "## **🌟 What is a Tuple?**  \n",
        "\n",
        "A **tuple** is an **ordered, immutable collection** of values.  \n",
        "\n",
        "Think of a **tuple** like a **patient’s birth certificate**:  \n",
        "- ✅ **It’s permanent**—cannot be changed.  \n",
        "- ✅ **It’s official**—trusted information.  \n",
        "- ✅ **It’s fast**—quick to look up.  \n",
        "\n",
        "### **📌 Comparing: Tuples vs. Lists vs. Dictionaries**  \n",
        "\n",
        "| Feature | Tuples 📦 | Lists 📋 | Dictionaries 📖 |\n",
        "|---------|---------|---------|---------------|\n",
        "| **Can Be Modified?** | ❌ No (Immutable) | ✅ Yes (Mutable) | ✅ Yes (Mutable) |\n",
        "| **Ordered?** | ✅ Yes | ✅ Yes | ❌ No (Since Python 3.6+, order is preserved but not always needed) |\n",
        "| **Use Case in Medicine** | Fixed details (e.g., patient birthdate) | Changeable details (e.g., test results) | Key-value lookups (e.g., patient records) |\n",
        "| **Speed** | 🚀 Fastest | 🐢 Slower | 🔍 Lookup-based (fast for large data) |"
      ],
      "metadata": {
        "id": "CC_JLdHLLIFL"
      }
    },
    {
      "cell_type": "markdown",
      "source": [
        "## **🏥 Medical Use Cases for Tuples**  \n",
        "\n",
        "| **Use Case** | **Example Tuple** |\n",
        "|-------------|-----------------|\n",
        "| **Patient’s Basic Information (Fixed)** | `(\"Kwame Mensah\", \"Male\", \"O+\", \"12-04-1985\")` |\n",
        "| **Emergency Levels** | `(\"Critical\", \"Severe\", \"Moderate\", \"Mild\")` |\n",
        "| **Medical Test Units (Constant Values)** | `(\"mg/dL\", \"mmHg\", \"bpm\")` |\n",
        "| **Hospital Departments** | `(\"Cardiology\", \"Neurology\", \"Pediatrics\")` |\n",
        "| **Common Vital Signs Order** | `(\"Heart Rate\", \"Blood Pressure\", \"Temperature\")` |"
      ],
      "metadata": {
        "id": "9a1wuZZhLIFM"
      }
    },
    {
      "cell_type": "markdown",
      "source": [
        "## **🛠 Creating Tuples: Different Ways**  "
      ],
      "metadata": {
        "id": "mP0nwTe-LIFM"
      }
    },
    {
      "cell_type": "markdown",
      "source": [
        "📌 **Basic Tuple (with Parentheses)**  "
      ],
      "metadata": {
        "id": "O3xtLOa2LIFM"
      }
    },
    {
      "cell_type": "code",
      "source": [
        "patient_info = (\"Kwame Mensah\", \"Male\", \"O+\", \"12-04-1985\")"
      ],
      "metadata": {
        "id": "QnruvUzBLIFN"
      },
      "outputs": [],
      "execution_count": null
    },
    {
      "cell_type": "markdown",
      "source": [
        "📌 **Tuple Without Parentheses (Implicit Tuple)**  "
      ],
      "metadata": {
        "id": "Cd_2tf3QLIFV"
      }
    },
    {
      "cell_type": "code",
      "source": [
        "patient_info = \"Kwame Mensah\", \"Male\", \"O+\", \"12-04-1985\"\n",
        "print(type(patient_info))  # Output: <class 'tuple'>"
      ],
      "metadata": {
        "id": "Muu4UDNQLIFW"
      },
      "outputs": [],
      "execution_count": null
    },
    {
      "cell_type": "markdown",
      "source": [
        "📌 **Single Element Tuples (Don’t Forget the Comma!)**"
      ],
      "metadata": {
        "id": "l8TZAFc3LIFW"
      }
    },
    {
      "cell_type": "code",
      "source": [
        "one_value = (\"O+\",)  # ✅ Correct\n",
        "not_a_tuple = (\"O+\")  # ❌ Wrong! This is just a string."
      ],
      "metadata": {
        "id": "X3W8SGtoLIFX"
      },
      "outputs": [],
      "execution_count": null
    },
    {
      "cell_type": "markdown",
      "source": [
        "## **🔬 Why Use Tuples in Medicine?**  "
      ],
      "metadata": {
        "id": "xnBW5W4wLIFX"
      }
    },
    {
      "cell_type": "markdown",
      "source": [
        "### **🔹 1. Fixed Patient Information**  \n",
        "Certain **patient details should NEVER change** after being recorded.  "
      ],
      "metadata": {
        "id": "IrhuPrjSLIFY"
      }
    },
    {
      "cell_type": "code",
      "source": [
        "patient_info = (\"Kwame Mensah\", \"Male\", \"O+\", \"12-04-1985\")"
      ],
      "metadata": {
        "id": "UVoGiGdFLIFY"
      },
      "outputs": [],
      "execution_count": null
    },
    {
      "cell_type": "markdown",
      "source": [
        "#### **❌ What if we try modifying it?**"
      ],
      "metadata": {
        "id": "hDz1YQ81LIFZ"
      }
    },
    {
      "cell_type": "code",
      "source": [
        "patient_info[2] = \"A-\"  # ❌ ERROR! Tuples cannot be modified."
      ],
      "metadata": {
        "id": "k61N3MqbLIFa"
      },
      "outputs": [],
      "execution_count": null
    },
    {
      "cell_type": "markdown",
      "source": [
        "✅ **With a list, this mistake could happen!**  "
      ],
      "metadata": {
        "id": "zZx5qpIZLIFa"
      }
    },
    {
      "cell_type": "code",
      "source": [
        "patient_info_list = [\"Kwame Mensah\", \"Male\", \"O+\", \"12-04-1985\"]\n",
        "patient_info_list[2] = \"A-\"  # ❌ WRONG! Patient's blood type should never change."
      ],
      "metadata": {
        "id": "y8Gi3dkKLIFb"
      },
      "outputs": [],
      "execution_count": null
    },
    {
      "cell_type": "markdown",
      "source": [
        "### **🔹 2. Emergency Response Levels (Fixed Priorities)**  \n",
        "Emergency response levels in a hospital **should not change**.  "
      ],
      "metadata": {
        "id": "9zMQH8IqLIFb"
      }
    },
    {
      "cell_type": "code",
      "source": [
        "emergency_levels = (\"Critical\", \"Severe\", \"Moderate\", \"Mild\")"
      ],
      "metadata": {
        "id": "g1tJIOFzLIFc"
      },
      "outputs": [],
      "execution_count": null
    },
    {
      "cell_type": "markdown",
      "source": [
        "✅ **Tuple ensures consistency.**  "
      ],
      "metadata": {
        "id": "ZLHQMYr7LIFc"
      }
    },
    {
      "cell_type": "markdown",
      "source": [
        "❌ **If stored in a list, someone might accidentally modify it:**  \n"
      ],
      "metadata": {
        "id": "tnptJ1GvLIFc"
      }
    },
    {
      "cell_type": "code",
      "source": [
        "emergency_levels_list = [\"Critical\", \"Severe\", \"Moderate\", \"Mild\"]\n",
        "emergency_levels_list[0] = \"Life-Threatening\"  # ❌ WRONG!"
      ],
      "metadata": {
        "id": "jdUP6tF4LIFd"
      },
      "outputs": [],
      "execution_count": null
    },
    {
      "cell_type": "markdown",
      "source": [
        "✅ **Tuples prevent accidental changes!**  "
      ],
      "metadata": {
        "id": "rJJg3Dx2LIFd"
      }
    },
    {
      "cell_type": "markdown",
      "source": [
        "### **🔹 3. Medical Test Reference Values (Unchangeable Standards)**  \n",
        "Certain medical tests have **fixed measurement units**.  "
      ],
      "metadata": {
        "id": "JziDYZ-kLIFd"
      }
    },
    {
      "cell_type": "code",
      "source": [
        "test_units = (\"mg/dL\", \"mmHg\", \"bpm\")  # ✅ Always the same"
      ],
      "metadata": {
        "id": "Sn1r5H4cLIFd"
      },
      "outputs": [],
      "execution_count": null
    },
    {
      "cell_type": "markdown",
      "source": [
        "### **🔹 4. Hospital Departments (Fixed List of Specialties)**  \n",
        "Departments in a hospital **do not change often**, so a tuple is ideal.  "
      ],
      "metadata": {
        "id": "q2bJL_CwLIFe"
      }
    },
    {
      "cell_type": "code",
      "source": [
        "departments = (\"Cardiology\", \"Neurology\", \"Pediatrics\", \"Radiology\")"
      ],
      "metadata": {
        "id": "-81tqtyyLIFf"
      },
      "outputs": [],
      "execution_count": null
    },
    {
      "cell_type": "markdown",
      "source": [
        "✅ **Tuples keep this structure intact!**  "
      ],
      "metadata": {
        "id": "h5YCGWQDLIFg"
      }
    },
    {
      "cell_type": "markdown",
      "source": [
        "### **🔹 5. Data Integrity in Patient Records**  \n",
        "Dr. Kwame’s system **needs to protect sensitive data**.  "
      ],
      "metadata": {
        "id": "Btr3zM_iLIFh"
      }
    },
    {
      "cell_type": "markdown",
      "source": [
        "\n",
        "✅ **Using a dictionary for patient records:**"
      ],
      "metadata": {
        "id": "a8nmYdI1LIFh"
      }
    },
    {
      "cell_type": "code",
      "source": [
        "patients = {\n",
        "    1001: (\"Kwame Mensah\", \"Male\", \"O+\", \"12-04-1985\"),  # Fixed details\n",
        "    1002: (\"Abena Nyarko\", \"Female\", \"B+\", \"04-11-1990\"),\n",
        "}"
      ],
      "metadata": {
        "id": "DDzyTywVLIFh"
      },
      "outputs": [],
      "execution_count": null
    },
    {
      "cell_type": "markdown",
      "source": [
        "📌 **Dictionary + Tuples:** ✅ Flexible + Immutable  \n",
        "📌 **List + Dictionary?** ❌ Risk of accidental modification  "
      ],
      "metadata": {
        "id": "EgpopULsLIFi"
      }
    },
    {
      "cell_type": "markdown",
      "source": [
        "## **📝 Quick Quiz: Tuple Basics in Medicine**  \n"
      ],
      "metadata": {
        "id": "ZtyUePbqLIFi"
      }
    },
    {
      "cell_type": "markdown",
      "source": [
        "**1️⃣ What will the following code output?**  \n"
      ],
      "metadata": {
        "id": "qzlmqgasLIFi"
      }
    },
    {
      "cell_type": "code",
      "source": [
        "schedule = (\"8:00 AM\", \"2:00 PM\", \"8:00 PM\")\n",
        "print(schedule[-2])"
      ],
      "metadata": {
        "id": "TUqgHTROLIFi"
      },
      "outputs": [],
      "execution_count": null
    },
    {
      "cell_type": "markdown",
      "source": [
        "✅ **Answer:** `\"2:00 PM\"`"
      ],
      "metadata": {
        "id": "00YL-SRWLIFj"
      }
    },
    {
      "cell_type": "markdown",
      "source": [
        "**2️⃣ Which of these is a valid tuple for storing patient details?**  \n",
        "A) `patient = (\"John Doe\")`  \n",
        "B) `patient = (\"John Doe\",)`  \n",
        "C) `patient = \"John Doe\",`  \n",
        "D) `Both B & C`  \n"
      ],
      "metadata": {
        "id": "NROefzXRLIFj"
      }
    },
    {
      "cell_type": "markdown",
      "source": [
        "✅ **Answer:** `D (Both B & C)`"
      ],
      "metadata": {
        "id": "Bz6p2Ia8LIFj"
      }
    },
    {
      "cell_type": "markdown",
      "source": [
        "\n",
        "## **🎯 Final Challenge: Doctor's Fixed Records**  \n",
        "Dr. Kwame has **fixed patient records** stored in tuples:  \n"
      ],
      "metadata": {
        "id": "kececLNNLIFj"
      }
    },
    {
      "cell_type": "code",
      "source": [
        "patient_data = (\"Kwame Mensah\", \"Male\", \"O+\", \"12-04-1985\")"
      ],
      "metadata": {
        "id": "BdAqk0IKLIFk"
      },
      "outputs": [],
      "execution_count": null
    },
    {
      "cell_type": "markdown",
      "source": [
        "Write a Python program to:  \n",
        "- ✅ Extract the **patient’s blood type**  \n",
        "- ✅ Prevent **any modification**  \n",
        "- ✅ Display patient details in a **formatted string**"
      ],
      "metadata": {
        "id": "6RlCAYx3LIFk"
      }
    },
    {
      "cell_type": "code",
      "source": [
        "# ANSWER HERE"
      ],
      "metadata": {
        "id": "ynkDbrDxLIFk"
      },
      "outputs": [],
      "execution_count": null
    },
    {
      "cell_type": "markdown",
      "source": [
        " Tuple Indexing & Slicing in Medical Data**  \n"
      ],
      "metadata": {
        "id": "iwwsrJ_lLIFk"
      }
    },
    {
      "cell_type": "markdown",
      "source": [
        "## **🔍 Why is Indexing Important in Medical Records?**  \n",
        "\n",
        "Imagine a **doctor's patient database** where each record is a tuple:  \n"
      ],
      "metadata": {
        "id": "p-udILm2LIFl"
      }
    },
    {
      "cell_type": "code",
      "source": [
        "patient_info = (\"Kwame Mensah\", \"Male\", \"O+\", \"12-04-1985\")\n"
      ],
      "metadata": {
        "id": "iOWyBq44LIFl"
      },
      "outputs": [],
      "execution_count": null
    },
    {
      "cell_type": "markdown",
      "source": [
        "- **Indexing** allows us to **access** specific details like the **blood type** or **birthdate**.  \n",
        "- **Slicing** allows us to **extract a portion** of a tuple, such as a patient’s **name and gender** together.  \n"
      ],
      "metadata": {
        "id": "uDOtJDHeLIFl"
      }
    },
    {
      "cell_type": "markdown",
      "source": [
        "## **🩺 Tuple Indexing (Accessing Elements by Position)**  \n",
        "\n",
        "Every element in a tuple has an **index (position)**, starting from **0**.  \n",
        "\n",
        "| Index | 0 | 1 | 2 | 3 |\n",
        "|--------|----------------|------|----|------------|\n",
        "| **Data** | \"Kwame Mensah\" | \"Male\" | \"O+\" | \"12-04-1985\" |"
      ],
      "metadata": {
        "id": "jnn4EZ0oLIFm"
      }
    },
    {
      "cell_type": "markdown",
      "source": [
        "✅ **Accessing a specific value**:  "
      ],
      "metadata": {
        "id": "UloAjtr_LIFm"
      }
    },
    {
      "cell_type": "code",
      "source": [
        "patient_info = (\"Kwame Mensah\", \"Male\", \"O+\", \"12-04-1985\")\n",
        "\n",
        "print(patient_info[0])  # Output: Kwame Mensah\n",
        "print(patient_info[2])  # Output: O+"
      ],
      "metadata": {
        "id": "28b68dCTLIFm"
      },
      "outputs": [],
      "execution_count": null
    },
    {
      "cell_type": "markdown",
      "source": [
        "\n",
        "❌ **What if we try to modify it?**"
      ],
      "metadata": {
        "id": "BcH84HzyLIFn"
      }
    },
    {
      "cell_type": "code",
      "source": [
        "patient_info[2] = \"A-\"  # ❌ ERROR! Tuples are immutable.\n"
      ],
      "metadata": {
        "id": "CATiDs7WLIFn"
      },
      "outputs": [],
      "execution_count": null
    },
    {
      "cell_type": "markdown",
      "source": [
        "## **📌 Negative Indexing (Counting from the End)**  \n",
        "\n",
        "We can also count **backward** using **negative indices**:  \n",
        "\n",
        "| Index (Forward)  | 0  | 1  | 2  | 3  |\n",
        "|------------------|----|----|----|----|\n",
        "| Index (Backward) | -4 | -3 | -2 | -1 |\n",
        "| **Data**         | \"Kwame Mensah\" | \"Male\" | \"O+\" | \"12-04-1985\" |\n"
      ],
      "metadata": {
        "id": "NjUyMB-hLIFn"
      }
    },
    {
      "cell_type": "code",
      "source": [
        "print(patient_info[-1])  # Output: 12-04-1985\n",
        "print(patient_info[-3])  # Output: Male"
      ],
      "metadata": {
        "id": "WYCZlmmjLIFn"
      },
      "outputs": [],
      "execution_count": null
    },
    {
      "cell_type": "markdown",
      "source": [
        "✅ **Why is this useful?**  \n",
        "A **doctor always needs to check a patient’s last recorded detail**—like the birthdate—without counting manually."
      ],
      "metadata": {
        "id": "LPzhIfMILIFo"
      }
    },
    {
      "cell_type": "markdown",
      "source": [
        "## **📊 Tuple Slicing (Extracting Portions of Data)**  \n",
        "\n",
        "Slicing **extracts part of a tuple** using `[start:end]`.  \n",
        "\n",
        "| **Patient Info** | \"Kwame Mensah\" | \"Male\" | \"O+\" | \"12-04-1985\" |\n",
        "|-----------------|---------------|-------|----|------------|\n",
        "| **Index** | 0 | 1 | 2 | 3 |\n"
      ],
      "metadata": {
        "id": "mrZCSh4WLIFo"
      }
    },
    {
      "cell_type": "code",
      "source": [
        "# Extract Name and Gender\n",
        "basic_info = patient_info[0:2]  # ✅ Slicing from index 0 to 2 (excluding 2)\n",
        "print(basic_info)\n",
        "# Output: ('Kwame Mensah', 'Male')"
      ],
      "metadata": {
        "id": "R6rRNZkQLIFp"
      },
      "outputs": [],
      "execution_count": null
    },
    {
      "cell_type": "markdown",
      "source": [
        "### **🔹 How Slicing Works**\n",
        "- `patient_info[0:2]` → **Starts at index 0, stops before index 2**  \n",
        "- `patient_info[:3]` → **Defaults to index 0 start** (same as `patient_info[0:3]`)  \n",
        "- `patient_info[2:]` → **Starts from index 2 to the end**"
      ],
      "metadata": {
        "id": "E3n4QRvCLIFp"
      }
    },
    {
      "cell_type": "code",
      "source": [
        "print(patient_info[:3])  # Output: ('Kwame Mensah', 'Male', 'O+')\n",
        "print(patient_info[1:])  # Output: ('Male', 'O+', '12-04-1985')"
      ],
      "metadata": {
        "id": "ef3rbotqLIFr"
      },
      "outputs": [],
      "execution_count": null
    },
    {
      "cell_type": "markdown",
      "source": [
        "## **📝 Quick Quiz: Tuple Indexing & Slicing in Medicine**  \n",
        "\n",
        "**1️⃣ What will `patient_info[-2]` return?**  \n",
        "A) `\"Kwame Mensah\"`  \n",
        "B) `\"Male\"`  \n",
        "C) `\"O+\"`  \n",
        "D) `\"12-04-1985\"`  \n"
      ],
      "metadata": {
        "id": "G0odkBZWLIFs"
      }
    },
    {
      "cell_type": "markdown",
      "source": [
        "# ANSWER HERE"
      ],
      "metadata": {
        "id": "1lEKBXOILIFt"
      }
    },
    {
      "cell_type": "markdown",
      "source": [
        "✅ **Answer:** `\"O+\"`  \n"
      ],
      "metadata": {
        "id": "GVGtkMZNLIFt"
      }
    },
    {
      "cell_type": "markdown",
      "source": [
        "**2️⃣ What will `patient_info[1:3]` return?**  \n",
        "A) `('Kwame Mensah', 'Male')`  \n",
        "B) `('Male', 'O+')`  \n",
        "C) `('Male', 'O+', '12-04-1985')`  \n",
        "D) `('O+', '12-04-1985')`  \n"
      ],
      "metadata": {
        "id": "uvCjbpehLIFu"
      }
    },
    {
      "cell_type": "markdown",
      "source": [
        "✅ **Answer:** `('Male', 'O+')`  "
      ],
      "metadata": {
        "id": "RNfF7XRwLIFu"
      }
    },
    {
      "cell_type": "markdown",
      "source": [
        "## **🎯 Final Challenge: Hospital Schedule**  \n",
        "A hospital **operates in three shifts**, stored in a tuple:  \n"
      ],
      "metadata": {
        "id": "_jKOuu2aLIFz"
      }
    },
    {
      "cell_type": "code",
      "source": [
        "shifts = (\"Morning\", \"Afternoon\", \"Night\")\n"
      ],
      "metadata": {
        "id": "Z8OVRuyyLIGI"
      },
      "outputs": [],
      "execution_count": null
    },
    {
      "cell_type": "markdown",
      "source": [
        "✅ **Extract the first two shifts using slicing.**  \n",
        "✅ **Extract the last shift using negative indexing.**  \n",
        "✅ **Print both results.**  \n"
      ],
      "metadata": {
        "id": "NQjStnYSLIGN"
      }
    },
    {
      "cell_type": "markdown",
      "source": [
        "## 2: Tuple Packing & Unpacking in Medical Data**  "
      ],
      "metadata": {
        "id": "zcq7ASHXLIGT"
      }
    },
    {
      "cell_type": "markdown",
      "source": [
        "## **🔍 Why is Packing & Unpacking Important in Medicine?**  \n",
        "In hospitals, medical data often comes in **groups**. For example:  \n",
        "- A **patient record** has multiple attributes (name, age, blood type).  \n",
        "- A **doctor's shift schedule** includes the **doctor’s name, time slot, and ward**.  \n",
        "\n",
        "With **tuples**, we can **pack** these related values together and later **unpack** them into separate variables for easy access.  "
      ],
      "metadata": {
        "id": "vu0dD36hLIGU"
      }
    },
    {
      "cell_type": "markdown",
      "source": [
        "\n",
        "## **📦 Tuple Packing: Grouping Medical Data Together**  \n",
        "\n",
        "Tuple **packing** means storing multiple values in a single variable:"
      ],
      "metadata": {
        "id": "e-5M7YPMLIGa"
      }
    },
    {
      "cell_type": "code",
      "source": [
        "# Packing a patient's data into a tuple\n",
        "patient_record = (\"Dr. Kwame\", \"Cardiology\", \"8:00 AM - 4:00 PM\")"
      ],
      "metadata": {
        "id": "KxgiwuF9LIGb"
      },
      "outputs": [],
      "execution_count": null
    },
    {
      "cell_type": "markdown",
      "source": [
        "Here, **all the details are grouped together** inside `patient_record`.\n",
        "\n",
        "✅ **Why is this useful?**  \n",
        "- Keeps **related information together**.  \n",
        "- Prevents **data mix-ups** (e.g., doctor’s name being accidentally stored as a time slot).  \n",
        "- **Easier to pass data** between functions."
      ],
      "metadata": {
        "id": "u9rAnwZQLIGb"
      }
    },
    {
      "cell_type": "markdown",
      "source": [
        "## **📤 Tuple Unpacking: Extracting Individual Values**  \n",
        "\n",
        "Unpacking **breaks down a tuple** into separate variables."
      ],
      "metadata": {
        "id": "qOsSpXu6LIGb"
      }
    },
    {
      "cell_type": "markdown",
      "source": [
        "doctor_name, department, shift_time = patient_record\n",
        "\n",
        "print(doctor_name)   # Output: Dr. Kwame\n",
        "print(department)    # Output: Cardiology\n",
        "print(shift_time)    # Output: 8:00 AM - 4:00 PM"
      ],
      "metadata": {
        "id": "akNQCs1cLIGf"
      }
    },
    {
      "cell_type": "markdown",
      "source": [
        "\n",
        "✅ **What’s happening here?**  \n",
        "- The tuple `(“Dr. Kwame”, “Cardiology”, “8:00 AM - 4:00 PM”)`  \n",
        "- is **unpacked** into **three separate variables**:  \n",
        "  - `doctor_name` → `\"Dr. Kwame\"`  \n",
        "  - `department` → `\"Cardiology\"`  \n",
        "  - `shift_time` → `\"8:00 AM - 4:00 PM\""
      ],
      "metadata": {
        "id": "ECkDwz_1LIGo"
      }
    },
    {
      "cell_type": "markdown",
      "source": [
        "\n",
        "## **⚖️ Tuple Packing vs. Lists & Dictionaries**  \n",
        "\n",
        "| Feature           | Tuple Packing | List | Dictionary |\n",
        "|------------------|--------------|------|------------|\n",
        "| Stores multiple related values | ✅ Yes | ✅ Yes | ✅ Yes |\n",
        "| Immutable (Cannot be changed) | ✅ Yes | ❌ No | ❌ No |\n",
        "| Uses less memory | ✅ Yes | ❌ No | ❌ No |\n",
        "| Keeps order | ✅ Yes | ✅ Yes | ❌ No (keys are unordered) |\n",
        "| Fast to retrieve data | ✅ Yes | ❌ No (slower) | ✅ Yes (if using key lookup) |\n",
        "\n",
        "✅ **When to use packing in tuples?**  \n",
        "- When **grouping medical data that won’t change** (e.g., doctor schedules, patient vitals).  \n",
        "- When **passing multiple values at once** (e.g., transferring lab results between systems)."
      ],
      "metadata": {
        "id": "zF8pTp8kLIGp"
      }
    },
    {
      "cell_type": "markdown",
      "source": [
        "## **🔄 Unpacking with Extra Variables (Ignoring Values)**  \n",
        "\n",
        "Sometimes, we don’t need **all** the values.  \n",
        "✅ We can use **`_` (underscore)** as a placeholder to ignore unwanted data:"
      ],
      "metadata": {
        "id": "0H2pHi0ULIGq"
      }
    },
    {
      "cell_type": "code",
      "source": [
        "patient_data = (\"Alice Mensah\", 45, \"B+\", \"Diabetes\")\n",
        "\n",
        "name, _, blood_type, _ = patient_data  # Ignoring age and condition\n",
        "\n",
        "print(name)        # Output: Alice Mensah\n",
        "print(blood_type)  # Output: B+"
      ],
      "metadata": {
        "id": "L42F-tadLIGq"
      },
      "outputs": [],
      "execution_count": null
    },
    {
      "cell_type": "markdown",
      "source": [
        "## **📚 Unpacking in Medical Data – Real-Life Examples**  \n",
        "\n",
        "### **🔬 Example 1: Lab Test Results**  \n",
        "A tuple stores **a patient’s test name, result, and date**:  "
      ],
      "metadata": {
        "id": "tFoLJzn5LIGr"
      }
    },
    {
      "cell_type": "code",
      "source": [
        "lab_test = (\"Blood Sugar\", \"Positive\", \"2025-02-08\")\n",
        "\n",
        "# Unpacking into variables\n",
        "test_name, result, test_date = lab_test\n",
        "\n",
        "print(test_name)  # Output: Blood Sugar\n",
        "print(result)     # Output: Positive\n",
        "print(test_date)  # Output: 2025-02-08"
      ],
      "metadata": {
        "id": "rt3Hx-3CLIGr"
      },
      "outputs": [],
      "execution_count": null
    },
    {
      "cell_type": "markdown",
      "source": [
        "### **🛏 Example 2: Hospital Bed Assignments**  \n",
        "\n",
        "A hospital stores bed assignments in tuples:"
      ],
      "metadata": {
        "id": "0JDseQj7LIGs"
      }
    },
    {
      "cell_type": "code",
      "source": [
        "bed_assignment = (\"John Doe\", \"Room 5\", \"Bed 2\")\n",
        "\n",
        "# Unpacking\n",
        "patient_name, room_number, bed_number = bed_assignment\n",
        "\n",
        "print(f\"{patient_name} is in {room_number}, {bed_number}.\")\n",
        "# Output: John Doe is in Room 5, Bed 2."
      ],
      "metadata": {
        "id": "OTxdo4tNLIGs"
      },
      "outputs": [],
      "execution_count": null
    },
    {
      "cell_type": "markdown",
      "source": [
        "## **📝 Quick Quiz: Tuple Packing & Unpacking in Hospitals**  \n",
        "\n",
        "**1️⃣ What will happen if we unpack a tuple into fewer variables?**  "
      ],
      "metadata": {
        "id": "EoqyDKIjLIGt"
      }
    },
    {
      "cell_type": "code",
      "source": [
        "doctor_info = (\"Dr. Kwame\", \"Cardiology\", \"Morning Shift\", \"Monday\")\n",
        "doctor, department = doctor_info  # ❓ What happens here?"
      ],
      "metadata": {
        "id": "lFT0uARFLIGu"
      },
      "outputs": [],
      "execution_count": null
    },
    {
      "cell_type": "markdown",
      "source": [
        "A) `\"Dr. Kwame\"` and `\"Cardiology\"` are assigned, rest is ignored  \n",
        "B) `\"Dr. Kwame\"` and `\"Cardiology\"` are assigned, but an error occurs  \n",
        "C) `\"Dr. Kwame\"` is assigned, `\"Cardiology\"` is ignored  \n",
        "D) The tuple converts into a dictionary  \n",
        "\n"
      ],
      "metadata": {
        "id": "X--zip01LIGu"
      }
    },
    {
      "cell_type": "markdown",
      "source": [
        "✅ **Answer:** **B – Error occurs** (too many values to unpack)  "
      ],
      "metadata": {
        "id": "XmomjirZLIGv"
      }
    },
    {
      "cell_type": "markdown",
      "source": [
        "## **🎯 Final Challenge: Emergency Room Assignment**  \n",
        "\n",
        "A tuple stores the **assigned doctor, patient name, and case severity**:  "
      ],
      "metadata": {
        "id": "VTdlbf8DLIGv"
      }
    },
    {
      "cell_type": "code",
      "source": [
        "er_assignment = (\"Dr. Mensah\", \"Kojo Appiah\", \"Critical\")\n"
      ],
      "metadata": {
        "id": "-xKXU5CULIGw"
      },
      "outputs": [],
      "execution_count": null
    },
    {
      "cell_type": "markdown",
      "source": [
        "✅ **Unpack it into three variables:** `doctor, patient, severity`.  \n",
        "✅ **Print a sentence using these values**, like:  \n",
        "   **\"Dr. Mensah is attending to Kojo Appiah, who is in critical condition.\"**  "
      ],
      "metadata": {
        "id": "pzeVSrReLIGx"
      }
    },
    {
      "cell_type": "markdown",
      "source": [
        "# **📋 List Comprehension: A Smarter Way to Organize Data**  "
      ],
      "metadata": {
        "id": "MVe8cZmgLIGy"
      }
    },
    {
      "cell_type": "markdown",
      "source": [
        "### **🚑 Meet Dr. Kwame**  \n",
        "Dr. Kwame is at the hospital, where **patients arrive every minute**.  \n",
        "His tablet shows a long list of **patients and their body temperatures**.  \n",
        "\n",
        "But he needs something **better**:  \n",
        "✅ A **list of only high-fever patients** (above 38°C)  \n",
        "✅ A **list of patient names**  \n",
        "✅ A **quick way to organize data**  \n",
        "\n",
        "💡 **What if his tablet could automatically filter and extract the information he needs?**  \n",
        "\n",
        "That’s what **list comprehension** does! It **creates new lists from existing ones—instantly.**  "
      ],
      "metadata": {
        "id": "EcILUPuXLIGy"
      }
    },
    {
      "cell_type": "markdown",
      "source": [
        "## **💡 What is List Comprehension?**  \n",
        "\n",
        "✅ A **fast** way to create or filter lists  \n",
        "✅ **Works like a smart filter** for data  \n",
        "✅ **One line of code** instead of long, manual steps  \n",
        "\n",
        "**Think of it like this:**  \n",
        "👩‍⚕️ **Before** → A nurse **manually copies patient names** from a list.  \n",
        "🤖 **After** → A **smart assistant automatically extracts** the names in a second.  "
      ],
      "metadata": {
        "id": "Ki5R9cSSLIGy"
      }
    },
    {
      "cell_type": "markdown",
      "source": [
        "\n",
        "## **🩺 Example 1: Picking Only High-Fever Patients**  \n",
        "\n",
        "\n",
        "📌 **Dr. Kwame’s tablet stores patient records like this:**  "
      ],
      "metadata": {
        "id": "NaI0g0DYLIGz"
      }
    },
    {
      "cell_type": "code",
      "source": [
        "patients = [(\"Alice\", 37.2), (\"James\", 39.5), (\"Maria\", 38.7)]"
      ],
      "metadata": {
        "id": "Rnh27UFzLIGz"
      },
      "outputs": [],
      "execution_count": null
    },
    {
      "cell_type": "markdown",
      "source": [
        "👀 **Each patient is stored as:**  \n",
        "`(\"Name\", Temperature)`"
      ],
      "metadata": {
        "id": "VUW803DxLIG0"
      }
    },
    {
      "cell_type": "markdown",
      "source": [
        "### ❌ **Old Way: Doing it by Hand**  \n",
        "🔹 Look at each patient’s temperature.  \n",
        "🔹 **Write down** only those with fever above 38°C.  \n",
        "🔹 **Too slow and tiring!**  "
      ],
      "metadata": {
        "id": "FN_hHXvuLIG3"
      }
    },
    {
      "cell_type": "markdown",
      "source": [
        "### ✅ **New Way: Let Python Do It!**  "
      ],
      "metadata": {
        "id": "9WHqnKojLIG4"
      }
    },
    {
      "cell_type": "code",
      "source": [
        "high_fever = [patient for patient in patients if patient[1] > 38]\n",
        "print(high_fever)"
      ],
      "metadata": {
        "id": "ibNZFtoGLIG4"
      },
      "outputs": [],
      "execution_count": null
    },
    {
      "cell_type": "markdown",
      "source": [
        "## **🧪 Example 2: Extracting Only Patient Names**  \n",
        "Dr. Kwame needs **just the names** of all patients.  "
      ],
      "metadata": {
        "id": "I9hgBKy_LIG5"
      }
    },
    {
      "cell_type": "code",
      "source": [
        "patient_names = [patient[0] for patient in patients]\n",
        "print(patient_names)"
      ],
      "metadata": {
        "id": "VCNBKs4RLIG5"
      },
      "outputs": [],
      "execution_count": null
    },
    {
      "cell_type": "markdown",
      "source": [
        "# **🗂️ Bonus: Dictionary Comprehension!**  \n",
        "📌 **List comprehension works for lists, but we can do something similar with dictionaries.**  "
      ],
      "metadata": {
        "id": "iiIQInQELIG6"
      }
    },
    {
      "cell_type": "markdown",
      "source": [
        "👨‍⚕️ **Example:** Dr. Kwame needs a **dictionary** of patients and their temperatures.  \n"
      ],
      "metadata": {
        "id": "Vc0AKxZBLIG6"
      }
    },
    {
      "cell_type": "code",
      "source": [
        "patient_dict = {patient[0]: patient[1] for patient in patients}\n",
        "print(patient_dict)"
      ],
      "metadata": {
        "id": "rg-_IeW0LIG6"
      },
      "outputs": [],
      "execution_count": null
    },
    {
      "cell_type": "markdown",
      "source": [
        "# **📝 Quick Practice: Test Yourself!**  "
      ],
      "metadata": {
        "id": "1V9xSiDWLIG7"
      }
    },
    {
      "cell_type": "markdown",
      "source": [
        "### 1️⃣ **Dr. Kwame wants a list of patients who need urgent care (fever > 39°C).**  "
      ],
      "metadata": {
        "id": "dzu_ILt0LIG7"
      }
    },
    {
      "cell_type": "code",
      "source": [
        "# Fill in the blanks:\n",
        "urgent_patients = [______ for ______ in ______ if ______ > 39]\n",
        "print(urgent_patients)"
      ],
      "metadata": {
        "id": "qhAuds3DLIG8"
      },
      "outputs": [],
      "execution_count": null
    },
    {
      "cell_type": "markdown",
      "source": [
        "### 2️⃣ **Convert this into a list comprehension:**  \n",
        "Dr. Kwame wants a list of **years each patient was born** (assuming it’s 2025 now)."
      ],
      "metadata": {
        "id": "_hWJf3IkLIG9"
      }
    },
    {
      "cell_type": "code",
      "source": [
        "patient_ages = [25, 42, 36, 50]\n",
        "birth_years = [______ for ______ in ______]\n",
        "print(birth_years)"
      ],
      "metadata": {
        "id": "lpWv6ulLLIG9"
      },
      "outputs": [],
      "execution_count": null
    },
    {
      "cell_type": "markdown",
      "source": [
        "💡 **Hint:** Each birth year is **2025 - age**  \n"
      ],
      "metadata": {
        "id": "t0UU32d7LIG-"
      }
    },
    {
      "cell_type": "markdown",
      "source": [
        "# **🌟 Concept 1: Creating Lists with List Comprehension**  \n",
        "\n",
        "Meet **Dr. Kwame**, a hardworking doctor at a busy hospital. Every day, he deals with **patient records, test results, and medical data**.  \n",
        "\n",
        "To stay **organized and efficient**, Dr. Kwame uses **list comprehension** to **quickly generate and filter patient information**. Let’s follow his journey to understand **why** list comprehension is a game-changer!\n"
      ],
      "metadata": {
        "id": "D9ERHzPXLIG-"
      }
    },
    {
      "cell_type": "markdown",
      "source": [
        "## **🩺 Dr. Kwame’s First Task: Recording Patient IDs**  \n",
        "\n",
        "Each morning, Dr. Kwame needs to create a **list of patient IDs** for the day. Instead of **typing them one by one**, he uses **list comprehension** to automate the task.  "
      ],
      "metadata": {
        "id": "L9T27yniLIG_"
      }
    },
    {
      "cell_type": "markdown",
      "source": [
        "### **✅ Without list comprehension (Slow & Manual)**  "
      ],
      "metadata": {
        "id": "4YyxqM1XLIG_"
      }
    },
    {
      "cell_type": "code",
      "source": [
        "patient_ids = [1001, 1002, 1003, 1004, 1005]"
      ],
      "metadata": {
        "id": "cu8LO4GGLIG_"
      },
      "outputs": [],
      "execution_count": null
    },
    {
      "cell_type": "markdown",
      "source": [
        "✔️ This works, but what if he has **100 patients**? 😩  "
      ],
      "metadata": {
        "id": "7mHRfslZLIHA"
      }
    },
    {
      "cell_type": "markdown",
      "source": [
        "### **🚀 With List Comprehension (Fast & Automatic!)**  "
      ],
      "metadata": {
        "id": "NPkkRYMRLIHA"
      }
    },
    {
      "cell_type": "code",
      "source": [
        "patient_ids = [id for id in range(1001, 1021)]\n",
        "print(patient_ids)"
      ],
      "metadata": {
        "id": "AWvJgvVyLIHA"
      },
      "outputs": [],
      "execution_count": null
    },
    {
      "cell_type": "markdown",
      "source": [
        "💡 **Dr. Kwame just saved tons of time!**  "
      ],
      "metadata": {
        "id": "-d7WpthiLIHB"
      }
    },
    {
      "cell_type": "markdown",
      "source": [
        "## **🔬 Task 2: Tracking Patients’ Body Temperatures**\n",
        "\n",
        "Dr. Kwame records **patients’ temperatures** every morning. Instead of manually entering them, he uses **list comprehension** to create a **range of normal body temperatures**.  \n"
      ],
      "metadata": {
        "id": "Fgtkpv8yLIHB"
      }
    },
    {
      "cell_type": "code",
      "source": [
        "temperatures = [temp for temp in range(36, 41)]\n",
        "print(temperatures)"
      ],
      "metadata": {
        "id": "PkYfZY59LIHC"
      },
      "outputs": [],
      "execution_count": null
    },
    {
      "cell_type": "markdown",
      "source": [
        "✔️ Now, he has a **temperature list** ready in **seconds!**"
      ],
      "metadata": {
        "id": "RZk-tjqHLIHC"
      }
    },
    {
      "cell_type": "markdown",
      "source": [
        "## **🩸 Task 3: Tracking Patients' Blood Sugar Levels**  \n",
        "\n",
        "Some patients need **regular blood sugar monitoring**. Dr. Kwame wants to quickly generate a **list of fasting blood sugar levels for 10 patients**.  \n"
      ],
      "metadata": {
        "id": "wkRe2fD_LIHD"
      }
    },
    {
      "cell_type": "code",
      "source": [
        "blood_sugar_levels = [level for level in range(70, 81)]\n",
        "print(blood_sugar_levels)"
      ],
      "metadata": {
        "id": "aenFXvuBLIHD"
      },
      "outputs": [],
      "execution_count": null
    },
    {
      "cell_type": "markdown",
      "source": [
        "✔️ Dr. Kwame now has a **ready-to-use blood sugar level range!**  "
      ],
      "metadata": {
        "id": "tQm-1C8VLIHD"
      }
    },
    {
      "cell_type": "markdown",
      "source": [
        "## **💉 Task 4: Filtering High Fever Patients**  \n",
        "\n",
        "Some patients have a **fever** if their temperature is **above 38°C**. Dr. Kwame needs to **identify those patients quickly**.  "
      ],
      "metadata": {
        "id": "P_ThHAheLIHE"
      }
    },
    {
      "cell_type": "markdown",
      "source": [
        "✅ **Using list comprehension to filter high-fever cases:**  "
      ],
      "metadata": {
        "id": "8xS1RYamLIHE"
      }
    },
    {
      "cell_type": "code",
      "source": [
        "high_fever = [temp for temp in temperatures if temp > 38]\n",
        "print(high_fever)"
      ],
      "metadata": {
        "id": "WWAeDjL4LIHF"
      },
      "outputs": [],
      "execution_count": null
    },
    {
      "cell_type": "markdown",
      "source": [
        "✔️ Now, Dr. Kwame instantly knows **which patients need urgent attention!**  "
      ],
      "metadata": {
        "id": "IKEfwiAhLIHG"
      }
    },
    {
      "cell_type": "markdown",
      "source": [
        "## **🧪 Task 5: Identifying Patients with Low Oxygen Levels**  \n",
        "\n",
        "A patient with **oxygen saturation below 95%** needs **immediate attention**. Dr. Kwame checks a list of recorded oxygen levels to **find patients who are at risk**.  "
      ],
      "metadata": {
        "id": "zbEY5_FuLIHG"
      }
    },
    {
      "cell_type": "code",
      "source": [
        "oxygen_levels = [94, 98, 96, 92, 97, 89, 95, 91]\n",
        "low_oxygen = [level for level in oxygen_levels if level < 95]\n",
        "print(low_oxygen)"
      ],
      "metadata": {
        "id": "Atn13seQLIHG"
      },
      "outputs": [],
      "execution_count": null
    },
    {
      "cell_type": "markdown",
      "source": [
        "✔️ Now, he knows **who needs oxygen therapy first**!  "
      ],
      "metadata": {
        "id": "eHV6xsdgLIHH"
      }
    },
    {
      "cell_type": "markdown",
      "source": [
        "## **📝 Mini Quizzes! (Help Dr. Kwame) 🎯**  "
      ],
      "metadata": {
        "id": "tjl8CJQNLIHH"
      }
    },
    {
      "cell_type": "markdown",
      "source": [
        "### **🔍 Quiz 1: Complete the Missing Parts**  \n",
        "\n",
        "Dr. Kwame is recording **respiratory rates** (breaths per minute). Complete the code to generate a list from **12 to 20**.  "
      ],
      "metadata": {
        "id": "PyUaqchyLIHI"
      }
    },
    {
      "cell_type": "code",
      "source": [
        "respiratory_rates = [____ for ____ in range(____, ____)]\n",
        "print(respiratory_rates)"
      ],
      "metadata": {
        "id": "8lEPU-AzLIHI"
      },
      "outputs": [],
      "execution_count": null
    },
    {
      "cell_type": "markdown",
      "source": [
        "✅ **Answer:**  "
      ],
      "metadata": {
        "id": "AFnVE-vsLIHJ"
      }
    },
    {
      "cell_type": "code",
      "source": [
        "respiratory_rates = [rr for rr in range(12, 21)]\n",
        "print(respiratory_rates)"
      ],
      "metadata": {
        "id": "9aD26QjuLIHJ"
      },
      "outputs": [],
      "execution_count": null
    },
    {
      "cell_type": "markdown",
      "source": [
        "### **🏆 Quiz 2: Find Even Blood Pressure Readings**  \n",
        "\n",
        "Dr. Kwame is tracking **blood pressure readings** and wants to **filter only even numbers**.  \n",
        "\n",
        "✅ **Your Task:**  \n",
        "Write a **list comprehension** to create a list of **even blood pressure readings** from **100 to 120**.  "
      ],
      "metadata": {
        "id": "_5GkL6ARLIHJ"
      }
    },
    {
      "cell_type": "code",
      "source": [
        "blood_pressure = [____ for ____ in range(100, 121) if ____]\n",
        "print(blood_pressure)"
      ],
      "metadata": {
        "id": "pgrCcQTqLIHK"
      },
      "outputs": [],
      "execution_count": null
    },
    {
      "cell_type": "markdown",
      "source": [
        "✅ **Answer:**  "
      ],
      "metadata": {
        "id": "MrY9f3yALIHK"
      }
    },
    {
      "cell_type": "code",
      "source": [
        "blood_pressure = [bp for bp in range(100, 121) if bp % 2 == 0]\n",
        "print(blood_pressure)"
      ],
      "metadata": {
        "id": "NKcsuB2ULIHL"
      },
      "outputs": [],
      "execution_count": null
    },
    {
      "cell_type": "markdown",
      "source": [
        "### **🧪 Quiz 3: Identify Patients with High Cholesterol**  \n",
        "\n",
        "Dr. Kwame has a list of cholesterol levels. Can you filter out **only those greater than 200**?  "
      ],
      "metadata": {
        "id": "wUPGK-XQLIHL"
      }
    },
    {
      "cell_type": "code",
      "source": [
        "cholesterol_levels = [180, 190, 205, 215, 220, 170, 230]\n",
        "high_cholesterol = [____ for ____ in cholesterol_levels if ____]\n",
        "print(high_cholesterol)"
      ],
      "metadata": {
        "id": "R5SNWjcvLIHL"
      },
      "outputs": [],
      "execution_count": null
    },
    {
      "cell_type": "markdown",
      "source": [
        "✅ **Answer:**"
      ],
      "metadata": {
        "id": "7W3pmbIQLIHM"
      }
    },
    {
      "cell_type": "code",
      "source": [
        "high_cholesterol = [chol for chol in cholesterol_levels if chol > 200]\n",
        "print(high_cholesterol)"
      ],
      "metadata": {
        "id": "rORWa4HrLIHM"
      },
      "outputs": [],
      "execution_count": null
    },
    {
      "cell_type": "markdown",
      "source": [
        "### **🔍 Quiz 4: Extract Patient Names Starting with ‘A’**  \n",
        "\n",
        "Dr. Kwame has a list of patient names. He wants to extract **only those whose names start with \"A\"**.  "
      ],
      "metadata": {
        "id": "CsUcsOwiLIHM"
      }
    },
    {
      "cell_type": "code",
      "source": [
        "patient_names = [\"Alice\", \"Ben\", \"Amara\", \"David\", \"Abena\", \"Kwame\"]\n",
        "a_patients = [____ for ____ in patient_names if ____]\n",
        "print(a_patients)"
      ],
      "metadata": {
        "id": "buso2n6ULIHN"
      },
      "outputs": [],
      "execution_count": null
    },
    {
      "cell_type": "markdown",
      "source": [
        "✅ **Answer:**  "
      ],
      "metadata": {
        "id": "PcXLLahwLIHN"
      }
    },
    {
      "cell_type": "markdown",
      "source": [
        "a_patients = [name for name in patient_names if name.startswith(\"A\")]\n",
        "print(a_patients)"
      ],
      "metadata": {
        "id": "oRTwAjl0LIHN"
      }
    },
    {
      "cell_type": "markdown",
      "source": [
        "### **💡 Quiz 5: Convert Celsius to Fahrenheit**  \n",
        "\n",
        "Dr. Kwame needs to convert **Celsius temperatures** to **Fahrenheit** using:  \n",
        "\\[\n",
        "F = (C × 9/5) + 32\n",
        "\\]\n",
        "Write a list comprehension to convert **Celsius values from 36 to 40** into Fahrenheit.  \n"
      ],
      "metadata": {
        "id": "W9-YNbJbLIHN"
      }
    },
    {
      "cell_type": "code",
      "source": [
        "celsius = [36, 37, 38, 39, 40]\n",
        "fahrenheit = [____ for ____ in celsius]\n",
        "print(fahrenheit)"
      ],
      "metadata": {
        "id": "xWJikiKGLIHO"
      },
      "outputs": [],
      "execution_count": null
    },
    {
      "cell_type": "markdown",
      "source": [
        "✅ **Answer:**  "
      ],
      "metadata": {
        "id": "L2_ivq_FLIHO"
      }
    },
    {
      "cell_type": "code",
      "source": [
        "fahrenheit = [(temp * 9/5) + 32 for temp in celsius]\n",
        "print(fahrenheit)"
      ],
      "metadata": {
        "id": "R9g9SjhILIHO"
      },
      "outputs": [],
      "execution_count": null
    },
    {
      "cell_type": "markdown",
      "source": [
        "## **🚀 Summary of What Dr. Kwame Learned Today**\n",
        "✅ **List comprehension saves time** by automating list creation.  \n",
        "✅ The **basic format** is:  \n",
        "   ```python\n",
        "   [expression for item in iterable]\n",
        "   ```\n",
        "✅ **Dr. Kwame’s Use Cases**:  \n",
        "   - **Recording patient IDs**  \n",
        "   - **Tracking temperatures**  \n",
        "   - **Filtering fever cases**  \n",
        "   - **Managing respiratory rates & blood pressure**  \n",
        "   - **Identifying at-risk patients**  "
      ],
      "metadata": {
        "id": "FLnVMCHNLIHO"
      }
    },
    {
      "cell_type": "markdown",
      "source": [
        "# **🌟 Concept 2: Adding Conditions to List Comprehension**  \n",
        "\n",
        "In **Concept 1**, Dr. Kwame used list comprehension to **create lists** quickly. But now, he needs to **filter** specific patients based on certain conditions.  \n",
        "\n",
        "Let’s **add conditions** to list comprehensions and **make them smarter!**  "
      ],
      "metadata": {
        "id": "-9NfVeppLIHP"
      }
    },
    {
      "cell_type": "markdown",
      "source": [
        "## **🩺 Dr. Kwame’s Challenge: Identifying Critical Patients**  \n",
        "\n",
        "At his hospital, Dr. Kwame needs to **quickly filter patients** who require **urgent attention**. This means working with **conditions** in list comprehension.  \n",
        "\n",
        "✅ **The Format of List Comprehension with Conditions:**  \n",
        "```python\n",
        "[expression for item in iterable if condition]\n",
        "```\n",
        "💡 The **if condition** checks if the item **meets a requirement** before adding it to the list."
      ],
      "metadata": {
        "id": "eQ0q_wO-LIHP"
      }
    },
    {
      "cell_type": "markdown",
      "source": [
        "## **🚑 Task 1: Filtering Patients with High Fever**  \n",
        "\n",
        "Dr. Kwame has **a list of patient temperatures** and needs to find **only those with a fever** (**above 38°C**)."
      ],
      "metadata": {
        "id": "rC_6H7myLIHR"
      }
    },
    {
      "cell_type": "code",
      "source": [
        "temperatures = [36, 37, 38, 39, 40, 41, 37, 39]\n",
        "high_fever = [temp for temp in temperatures if temp > 38]\n",
        "print(high_fever)"
      ],
      "metadata": {
        "id": "IpOsK5XuLIHR"
      },
      "outputs": [],
      "execution_count": null
    },
    {
      "cell_type": "markdown",
      "source": [
        "✔️ Now, Dr. Kwame instantly sees **which patients need immediate care!**  "
      ],
      "metadata": {
        "id": "14-LNfcqLIHS"
      }
    },
    {
      "cell_type": "markdown",
      "source": [
        "## **🩸 Task 2: Finding Patients with High Blood Pressure**  \n",
        "\n",
        "High blood pressure (**hypertension**) is defined as **above 140 mmHg**.  \n",
        "Dr. Kwame needs to **filter only the hypertensive patients**.  "
      ],
      "metadata": {
        "id": "bJ6zaTseLIHT"
      }
    },
    {
      "cell_type": "code",
      "source": [
        "blood_pressure = [120, 135, 140, 145, 150, 130, 155]\n",
        "high_bp = [bp for bp in blood_pressure if bp > 140]\n",
        "print(high_bp)"
      ],
      "metadata": {
        "id": "AioIB2gJLIHU"
      },
      "outputs": [],
      "execution_count": null
    },
    {
      "cell_type": "markdown",
      "source": [
        "✔️ Now, he knows **who needs urgent medication!**  \n"
      ],
      "metadata": {
        "id": "2iqNEh23LIHU"
      }
    },
    {
      "cell_type": "markdown",
      "source": [
        "\n",
        "## **🧪 Task 3: Filtering Low Oxygen Levels (Danger Zone 🚨)**  \n",
        "\n",
        "Dr. Kwame wants to **identify patients with dangerously low oxygen levels** (**below 92%**).  "
      ],
      "metadata": {
        "id": "_XDFPa_yLIHV"
      }
    },
    {
      "cell_type": "code",
      "source": [
        "oxygen_levels = [98, 96, 94, 91, 89, 97, 90]\n",
        "low_oxygen = [level for level in oxygen_levels if level < 92]\n",
        "print(low_oxygen)"
      ],
      "metadata": {
        "id": "v87rOmsfLIHV"
      },
      "outputs": [],
      "execution_count": null
    },
    {
      "cell_type": "markdown",
      "source": [
        "✔️ Now, he **immediately knows who needs oxygen support!**  "
      ],
      "metadata": {
        "id": "dOPBXpF3LIHV"
      }
    },
    {
      "cell_type": "markdown",
      "source": [
        "## **💉 Task 4: Selecting Patients Who Need a Sugar Test**  \n",
        "\n",
        "Some patients **already had** a sugar test, and some **haven't**.  \n",
        "Dr. Kwame has a list of patient names.  \n",
        "He needs to find **only those who haven’t had their test yet**.  "
      ],
      "metadata": {
        "id": "xzB4dqA0LIHW"
      }
    },
    {
      "cell_type": "code",
      "source": [
        "all_patients = [\"Alice\", \"Ben\", \"Cynthia\", \"David\", \"Emma\"]\n",
        "tested_patients = [\"Alice\", \"David\"]\n",
        "\n",
        "not_tested = [patient for patient in all_patients if patient not in tested_patients]\n",
        "print(not_tested)"
      ],
      "metadata": {
        "id": "tRu7fqQGLIHW"
      },
      "outputs": [],
      "execution_count": null
    },
    {
      "cell_type": "markdown",
      "source": [
        "✔️ Now, he knows **who to call for testing!**  \n"
      ],
      "metadata": {
        "id": "7Tc7uBEMLIHX"
      }
    },
    {
      "cell_type": "markdown",
      "source": [
        "## **🏥 Task 5: Finding Patients Eligible for a Vaccine**  \n",
        "\n",
        "Some patients **already got the vaccine**.  \n",
        "Dr. Kwame needs to **find those who are still unvaccinated**.  "
      ],
      "metadata": {
        "id": "h0ZnI_sVLIHX"
      }
    },
    {
      "cell_type": "code",
      "source": [
        "all_patients = [\"Kwame\", \"Aisha\", \"Felix\", \"Linda\", \"Kojo\"]\n",
        "vaccinated = [\"Kwame\", \"Linda\"]\n",
        "\n",
        "unvaccinated = [p for p in all_patients if p not in vaccinated]\n",
        "print(unvaccinated)"
      ],
      "metadata": {
        "id": "DrRhvM6GLIHX"
      },
      "outputs": [],
      "execution_count": null
    },
    {
      "cell_type": "markdown",
      "source": [
        "✔️ Now, he knows **who needs a vaccine appointment!**  \n"
      ],
      "metadata": {
        "id": "aBEDbj9pLIHY"
      }
    },
    {
      "cell_type": "markdown",
      "source": [
        "## **📝 Mini Quizzes! (Help Dr. Kwame) 🎯**  \n",
        "\n",
        "### **🔍 Quiz 1: Find Patients Who Are Overweight**  \n",
        "\n",
        "A patient with a **BMI greater than 25** is considered overweight.  \n",
        "Write a **list comprehension** to filter **overweight** patients.  "
      ],
      "metadata": {
        "id": "fnXLD30hLIHY"
      }
    },
    {
      "cell_type": "code",
      "source": [
        "bmi_values = [22, 26, 30, 24, 28, 19, 27]\n",
        "overweight = [____ for ____ in bmi_values if ____]\n",
        "print(overweight)"
      ],
      "metadata": {
        "id": "ZaJ2poMsLIHY"
      },
      "outputs": [],
      "execution_count": null
    },
    {
      "cell_type": "markdown",
      "source": [
        "✅ **Answer:**  "
      ],
      "metadata": {
        "id": "pJZUhs3lLIHY"
      }
    },
    {
      "cell_type": "code",
      "source": [
        "overweight = [bmi for bmi in bmi_values if bmi > 25]\n",
        "print(overweight)"
      ],
      "metadata": {
        "id": "EAUQNribLIHZ"
      },
      "outputs": [],
      "execution_count": null
    },
    {
      "cell_type": "markdown",
      "source": [
        "### **🏆 Quiz 2: Find Patients with Low Sugar Levels**  \n",
        "\n",
        "Low sugar levels are **below 70 mg/dL**.  \n",
        "Write a **list comprehension** to identify them."
      ],
      "metadata": {
        "id": "UaTqHw_6LIHZ"
      }
    },
    {
      "cell_type": "code",
      "source": [
        "sugar_levels = [85, 65, 72, 69, 90, 58, 75]\n",
        "low_sugar = [____ for ____ in sugar_levels if ____]\n",
        "print(low_sugar)"
      ],
      "metadata": {
        "id": "GTt0H0SxLIHZ"
      },
      "outputs": [],
      "execution_count": null
    },
    {
      "cell_type": "markdown",
      "source": [
        "✅ **Answer:**  "
      ],
      "metadata": {
        "id": "gCdNTyNVLIHZ"
      }
    },
    {
      "cell_type": "code",
      "source": [
        "low_sugar = [sugar for sugar in sugar_levels if sugar < 70]\n",
        "print(low_sugar)"
      ],
      "metadata": {
        "id": "6n2bskSJLIHa"
      },
      "outputs": [],
      "execution_count": null
    },
    {
      "cell_type": "markdown",
      "source": [
        "### **🧪 Quiz 3: Identify Smokers in a Patient List**  \n",
        "\n",
        "Dr. Kwame needs to **identify all smokers** from a list of patient records.  "
      ],
      "metadata": {
        "id": "E9D67rsYLIHa"
      }
    },
    {
      "cell_type": "code",
      "source": [
        "patients = [\"Kwame-smoker\", \"Kojo\", \"Felix-smoker\", \"Aisha\", \"Linda\"]\n",
        "smokers = [____ for ____ in patients if \"smoker\" in ____]\n",
        "print(smokers)"
      ],
      "metadata": {
        "id": "Etcntm-ZLIHa"
      },
      "outputs": [],
      "execution_count": null
    },
    {
      "cell_type": "markdown",
      "source": [
        "✅ **Answer:**"
      ],
      "metadata": {
        "id": "QXEo62U3LIHb"
      }
    },
    {
      "cell_type": "code",
      "source": [
        "smokers = [p for p in patients if \"smoker\" in p]\n",
        "print(smokers)"
      ],
      "metadata": {
        "id": "5zPbn4QnLIHb"
      },
      "outputs": [],
      "execution_count": null
    },
    {
      "cell_type": "markdown",
      "source": [
        "### **🔍 Quiz 4: Filter Patients Older Than 50**  \n",
        "\n",
        "Dr. Kwame has a **list of patient ages**.  \n",
        "Write a **list comprehension** to find **only those older than 50**.  "
      ],
      "metadata": {
        "id": "WrvWBl_jLIHb"
      }
    },
    {
      "cell_type": "code",
      "source": [
        "ages = [45, 52, 37, 60, 48, 55, 62]\n",
        "older_patients = [____ for ____ in ages if ____]\n",
        "print(older_patients)"
      ],
      "metadata": {
        "id": "VorJ4VTYLIHc"
      },
      "outputs": [],
      "execution_count": null
    },
    {
      "cell_type": "markdown",
      "source": [
        "✅ **Answer:**"
      ],
      "metadata": {
        "id": "hToXebp3LIHc"
      }
    },
    {
      "cell_type": "code",
      "source": [
        "older_patients = [age for age in ages if age > 50]\n",
        "print(older_patients)"
      ],
      "metadata": {
        "id": "W0nuGvYELIHd"
      },
      "outputs": [],
      "execution_count": null
    },
    {
      "cell_type": "markdown",
      "source": [
        "### **💡 Quiz 5: Filter Patient Names That Start with 'K'**  \n",
        "\n",
        "Dr. Kwame wants to list all **patients whose names start with \"K\"**.  "
      ],
      "metadata": {
        "id": "oPsiiDawLIHd"
      }
    },
    {
      "cell_type": "code",
      "source": [
        "patients = [\"Kwame\", \"Kojo\", \"Linda\", \"Aisha\", \"Felix\"]\n",
        "k_patients = [____ for ____ in patients if ____]\n",
        "print(k_patients)"
      ],
      "metadata": {
        "id": "TdozpbbXLIHd"
      },
      "outputs": [],
      "execution_count": null
    },
    {
      "cell_type": "markdown",
      "source": [
        "✅ **Answer:**"
      ],
      "metadata": {
        "id": "yriKPEx2LIHd"
      }
    },
    {
      "cell_type": "code",
      "source": [
        "k_patients = [name for name in patients if name.startswith(\"K\")]\n",
        "print(k_patients)"
      ],
      "metadata": {
        "id": "987geV6CLIHe"
      },
      "outputs": [],
      "execution_count": null
    },
    {
      "cell_type": "markdown",
      "source": [
        "## **🚀 Summary of Concept 2**\n",
        "✅ **Conditions help filter lists easily.**  \n",
        "✅ The **format** is:  \n",
        "   ```python\n",
        "   [expression for item in iterable if condition]\n",
        "   ```\n",
        "✅ **Dr. Kwame’s Use Cases:**  \n",
        "   - **Filtering high fever patients**  \n",
        "   - **Finding hypertensive patients**  \n",
        "   - **Identifying smokers**  \n",
        "   - **Checking vaccination status**  "
      ],
      "metadata": {
        "id": "1HDtnPkRLIHe"
      }
    },
    {
      "cell_type": "markdown",
      "source": [
        "# **🌟 Concept 3: Using If-Else in List Comprehension**  \n",
        "\n",
        "Now that Dr. Kwame can **filter** patients using conditions, what if he wants to **assign labels** instead of just filtering?  \n",
        "\n",
        "This is where **if-else** in list comprehensions comes in! 🎯"
      ],
      "metadata": {
        "id": "ASb4LA0_LIHe"
      }
    },
    {
      "cell_type": "markdown",
      "source": [
        "## **🩺 Dr. Kwame’s Challenge: Categorizing Patients by Fever Severity**  \n",
        "\n",
        "Instead of just **selecting** patients with a fever, Dr. Kwame wants to **label each patient** as:  \n",
        "- **\"Normal\"** if temperature is **≤ 38°C**  \n",
        "- **\"High Fever\"** if temperature is **above 38°C**  \n",
        "\n",
        "✅ **The Format of If-Else in List Comprehension:**  \n",
        "```python\n",
        "[expression_if_true if condition else expression_if_false for item in iterable]\n",
        "```\n",
        "💡 The **if-else** decides what value to assign **for every item** in the list.  "
      ],
      "metadata": {
        "id": "j-sEHH6NLIHe"
      }
    },
    {
      "cell_type": "markdown",
      "source": [
        "## **🌡️ Task 1: Labeling Fever Patients**  \n",
        "\n",
        "Dr. Kwame has a list of **patient temperatures**.  \n",
        "He wants to **label them based on fever severity**."
      ],
      "metadata": {
        "id": "E-LGjOu8LIHf"
      }
    },
    {
      "cell_type": "code",
      "source": [
        "temperatures = [36, 37, 38, 39, 40, 41, 37, 39]\n",
        "fever_labels = [\"Normal\" if temp <= 38 else \"High Fever\" for temp in temperatures]\n",
        "print(fever_labels)"
      ],
      "metadata": {
        "id": "pjrhqbVnLIHf"
      },
      "outputs": [],
      "execution_count": null
    },
    {
      "cell_type": "markdown",
      "source": [
        "✔️ Now, each patient is labeled based on fever severity!  \n"
      ],
      "metadata": {
        "id": "7iO5xtdCLIHf"
      }
    },
    {
      "cell_type": "markdown",
      "source": [
        "## **🩸 Task 2: Categorizing Blood Pressure Readings**  \n",
        "\n",
        "Instead of just selecting high blood pressure values, Dr. Kwame wants to **categorize them as:**  \n",
        "- **\"Normal\"** if **≤ 140 mmHg**  \n",
        "- **\"Hypertension\"** if **> 140 mmHg**"
      ],
      "metadata": {
        "id": "PnFscsRkLIHf"
      }
    },
    {
      "cell_type": "code",
      "source": [
        "blood_pressure = [120, 135, 140, 145, 150, 130, 155]\n",
        "bp_labels = [\"Normal\" if bp <= 140 else \"Hypertension\" for bp in blood_pressure]\n",
        "print(bp_labels)"
      ],
      "metadata": {
        "id": "Ff3xmXKbLIHf"
      },
      "outputs": [],
      "execution_count": null
    },
    {
      "cell_type": "markdown",
      "source": [
        "✔️ Now, each patient has a **clear blood pressure status**!  \n"
      ],
      "metadata": {
        "id": "hYYN_wYILIHi"
      }
    },
    {
      "cell_type": "markdown",
      "source": [
        "## **🧪 Task 3: Classifying Oxygen Levels**  \n",
        "\n",
        "Dr. Kwame wants to **classify oxygen levels** as:  \n",
        "- **\"Safe\"** if oxygen is **≥ 92%**  \n",
        "- **\"Low\"** if oxygen is **< 92%**  "
      ],
      "metadata": {
        "id": "WorDsI90LIHi"
      }
    },
    {
      "cell_type": "code",
      "source": [
        "oxygen_levels = [98, 96, 94, 91, 89, 97, 90]\n",
        "oxygen_status = [\"Safe\" if level >= 92 else \"Low\" for level in oxygen_levels]\n",
        "print(oxygen_status)"
      ],
      "metadata": {
        "id": "0DngU22DLIHi"
      },
      "outputs": [],
      "execution_count": null
    },
    {
      "cell_type": "markdown",
      "source": [
        "## **🏥 Task 4: Checking if Patients Need a Sugar Test**  \n",
        "\n",
        "Dr. Kwame wants to **mark patients as \"Tested\" or \"Not Tested\"** based on a list.  "
      ],
      "metadata": {
        "id": "A2xNF-3rLIHj"
      }
    },
    {
      "cell_type": "code",
      "source": [
        "all_patients = [\"Alice\", \"Ben\", \"Cynthia\", \"David\", \"Emma\"]\n",
        "tested_patients = [\"Alice\", \"David\"]\n",
        "\n",
        "test_status = [\"Tested\" if patient in tested_patients else \"Not Tested\" for patient in all_patients]\n",
        "print(test_status)"
      ],
      "metadata": {
        "id": "X-V7W8IqLIHj"
      },
      "outputs": [],
      "execution_count": null
    },
    {
      "cell_type": "markdown",
      "source": [
        "### **✅ Solution:**"
      ],
      "metadata": {
        "id": "qscBu7swLIHj"
      }
    },
    {
      "cell_type": "code",
      "source": [
        "all_patients = [\"Kwame\", \"Aisha\", \"Felix\", \"Linda\", \"Kojo\"]\n",
        "vaccinated = [\"Kwame\", \"Linda\"]\n",
        "\n",
        "vaccine_status = [\"Vaccinated\" if p in vaccinated else \"Unvaccinated\" for p in all_patients]\n",
        "print(vaccine_status)"
      ],
      "metadata": {
        "id": "0r_3MNLYLIH1"
      },
      "outputs": [],
      "execution_count": null
    },
    {
      "cell_type": "markdown",
      "source": [
        "## **📝 Mini Quizzes! (Help Dr. Kwame) 🎯**  \n",
        "\n",
        "### **🔍 Quiz 1: Labeling Overweight Patients**  \n",
        "\n",
        "A patient with a **BMI greater than 25** is **\"Overweight\"**, otherwise **\"Healthy\"**.  \n",
        "Write a **list comprehension** to assign these labels."
      ],
      "metadata": {
        "id": "6CBUOWFLLIH2"
      }
    },
    {
      "cell_type": "code",
      "source": [
        "bmi_values = [22, 26, 30, 24, 28, 19, 27]\n",
        "bmi_labels = [____ if ____ else ____ for ____ in bmi_values]\n",
        "print(bmi_labels)"
      ],
      "metadata": {
        "id": "a5pEUYGKLIH3"
      },
      "outputs": [],
      "execution_count": null
    },
    {
      "cell_type": "markdown",
      "source": [
        "✅ **Answer:**  "
      ],
      "metadata": {
        "id": "JQkaWRqHLIH3"
      }
    },
    {
      "cell_type": "code",
      "source": [
        "bmi_labels = [\"Healthy\" if bmi <= 25 else \"Overweight\" for bmi in bmi_values]\n",
        "print(bmi_labels)"
      ],
      "metadata": {
        "id": "HmAN1tTKLIH3"
      },
      "outputs": [],
      "execution_count": null
    },
    {
      "cell_type": "markdown",
      "source": [
        "### **🏆 Quiz 2: Sugar Level Classification**  \n",
        "\n",
        "Dr. Kwame needs to classify sugar levels:  \n",
        "- **\"Low\"** if **below 70 mg/dL**  \n",
        "- **\"Normal\"** otherwise  "
      ],
      "metadata": {
        "id": "QQ9ErF_qLIH3"
      }
    },
    {
      "cell_type": "code",
      "source": [
        "sugar_levels = [85, 65, 72, 69, 90, 58, 75]\n",
        "sugar_labels = [____ if ____ else ____ for ____ in sugar_levels]\n",
        "print(sugar_labels)"
      ],
      "metadata": {
        "id": "D7Gcw3z9LIH4"
      },
      "outputs": [],
      "execution_count": null
    },
    {
      "cell_type": "markdown",
      "source": [
        "✅ **Answer:**  "
      ],
      "metadata": {
        "id": "Ed8YuXMILIH4"
      }
    },
    {
      "cell_type": "code",
      "source": [
        "sugar_labels = [\"Low\" if sugar < 70 else \"Normal\" for sugar in sugar_levels]\n",
        "print(sugar_labels)"
      ],
      "metadata": {
        "id": "WncVc7UxLIH4"
      },
      "outputs": [],
      "execution_count": null
    },
    {
      "cell_type": "markdown",
      "source": [
        "### **🧪 Quiz 3: Smoking Status**  \n",
        "\n",
        "Dr. Kwame needs to **mark smokers** from a list."
      ],
      "metadata": {
        "id": "xg1XqUZWLIH4"
      }
    },
    {
      "cell_type": "code",
      "source": [
        "patients = [\"Kwame-smoker\", \"Kojo\", \"Felix-smoker\", \"Aisha\", \"Linda\"]\n",
        "smoker_status = [____ if \"smoker\" in ____ else ____ for ____ in patients]\n",
        "print(smoker_status)"
      ],
      "metadata": {
        "id": "g1mxy9BwLIH5"
      },
      "outputs": [],
      "execution_count": null
    },
    {
      "cell_type": "markdown",
      "source": [
        "✅ **Answer:**  "
      ],
      "metadata": {
        "id": "CdO_-cfaLIH5"
      }
    },
    {
      "cell_type": "code",
      "source": [
        "smoker_status = [\"Smoker\" if \"smoker\" in p else \"Non-Smoker\" for p in patients]\n",
        "print(smoker_status)"
      ],
      "metadata": {
        "id": "BfcXhYsqLIH5"
      },
      "outputs": [],
      "execution_count": null
    },
    {
      "cell_type": "markdown",
      "source": [
        "### **🔍 Quiz 4: Categorizing Patient Age Groups**  \n",
        "\n",
        "Dr. Kwame wants to label patients as:  \n",
        "- **\"Senior\"** if **above 50**  \n",
        "- **\"Adult\"** otherwise  "
      ],
      "metadata": {
        "id": "oOtrJOB_LIH5"
      }
    },
    {
      "cell_type": "code",
      "source": [
        "ages = [45, 52, 37, 60, 48, 55, 62]\n",
        "age_group = [____ if ____ else ____ for ____ in ages]\n",
        "print(age_group)"
      ],
      "metadata": {
        "id": "l0DAL2J6LIH6"
      },
      "outputs": [],
      "execution_count": null
    },
    {
      "cell_type": "markdown",
      "source": [
        "✅ **Answer:**  "
      ],
      "metadata": {
        "id": "gB-Y_98uLIH6"
      }
    },
    {
      "cell_type": "code",
      "source": [
        "age_group = [\"Senior\" if age > 50 else \"Adult\" for age in ages]\n",
        "print(age_group)"
      ],
      "metadata": {
        "id": "uFvG1Tq2LIH6"
      },
      "outputs": [],
      "execution_count": null
    },
    {
      "cell_type": "markdown",
      "source": [
        "## **🚀 Summary of Concept 3**\n",
        "✅ **If-Else in list comprehension helps categorize data.**  \n",
        "✅ The **format** is:  \n",
        "   ```python\n",
        "   [expression_if_true if condition else expression_if_false for item in iterable]\n",
        "   ```\n",
        "✅ **Dr. Kwame’s Use Cases:**  \n",
        "   - Labeling **fever severity**  \n",
        "   - Categorizing **blood pressure**  \n",
        "   - Assigning **vaccination status**  "
      ],
      "metadata": {
        "id": "VpRLO1DbLIH6"
      }
    },
    {
      "cell_type": "markdown",
      "source": [
        "# **🌟 Concept 4: Nested List Comprehensions**  \n",
        "\n",
        "Now that Dr. Kwame can **filter** and **categorize** patients, what if he needs to **process multiple lists at once**?  \n",
        "\n",
        "This is where **nested list comprehensions** come in! 🎯  "
      ],
      "metadata": {
        "id": "YPqr7hurLIH7"
      }
    },
    {
      "cell_type": "markdown",
      "source": [
        "## **👨‍⚕️ Dr. Kwame’s Challenge: Processing Multiple Health Metrics**  \n",
        "\n",
        "He has a **list of patient temperature records** for multiple days.  \n",
        "He wants to **categorize each day's temperature** as:  \n",
        "- **\"Normal\"** if **≤ 38°C**  \n",
        "- **\"High Fever\"** if **> 38°C**  "
      ],
      "metadata": {
        "id": "A6M0i4TbLIH7"
      }
    },
    {
      "cell_type": "markdown",
      "source": [
        "## **🩺 Task 1: Labeling Multiple Fever Readings**  \n",
        "\n",
        "### **🚀 Solution using Nested List Comprehension:**  "
      ],
      "metadata": {
        "id": "zweOzLkFLIH8"
      }
    },
    {
      "cell_type": "code",
      "source": [
        "temperature_records = [\n",
        "    [36, 37, 38, 39],\n",
        "    [40, 37, 39, 38],\n",
        "    [36, 39, 41, 37]\n",
        "]\n",
        "\n",
        "fever_labels = [[\"Normal\" if temp <= 38 else \"High Fever\" for temp in day] for day in temperature_records]\n",
        "print(fever_labels)"
      ],
      "metadata": {
        "id": "ZNAjl1w9LIH8"
      },
      "outputs": [],
      "execution_count": null
    },
    {
      "cell_type": "markdown",
      "source": [
        "✔️ Now, every **day’s readings are categorized!**  "
      ],
      "metadata": {
        "id": "FFJRBchmLIH9"
      }
    },
    {
      "cell_type": "markdown",
      "source": [
        "## **🏥 Task 2: Categorizing Oxygen Levels Across Wards**  \n",
        "\n",
        "Dr. Kwame has **oxygen levels of patients** from different hospital wards.  \n",
        "He needs to classify them as **\"Safe\"** (≥ 92%) or **\"Low\"** (< 92%).  "
      ],
      "metadata": {
        "id": "7tnIy_AoLIH9"
      }
    },
    {
      "cell_type": "markdown",
      "source": [
        "### **✅ Solution:**  "
      ],
      "metadata": {
        "id": "1bVrxYwILIH9"
      }
    },
    {
      "cell_type": "code",
      "source": [
        "oxygen_wards = [\n",
        "    [98, 96, 91],\n",
        "    [89, 97, 90],\n",
        "    [92, 95, 88]\n",
        "]\n",
        "\n",
        "oxygen_status = [[\"Safe\" if level >= 92 else \"Low\" for level in ward] for ward in oxygen_wards]\n",
        "print(oxygen_status)"
      ],
      "metadata": {
        "id": "NXpOGsUqLIH9"
      },
      "outputs": [],
      "execution_count": null
    },
    {
      "cell_type": "markdown",
      "source": [
        "✔️ Now, **every ward’s patients are classified!**  "
      ],
      "metadata": {
        "id": "dK2bYLwnLIH-"
      }
    },
    {
      "cell_type": "markdown",
      "source": [
        "## **📝 Mini Quiz (Final Test for Dr. Kwame!)**  \n",
        "\n",
        "### **🔍 Quiz: Categorizing Sugar Levels Across Departments**  \n",
        "\n",
        "Dr. Kwame has **sugar levels** from different hospital departments.  \n",
        "He wants to **categorize them as:**  \n",
        "- **\"Low\"** if **below 70 mg/dL**  \n",
        "- **\"Normal\"** otherwise  \n",
        "\n",
        "Complete the list comprehension:  "
      ],
      "metadata": {
        "id": "SDJIa7ArLIH-"
      }
    },
    {
      "cell_type": "code",
      "source": [
        "sugar_departments = [\n",
        "    [85, 65, 72],\n",
        "    [69, 90, 58],\n",
        "    [75, 67, 80]\n",
        "]\n",
        "\n",
        "sugar_labels = [[____ if ____ else ____ for ____ in department] for ____ in sugar_departments]\n",
        "print(sugar_labels)"
      ],
      "metadata": {
        "id": "5XE_7RIfLIH-"
      },
      "outputs": [],
      "execution_count": null
    },
    {
      "cell_type": "markdown",
      "source": [
        "✅ **Answer:**  "
      ],
      "metadata": {
        "id": "0FF76YubLIH_"
      }
    },
    {
      "cell_type": "code",
      "source": [
        "sugar_labels = [[\"Low\" if sugar < 70 else \"Normal\" for sugar in department] for department in sugar_departments]\n",
        "print(sugar_labels)"
      ],
      "metadata": {
        "id": "wHcTLXNiLIH_"
      },
      "outputs": [],
      "execution_count": null
    },
    {
      "cell_type": "markdown",
      "source": [
        "## **🚀 Summary of Concept 4**  \n",
        "✅ **Nested list comprehensions process multiple lists at once.**  \n",
        "✅ The **format** is:  \n",
        "   ```python\n",
        "   [[expression for item in sublist] for sublist in iterable]\n",
        "   ```\n",
        "✅ **Dr. Kwame’s Use Cases:**  \n",
        "   - **Daily fever tracking**  \n",
        "   - **Oxygen monitoring across wards**  \n",
        "   - **Hospital-wide sugar level classification**  \n",
        "\n",
        "🎯 **Dr. Kwame is now a PRO at list comprehensions!** 🚀  \n"
      ],
      "metadata": {
        "id": "tgqfVVuoLIH_"
      }
    },
    {
      "cell_type": "code",
      "source": [],
      "metadata": {
        "id": "RQpWg51lLIIA"
      },
      "outputs": [],
      "execution_count": null
    },
    {
      "cell_type": "markdown",
      "source": [
        "# Week 2"
      ],
      "metadata": {
        "id": "TnrqY00uLIIA"
      }
    },
    {
      "cell_type": "markdown",
      "source": [
        "## **Control Structures**  \n",
        "\n",
        "Control structures are fundamental in programming, allowing us to control the flow of execution based on conditions and loops. The most common control structures include:  \n",
        "\n",
        "- **Conditional Statements (`if-else`)** – Execute different code blocks based on conditions.  \n",
        "- **Loops (`for`, `while`)** – Repeat a block of code multiple times.  \n",
        "\n",
        "---"
      ],
      "metadata": {
        "id": "wnjnKDV_LIIA"
      }
    },
    {
      "cell_type": "markdown",
      "source": [
        "### Using if-else statements\n",
        "\n",
        "\n",
        "In programming, `if-else` statements are used to execute different blocks of code based on certain conditions.\n",
        "\n",
        "### Syntax\n"
      ],
      "metadata": {
        "id": "DKO54bAcLIIA"
      }
    },
    {
      "cell_type": "markdown",
      "source": [
        "```python\n",
        "if condition:\n",
        "    # Code to execute if condition is True\n",
        "else:\n",
        "    # Code to execute if condition is False\n",
        "```"
      ],
      "metadata": {
        "id": "r98a2SJoLIIB"
      }
    },
    {
      "cell_type": "code",
      "source": [
        "# Example: Checking if a patient's blood pressure is normal, high, or low\n",
        "blood_pressure = 140\n",
        "\n",
        "if blood_pressure < 90:\n",
        "    print(\"The patient's blood pressure is low.\")\n",
        "elif 90 <= blood_pressure <= 120:\n",
        "    print(\"The patient's blood pressure is normal.\")\n",
        "else:\n",
        "    print(\"The patient's blood pressure is high. Recommend lifestyle changes.\")"
      ],
      "metadata": {
        "id": "eV-ReBtMLIIB"
      },
      "outputs": [],
      "execution_count": null
    },
    {
      "cell_type": "markdown",
      "source": [
        "### **Using Loops in Python**\n",
        "\n",
        "Loops are fundamental control structures in Python that allow repetitive execution of code. Python provides two main types of loops:  \n",
        "\n",
        "- **For Loop**: Used for iterating over a sequence (e.g., lists, tuples, ranges).  \n",
        "- **While Loop**: Repeats execution as long as a condition remains `True`.  \n",
        "\n",
        "---\n",
        "\n",
        "### **1. For Loops**  \n",
        "\n",
        "A `for` loop is commonly used when the number of iterations is known or when iterating through a sequence.  \n",
        "\n",
        "### **2. While Loops**\n",
        "A `while` loop continues execution as long as a condition remains True. It is useful when the number of iterations is unknown beforehand.\n"
      ],
      "metadata": {
        "id": "qUk_D1AFLIIB"
      }
    },
    {
      "cell_type": "markdown",
      "source": [
        "### Example: Using loops to check multiple patients' temperatures"
      ],
      "metadata": {
        "id": "ngXwJaFRLIIC"
      }
    },
    {
      "cell_type": "code",
      "source": [
        "# For Loop\n",
        "temperatures = [36.5, 37.2, 38.1, 39.0, 36.8]\n",
        "print(\"Checking patient temperatures:\")\n",
        "for temp in temperatures:\n",
        "    if temp > 37.5:\n",
        "        print(f\"Temperature {temp}°C - Fever detected!\")\n",
        "    else:\n",
        "        print(f\"Temperature {temp}°C - Normal.\")"
      ],
      "metadata": {
        "id": "UbBOCSogLIIC"
      },
      "outputs": [],
      "execution_count": null
    },
    {
      "cell_type": "code",
      "source": [
        "# while loop\n",
        "print(\"Checking patient temperatures:\")\n",
        "\n",
        "index = 0  # Initialize index\n",
        "while index < len(temperatures):\n",
        "    temp = temperatures[index]\n",
        "    if temp > 37.5:\n",
        "        print(f\"Temperature {temp}°C - Fever detected!\")\n",
        "    else:\n",
        "        print(f\"Temperature {temp}°C - Normal.\")\n",
        "    index += 1  # Move to the next element\n"
      ],
      "metadata": {
        "id": "ZLdlYf3WLIIC"
      },
      "outputs": [],
      "execution_count": null
    },
    {
      "cell_type": "markdown",
      "source": [
        "### **Exercise One**\n",
        "Write a condition to check if a patient's BMI is underweight (<18.5), normal (18.5-24.9), or overweight (>=25)."
      ],
      "metadata": {
        "id": "IcaruEpeLIIC"
      }
    },
    {
      "cell_type": "markdown",
      "source": [
        "<details>\n",
        "  <summary>💡 Click for Answer</summary>\n",
        "\n",
        "```python\n",
        "bmi = 22.5 # You can change this value to test the code.\n",
        "if bmi < 18.5:\n",
        "    print(\"Underweight\")\n",
        "elif 18.5 <= bmi <= 24.9:\n",
        "    print(\"Normal weight\")\n",
        "else:\n",
        "    print(\"Overweight\")\n",
        "```\n",
        "</details>"
      ],
      "metadata": {
        "id": "OoVNmGFrLIID"
      }
    },
    {
      "cell_type": "markdown",
      "source": [
        "### **Exercise Two**\n",
        "Use a for loop to print out the names of five patients in a list."
      ],
      "metadata": {
        "id": "3GJs25WcLIID"
      }
    },
    {
      "cell_type": "markdown",
      "source": [
        "<details>\n",
        "  <summary>💡 Click for Answer</summary>\n",
        "\n",
        "```python    \n",
        "patients = [\"Alice\", \"Bob\", \"Charlie\", \"David\", \"Eve\"]\n",
        "for patient in patients:\n",
        "    print(patient)\n",
        "```\n",
        "    \n",
        "</details>"
      ],
      "metadata": {
        "id": "czUBMzWQLIID"
      }
    },
    {
      "cell_type": "markdown",
      "source": [
        "## Filtering MRI Slices Using List Comprehension  \n",
        "\n",
        "### Introduction  \n",
        "MRI scans are composed of multiple slices, each with a certain intensity value. Sometimes, we need to filter out slices with high intensity for further analysis. One efficient way to achieve this in Python is by using **list comprehension**.  \n",
        "\n",
        "### What is List Comprehension?  \n",
        "List comprehension is a concise way to create lists in Python. It follows the syntax:  \n",
        "\n",
        "```python\n",
        "[new_item for item in iterable if condition]\n"
      ],
      "metadata": {
        "id": "ycUHwgpuLIID"
      }
    },
    {
      "cell_type": "markdown",
      "source": [
        "* new_item: The value to store in the new list.\n",
        "* iterable: The sequence we are iterating over.\n",
        "* condition: A filter to include only certain elements."
      ],
      "metadata": {
        "id": "ksL5SPONLIIE"
      }
    },
    {
      "cell_type": "markdown",
      "source": [
        "### Example: Filtering High-Intensity MRI Slices\n",
        "\n",
        "Suppose each MRI slice has a mean intensity value, and we want to identify slices with intensity greater than 100.\n",
        "\n",
        "### Given intensity values:"
      ],
      "metadata": {
        "id": "3ECw-mY2LIIE"
      }
    },
    {
      "cell_type": "code",
      "source": [
        "slice_intensities = [80, 95, 102, 110, 120, 85, 90, 150, 160, 88]"
      ],
      "metadata": {
        "id": "t8n23IZ5LIIE"
      },
      "outputs": [],
      "execution_count": null
    },
    {
      "cell_type": "markdown",
      "source": [
        "### Using List Comprehension\n",
        "\n",
        "We can efficiently filter out high-intensity slices with:"
      ],
      "metadata": {
        "id": "vb9PFAN8LIIF"
      }
    },
    {
      "cell_type": "code",
      "source": [
        "# Identify high-intensity slices\n",
        "high_intensity_slices = [intensity for intensity in slice_intensities if intensity > 100]\n",
        "print(\"High-intensity slices:\", high_intensity_slices)"
      ],
      "metadata": {
        "id": "UvMgqI51LIIF"
      },
      "outputs": [],
      "execution_count": null
    },
    {
      "cell_type": "markdown",
      "source": [
        "Now try out the following exercises."
      ],
      "metadata": {
        "id": "tRTyjD8nLIIF"
      }
    },
    {
      "cell_type": "markdown",
      "source": [
        "### Exercise One\n",
        "Create a list of squared values of all slice intensities."
      ],
      "metadata": {
        "id": "tx5T86QFLIIF"
      }
    },
    {
      "cell_type": "markdown",
      "source": [
        "<details>\n",
        "  <summary>💡 Click for Answer</summary>\n",
        "\n",
        "```python\n",
        "squared_intensities = [intensity ** 2 for intensity in slice_intensities]\n",
        "print(\"Squared Intensities:\", squared_intensities)\n",
        "\n",
        "```\n",
        "</details>"
      ],
      "metadata": {
        "id": "SHWzALCdLIIG"
      }
    },
    {
      "cell_type": "markdown",
      "source": [
        "### Exercise Two\n",
        "Filter and retain only even intensity values."
      ],
      "metadata": {
        "id": "LF_fi30rLIIG"
      }
    },
    {
      "cell_type": "markdown",
      "source": [
        "<details>\n",
        "  <summary>💡 Click for Answer</summary>\n",
        "\n",
        "```python\n",
        "even_intensities = [intensity for intensity in slice_intensities if intensity % 2 == 0]\n",
        "print(\"Even Intensities:\", even_intensities)\n",
        "\n",
        "```\n",
        "</details>"
      ],
      "metadata": {
        "id": "NEbfCunWLIIG"
      }
    },
    {
      "cell_type": "markdown",
      "source": [
        "### Exercise Three\n",
        "Normalize the intensity values to a range of 0 to 1 (assuming max intensity is 160)."
      ],
      "metadata": {
        "id": "hLJ-YE_6LIIG"
      }
    },
    {
      "cell_type": "markdown",
      "source": [
        "<details>\n",
        "  <summary>💡 Click for Answer</summary>\n",
        "\n",
        "```python\n",
        "normalized_intensities = [intensity / 160 for intensity in slice_intensities]\n",
        "print(\"Normalized Intensities:\", normalized_intensities)\n",
        "\n",
        "```\n",
        "</details>"
      ],
      "metadata": {
        "id": "YhiaIepeLIIH"
      }
    },
    {
      "cell_type": "markdown",
      "source": [
        "### Exercise Four\n",
        "Create a new list with labels: \"High\" if intensity > 100, else \"Low\".\n"
      ],
      "metadata": {
        "id": "AVfrplGbLIIH"
      }
    },
    {
      "cell_type": "markdown",
      "source": [
        "<details>\n",
        "  <summary>💡 Click for Answer</summary>\n",
        "\n",
        "```python\n",
        "intensity_labels = [\"High\" if intensity > 100 else \"Low\" for intensity in slice_intensities]\n",
        "print(\"Intensity Labels:\", intensity_labels)\n",
        "\n",
        "```\n",
        "</details>"
      ],
      "metadata": {
        "id": "K7hFti0LLIIH"
      }
    },
    {
      "cell_type": "markdown",
      "source": [
        "## Indexing and Slicing with NumPy\n",
        "\n",
        "We have previously explored indexing and slicing in Python. Now, we will use the powerful `NumPy` library to perform indexing and slicing on arrays efficiently.\n",
        "\n",
        "### Importing NumPy\n",
        "Before we begin, we need to import NumPy:\n",
        "\n"
      ],
      "metadata": {
        "id": "Lsn6XIhMLIIH"
      }
    },
    {
      "cell_type": "markdown",
      "source": [
        "## Creating a NumPy Array\n",
        "\n",
        "Let's start by creating a simple NumPy array:"
      ],
      "metadata": {
        "id": "Bo31dOk9LIII"
      }
    },
    {
      "cell_type": "code",
      "source": [
        "# Creating a NumPy array for patient glucose levels\n",
        "glucose_levels = np.array([90, 110, 150, 130, 95])\n",
        "print(\"Patient glucose levels:\", glucose_levels)"
      ],
      "metadata": {
        "id": "AxpILTrgLIII"
      },
      "outputs": [],
      "execution_count": null
    },
    {
      "cell_type": "markdown",
      "source": [
        "## Basic Indexing\n",
        "\n",
        "Indexing in NumPy works similarly to lists in Python:"
      ],
      "metadata": {
        "id": "rvfjwLIrLIII"
      }
    },
    {
      "cell_type": "code",
      "source": [
        "print(glucose_levels[0])  # First element\n",
        "print(glucose_levels[-1]) # Last element"
      ],
      "metadata": {
        "id": "chCcOlLxLIIJ"
      },
      "outputs": [],
      "execution_count": null
    },
    {
      "cell_type": "markdown",
      "source": [
        "## Slicing a NumPy Array\n",
        "\n",
        "Slicing in NumPy follows the syntax [start:stop:step]. Each parameter in the slice notation has a specific role:\n",
        "\n",
        "* start (optional) – The index where the slice begins (inclusive).\n",
        "* stop (required) – The index where the slice ends (exclusive).\n",
        "* step (optional) – The interval between elements. If omitted, it defaults to 1."
      ],
      "metadata": {
        "id": "bQlREHFbLIIJ"
      }
    },
    {
      "cell_type": "markdown",
      "source": [
        "### 1. Basic Slicing"
      ],
      "metadata": {
        "id": "q7MCgF8cLIIJ"
      }
    },
    {
      "cell_type": "code",
      "source": [
        "arr = np.array([10, 20, 30, 40, 50])\n",
        "\n",
        "print(arr[1:4])  # Output: [20 30 40]\n",
        "# Starts at index 1 (value 20).\n",
        "# Stops at index 4 (value 50, but not included)."
      ],
      "metadata": {
        "id": "FpcpbKO1LIIJ"
      },
      "outputs": [],
      "execution_count": null
    },
    {
      "cell_type": "markdown",
      "source": [
        "### 2. Omitting start or stop"
      ],
      "metadata": {
        "id": "UzPf8QgYLIIK"
      }
    },
    {
      "cell_type": "code",
      "source": [
        "print(arr[:3])   # Output: [10 20 30]  (Defaults start to 0)\n",
        "# [:3] starts from index 0 and stops at index 3.\n",
        "\n",
        "print(arr[2:])   # Output: [30 40 50]  (Defaults stop to end of array)\n",
        "# [2:] starts from index 2 and goes to the end."
      ],
      "metadata": {
        "id": "IXv8-CwYLIIK"
      },
      "outputs": [],
      "execution_count": null
    },
    {
      "cell_type": "markdown",
      "source": [
        "### 3. Using step"
      ],
      "metadata": {
        "id": "KZXmY2cCLIIK"
      }
    },
    {
      "cell_type": "code",
      "source": [
        "print(arr[::2])  # Output: [10 30 50] (Every second element)\n",
        "# [::2] selects every second element (step = 2).\n",
        "\n",
        "print(arr[1:5:2]) # Output: [20 40] (From index 1 to 4, skipping 1 element)\n",
        "# [1:5:2] starts at index 1, stops at index 5, and selects every second element."
      ],
      "metadata": {
        "id": "CpVu9N1KLIIK"
      },
      "outputs": [],
      "execution_count": null
    },
    {
      "cell_type": "markdown",
      "source": [
        "### 4. Negative step for Reversing"
      ],
      "metadata": {
        "id": "ps42OiJvLIIL"
      }
    },
    {
      "cell_type": "code",
      "source": [
        "print(arr[::-1])  # Output: [50 40 30 20 10] (Reversed array)\n",
        "# [::-1] reverses the array.\n",
        "\n",
        "print(arr[4:1:-1]) # Output: [50 40 30] (Reverse slice from index 4 to 2)\n",
        "# [4:1:-1] starts at index 4, moves backward to 2 (since 1 is excluded)."
      ],
      "metadata": {
        "id": "NoxpqSEhLIIL"
      },
      "outputs": [],
      "execution_count": null
    },
    {
      "cell_type": "markdown",
      "source": [
        "### Summary Table\n",
        "\n",
        "| Syntax         | Meaning                                  |\n",
        "|:--------------|:-----------------------------------------|\n",
        "| `arr[start:stop]` | Slices from `start` to `stop - 1` |\n",
        "| `arr[:stop]`    | Slices from the beginning to `stop - 1` |\n",
        "| `arr[start:]`   | Slices from `start` to the end |\n",
        "| `arr[::step]`   | Slices the whole array with step `step` |\n",
        "| `arr[::-1]`     | Reverses the array |\n",
        "\n"
      ],
      "metadata": {
        "id": "TqwvHmnrLIIL"
      }
    },
    {
      "cell_type": "markdown",
      "source": [
        "## Array Operations\n",
        "We can perform element-wise addition, subtraction, multiplication, and division.\n",
        "\n",
        "Below is an example showing how Numpy array operations work."
      ],
      "metadata": {
        "id": "v92R6NfyLIIM"
      }
    },
    {
      "cell_type": "code",
      "source": [
        "# Example: Comparing two sets of cholesterol readings\n",
        "cholesterol_day1 = np.array([180, 200, 220])\n",
        "cholesterol_day2 = np.array([190, 195, 210])\n",
        "\n",
        "# Addition (Total cholesterol over two days)\n",
        "total_cholesterol = cholesterol_day1 + cholesterol_day2\n",
        "print(\"Total cholesterol levels over two days:\", total_cholesterol)\n",
        "\n",
        "# Subtraction (Change in cholesterol levels)\n",
        "cholesterol_change = cholesterol_day2 - cholesterol_day1\n",
        "print(\"Change in cholesterol levels:\", cholesterol_change)\n",
        "\n",
        "# Multiplication (Cholesterol impact factor)\n",
        "impact_factor = cholesterol_day1 * 1.2  # Assuming a factor for analysis\n",
        "print(\"Cholesterol impact factor:\", impact_factor)\n",
        "\n",
        "# Division (Cholesterol ratio between two days)\n",
        "cholesterol_ratio = cholesterol_day2 / cholesterol_day1\n",
        "print(\"Cholesterol ratio between day 1 and day 2:\", cholesterol_ratio)"
      ],
      "metadata": {
        "id": "h4I6AUaOLIIM"
      },
      "outputs": [],
      "execution_count": null
    },
    {
      "cell_type": "markdown",
      "source": [
        "Now try out the following exercises."
      ],
      "metadata": {
        "id": "cMLxlC3DLIIM"
      }
    },
    {
      "cell_type": "markdown",
      "source": [
        "### Exercise One\n",
        "Create a NumPy array called systolic_bp with five systolic blood pressure readings and find the maximum and minimum values."
      ],
      "metadata": {
        "id": "szVymksDLIIM"
      }
    },
    {
      "cell_type": "markdown",
      "source": [
        "<details>\n",
        "  <summary>💡 Click for Answer</summary>\n",
        "\n",
        "```python\n",
        "systolic_bp = np.array([120, 135, 140, 110, 125])\n",
        "print(\"Max BP:\", np.max(systolic_bp))\n",
        "print(\"Min BP:\", np.min(systolic_bp))\n",
        "\n",
        "```\n",
        "</details>"
      ],
      "metadata": {
        "id": "2ZoQ35xXLIIN"
      }
    },
    {
      "cell_type": "markdown",
      "source": [
        "### Exercise Two\n",
        "Slice the first three values from the systolic_bp Numpy array."
      ],
      "metadata": {
        "id": "PyGrDqWALIIN"
      }
    },
    {
      "cell_type": "markdown",
      "source": [
        "<details>\n",
        "  <summary>💡 Click for Answer</summary>\n",
        "\n",
        "```python\n",
        "print(\"First three heart rates:\", systolic_bp[:3])\n",
        "```\n",
        "</details>"
      ],
      "metadata": {
        "id": "-5RfwqkOLIIN"
      }
    },
    {
      "cell_type": "markdown",
      "source": [
        "\n",
        "\n",
        "### Exercise Three\n",
        "\n",
        "Create a 2D NumPy array representing glucose readings over two days for three patients and extract the readings of the second patient.\n"
      ],
      "metadata": {
        "id": "56PWKhQNLIIO"
      }
    },
    {
      "cell_type": "markdown",
      "source": [
        "<details>\n",
        "  <summary>💡 Click for Answer</summary>\n",
        "\n",
        "```python\n",
        "glucose_readings = np.array([[90, 110, 120], [100, 105, 115]])\n",
        "print(\"Second patient's glucose readings:\", glucose_readings[1])\n",
        "\n",
        "```\n",
        "</details>"
      ],
      "metadata": {
        "id": "MBs0hQDuLIIO"
      }
    },
    {
      "cell_type": "code",
      "source": [],
      "metadata": {
        "id": "BPLRnBR8LIIO"
      },
      "outputs": [],
      "execution_count": null
    }
  ]
}