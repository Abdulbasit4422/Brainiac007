{
  "nbformat": 4,
  "nbformat_minor": 0,
  "metadata": {
    "colab": {
      "provenance": [],
      "authorship_tag": "ABX9TyOIlFQmKTvNmPecNLOY1Wir",
      "include_colab_link": true
    },
    "kernelspec": {
      "name": "python3",
      "display_name": "Python 3"
    },
    "language_info": {
      "name": "python"
    }
  },
  "cells": [
    {
      "cell_type": "markdown",
      "metadata": {
        "id": "view-in-github",
        "colab_type": "text"
      },
      "source": [
        "<a href=\"https://colab.research.google.com/github/Abdulbasit4422/Brainiac007/blob/main/Guessing_Game_.ipynb\" target=\"_parent\"><img src=\"https://colab.research.google.com/assets/colab-badge.svg\" alt=\"Open In Colab\"/></a>"
      ]
    },
    {
      "cell_type": "code",
      "execution_count": 4,
      "metadata": {
        "id": "aZ29kcV9kqVu"
      },
      "outputs": [],
      "source": [
        "import numpy as np"
      ]
    },
    {
      "cell_type": "code",
      "source": [
        "import random"
      ],
      "metadata": {
        "id": "A4DOTVdQnBag"
      },
      "execution_count": 5,
      "outputs": []
    },
    {
      "cell_type": "code",
      "source": [
        "def guessing_game():\n",
        "  #To generate a random number between 1 and 200#\n",
        "  while True:\n",
        "    for x in [np.random.randint(0,201)]:\n",
        "      answer = input('Guess number between 1-200:')\n",
        "      if answer.isdigit():\n",
        "        if int(answer) in range(0,201):\n",
        "          if int(answer) == x:\n",
        "           print (\"Congratulations, You've just guessed the number right!\")\n",
        "           break\n",
        "          elif int(answer) > x:\n",
        "           print ('Oh!,That is too high! Kindly try again!')\n",
        "          else:\n",
        "           print ('Oh!,That is too low! Kindly try again!')\n",
        "        else:\n",
        "         print('Number is out of range of 1 to 200')\n",
        "      else:\n",
        "       print(f' Your text is: {answer}! Input a Number instead! ')\n",
        "\n",
        "\n"
      ],
      "metadata": {
        "id": "FotvChQIoPbP"
      },
      "execution_count": 6,
      "outputs": []
    }
  ]
}